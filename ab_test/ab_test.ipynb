{
 "cells": [
  {
   "cell_type": "markdown",
   "id": "0d50a0b3-22f9-4508-9dfc-63695dc05532",
   "metadata": {},
   "source": [
    "# A/B-тестирование в рамках работы с отделом маркетинга интернет-магазина."
   ]
  },
  {
   "cell_type": "markdown",
   "id": "786a1a32-dfd7-43ef-9935-4b237db8fc45",
   "metadata": {},
   "source": [
    "# Описание проекта"
   ]
  },
  {
   "cell_type": "markdown",
   "id": "0518d292-7a5c-4bbb-ba05-11128aed0c14",
   "metadata": {},
   "source": [
    "В рамках совместной работы с отделом маркетинга интернет-магазина был подготовлен список гипотез для увеличения выручки.\n",
    "\n",
    "<b> Цель исследования: </b> <br> необходимо приотизировать гипотезы, провести A/B-тестирование и проанализировать результаты с т.зр. влияния метрик на изменение выручки.\n",
    "\n",
    "<b> В ходе исследования </b> применены методы `ICE` и `RICE` для приоритезации гипотез, изучены следующие метрики: кумулятивная выручка, размер среднего чека, среднее количество заказов на посетителя.\n",
    "\n",
    "На основании указанных метрик, а также определения границ аномальных значений и определения статистической значимости различий между группами, сформировано итоговое решение о результатах А/В тестирования."
   ]
  },
  {
   "cell_type": "markdown",
   "id": "1509e5a0-cf2f-4731-9154-8425bddd2c98",
   "metadata": {},
   "source": [
    "# План работы:\n",
    "\n",
    "1. Загрузка данных\n",
    "2. Предобработка данных \n",
    "3. Приоритезация гипотез\n",
    "4. Анализ A/B-теста.<br>\n",
    "5. Общие выводы<br>"
   ]
  },
  {
   "cell_type": "markdown",
   "id": "66b98009-92f8-4da0-8e3e-9997c9f67b67",
   "metadata": {},
   "source": [
    "# Описание данных\n",
    "\n",
    "Для проведения анализа нам предоставлены три csv-файла с информацией о гипотезах, заказах и посетителях интернет-магазина.\n",
    "\n",
    "Информация о гипотезах хранится в файле `hypothesis.csv`\n",
    "\n",
    "- `Hypothesis` - краткое описание гипотезы\n",
    "- `Reach` - охват пользователей по 10-балльной шкале\n",
    "- `Impact` - влияние на пользователей по 10-балльной шкале\n",
    "- `Confidence` - уверенность в гипотезе по 10-балльной шкале\n",
    "- `Efforts` - затраты ресурсов на проверку гипотезы по 10-балльной шкале.\n",
    "\n",
    "Информация о заказах хранится в файле `orders.csv`\n",
    "\n",
    "- `transactionId` - идентификатор заказа\n",
    "- `visitorId` - идентификатор пользователя, совершившего заказ\n",
    "- `date` - дата, когда был совершён заказ\n",
    "- `revenue` - выручка заказа\n",
    "- `group` -  группа A/B-теста, в которую попал заказ.\n",
    "\n",
    "\n",
    "Информация о посетителях интернет-магазина хранится в файле `visitors.csv`\n",
    "\n",
    "- `date` - дата\n",
    "- `group` - группа A/B-теста\n",
    "- `visitors` - количество пользователей в указанную дату в указанной группе A/B-теста."
   ]
  },
  {
   "cell_type": "markdown",
   "id": "1a3834f5-480b-4581-84a5-f39d6e4048f4",
   "metadata": {},
   "source": [
    "<a id=\"load_data\"></a>\n",
    "# Загрузка данных"
   ]
  },
  {
   "cell_type": "markdown",
   "id": "c7f65ba0-d442-40d5-9d57-5ede2ee4be26",
   "metadata": {},
   "source": [
    "Импортируем библиотеки и установим цветовую палитру по умолчанию, параллельно сняв ограничение на число отображаемых символов в записи."
   ]
  },
  {
   "cell_type": "code",
   "execution_count": 2,
   "id": "91a80feb-04b4-43e7-b5fb-5e2364d72009",
   "metadata": {},
   "outputs": [],
   "source": [
    "from math import factorial\n",
    "from math import sqrt\n",
    "from scipy import stats as st\n",
    "\n",
    "import pandas as pd\n",
    "import numpy as np\n",
    "import datetime as dt\n",
    "\n",
    "from matplotlib import pyplot as plt\n",
    "import matplotlib.patches as mpatches\n",
    "import seaborn as sns\n",
    "\n",
    "from decimal import Decimal"
   ]
  },
  {
   "cell_type": "code",
   "execution_count": 3,
   "id": "3f384909-2eba-4c9f-a5e3-6381738a2e69",
   "metadata": {},
   "outputs": [],
   "source": [
    "pd.set_option('display.max_colwidth', None)"
   ]
  },
  {
   "cell_type": "code",
   "execution_count": 4,
   "id": "89fecca1-b0e1-42fd-a6d5-9c120da8d807",
   "metadata": {},
   "outputs": [],
   "source": [
    "sns.set_theme(style=\"whitegrid\", palette=\"pastel\")"
   ]
  },
  {
   "cell_type": "markdown",
   "id": "a005587c-e300-4337-82fe-6382efa0eb6c",
   "metadata": {},
   "source": [
    "Загрузим данные из файлов и проанализируем общую информацию о них."
   ]
  },
  {
   "cell_type": "code",
   "execution_count": 5,
   "id": "f3ac1a4a-208e-4a22-a641-ab3ff4791521",
   "metadata": {},
   "outputs": [],
   "source": [
    "try:\n",
    "    hypothesis, orders, visitors = (pd.read_csv('/datasets/hypothesis.csv'),\n",
    "                                   pd.read_csv('/datasets/orders.csv'),\n",
    "                                   pd.read_csv('/datasets/visitors.csv'))\n",
    "except:\n",
    "    hypothesis, orders, visitors = (pd.read_csv('D:/Работа, курсы, обучение+книги/Курсы, самообучение/!DA Plus Yandex/10th sprint/Project/hypothesis.csv'),\n",
    "                                   pd.read_csv('D:/Работа, курсы, обучение+книги/Курсы, самообучение/!DA Plus Yandex/10th sprint/Project/orders.csv'),\n",
    "                                   pd.read_csv('D:/Работа, курсы, обучение+книги/Курсы, самообучение/!DA Plus Yandex/10th sprint/Project/visitors.csv'))"
   ]
  },
  {
   "cell_type": "code",
   "execution_count": 6,
   "id": "6aab26a8-1a36-4d2a-ad1b-787211eacfae",
   "metadata": {},
   "outputs": [],
   "source": [
    "# функция для вывода необходимых характеристик датафрейма\n",
    "\n",
    "def data_info(data):\n",
    "    print('\\033[1;30m информация о датафрейме: \\033[0m\\n')\n",
    "    data.info()\n",
    "    print('\\n\\033[1;30m выборочные пять строк датафрейма: \\033[0m')\n",
    "    display(data.sample(5))\n",
    "    print('\\n\\033[1;30m количество пропусков в столбцах: \\033[0m')\n",
    "    display(data.isna().sum().sort_values())\n",
    "    print('\\n\\033[1;30m количество явных дубликатов: \\033[0m', data.duplicated().sum())\n",
    "    print('\\n\\033[1;30m описание числовых столбцов: \\033[0m')\n",
    "    display(data.describe())"
   ]
  },
  {
   "cell_type": "code",
   "execution_count": 7,
   "id": "8a082cac-8abc-470c-aa66-f9ed2a845983",
   "metadata": {
    "scrolled": false
   },
   "outputs": [
    {
     "name": "stdout",
     "output_type": "stream",
     "text": [
      "\n",
      "\u001b[7;30m таблица:  hypothesis\u001b[0m\n",
      "\n",
      "\u001b[1;30m информация о датафрейме: \u001b[0m\n",
      "\n",
      "<class 'pandas.core.frame.DataFrame'>\n",
      "RangeIndex: 9 entries, 0 to 8\n",
      "Data columns (total 5 columns):\n",
      " #   Column      Non-Null Count  Dtype \n",
      "---  ------      --------------  ----- \n",
      " 0   Hypothesis  9 non-null      object\n",
      " 1   Reach       9 non-null      int64 \n",
      " 2   Impact      9 non-null      int64 \n",
      " 3   Confidence  9 non-null      int64 \n",
      " 4   Efforts     9 non-null      int64 \n",
      "dtypes: int64(4), object(1)\n",
      "memory usage: 488.0+ bytes\n",
      "\n",
      "\u001b[1;30m выборочные пять строк датафрейма: \u001b[0m\n"
     ]
    },
    {
     "data": {
      "text/html": [
       "<div>\n",
       "<style scoped>\n",
       "    .dataframe tbody tr th:only-of-type {\n",
       "        vertical-align: middle;\n",
       "    }\n",
       "\n",
       "    .dataframe tbody tr th {\n",
       "        vertical-align: top;\n",
       "    }\n",
       "\n",
       "    .dataframe thead th {\n",
       "        text-align: right;\n",
       "    }\n",
       "</style>\n",
       "<table border=\"1\" class=\"dataframe\">\n",
       "  <thead>\n",
       "    <tr style=\"text-align: right;\">\n",
       "      <th></th>\n",
       "      <th>Hypothesis</th>\n",
       "      <th>Reach</th>\n",
       "      <th>Impact</th>\n",
       "      <th>Confidence</th>\n",
       "      <th>Efforts</th>\n",
       "    </tr>\n",
       "  </thead>\n",
       "  <tbody>\n",
       "    <tr>\n",
       "      <th>0</th>\n",
       "      <td>Добавить два новых канала привлечения трафика, что позволит привлекать на 30% больше пользователей</td>\n",
       "      <td>3</td>\n",
       "      <td>10</td>\n",
       "      <td>8</td>\n",
       "      <td>6</td>\n",
       "    </tr>\n",
       "    <tr>\n",
       "      <th>3</th>\n",
       "      <td>Изменить структура категорий, что увеличит конверсию, т.к. пользователи быстрее найдут нужный товар</td>\n",
       "      <td>8</td>\n",
       "      <td>3</td>\n",
       "      <td>3</td>\n",
       "      <td>8</td>\n",
       "    </tr>\n",
       "    <tr>\n",
       "      <th>8</th>\n",
       "      <td>Запустить акцию, дающую скидку на товар в день рождения</td>\n",
       "      <td>1</td>\n",
       "      <td>9</td>\n",
       "      <td>9</td>\n",
       "      <td>5</td>\n",
       "    </tr>\n",
       "    <tr>\n",
       "      <th>7</th>\n",
       "      <td>Добавить форму подписки на все основные страницы, чтобы собрать базу клиентов для email-рассылок</td>\n",
       "      <td>10</td>\n",
       "      <td>7</td>\n",
       "      <td>8</td>\n",
       "      <td>5</td>\n",
       "    </tr>\n",
       "    <tr>\n",
       "      <th>6</th>\n",
       "      <td>Показать на главной странице баннеры с актуальными акциями и распродажами, чтобы увеличить конверсию</td>\n",
       "      <td>5</td>\n",
       "      <td>3</td>\n",
       "      <td>8</td>\n",
       "      <td>3</td>\n",
       "    </tr>\n",
       "  </tbody>\n",
       "</table>\n",
       "</div>"
      ],
      "text/plain": [
       "                                                                                             Hypothesis  \\\n",
       "0    Добавить два новых канала привлечения трафика, что позволит привлекать на 30% больше пользователей   \n",
       "3   Изменить структура категорий, что увеличит конверсию, т.к. пользователи быстрее найдут нужный товар   \n",
       "8                                               Запустить акцию, дающую скидку на товар в день рождения   \n",
       "7      Добавить форму подписки на все основные страницы, чтобы собрать базу клиентов для email-рассылок   \n",
       "6  Показать на главной странице баннеры с актуальными акциями и распродажами, чтобы увеличить конверсию   \n",
       "\n",
       "   Reach  Impact  Confidence  Efforts  \n",
       "0      3      10           8        6  \n",
       "3      8       3           3        8  \n",
       "8      1       9           9        5  \n",
       "7     10       7           8        5  \n",
       "6      5       3           8        3  "
      ]
     },
     "metadata": {},
     "output_type": "display_data"
    },
    {
     "name": "stdout",
     "output_type": "stream",
     "text": [
      "\n",
      "\u001b[1;30m количество пропусков в столбцах: \u001b[0m\n"
     ]
    },
    {
     "data": {
      "text/plain": [
       "Hypothesis    0\n",
       "Reach         0\n",
       "Impact        0\n",
       "Confidence    0\n",
       "Efforts       0\n",
       "dtype: int64"
      ]
     },
     "metadata": {},
     "output_type": "display_data"
    },
    {
     "name": "stdout",
     "output_type": "stream",
     "text": [
      "\n",
      "\u001b[1;30m количество явных дубликатов: \u001b[0m 0\n",
      "\n",
      "\u001b[1;30m описание числовых столбцов: \u001b[0m\n"
     ]
    },
    {
     "data": {
      "text/html": [
       "<div>\n",
       "<style scoped>\n",
       "    .dataframe tbody tr th:only-of-type {\n",
       "        vertical-align: middle;\n",
       "    }\n",
       "\n",
       "    .dataframe tbody tr th {\n",
       "        vertical-align: top;\n",
       "    }\n",
       "\n",
       "    .dataframe thead th {\n",
       "        text-align: right;\n",
       "    }\n",
       "</style>\n",
       "<table border=\"1\" class=\"dataframe\">\n",
       "  <thead>\n",
       "    <tr style=\"text-align: right;\">\n",
       "      <th></th>\n",
       "      <th>Reach</th>\n",
       "      <th>Impact</th>\n",
       "      <th>Confidence</th>\n",
       "      <th>Efforts</th>\n",
       "    </tr>\n",
       "  </thead>\n",
       "  <tbody>\n",
       "    <tr>\n",
       "      <th>count</th>\n",
       "      <td>9.000000</td>\n",
       "      <td>9.000000</td>\n",
       "      <td>9.000000</td>\n",
       "      <td>9.000000</td>\n",
       "    </tr>\n",
       "    <tr>\n",
       "      <th>mean</th>\n",
       "      <td>4.777778</td>\n",
       "      <td>4.777778</td>\n",
       "      <td>5.555556</td>\n",
       "      <td>4.888889</td>\n",
       "    </tr>\n",
       "    <tr>\n",
       "      <th>std</th>\n",
       "      <td>3.153481</td>\n",
       "      <td>3.192874</td>\n",
       "      <td>3.045944</td>\n",
       "      <td>2.803767</td>\n",
       "    </tr>\n",
       "    <tr>\n",
       "      <th>min</th>\n",
       "      <td>1.000000</td>\n",
       "      <td>1.000000</td>\n",
       "      <td>1.000000</td>\n",
       "      <td>1.000000</td>\n",
       "    </tr>\n",
       "    <tr>\n",
       "      <th>25%</th>\n",
       "      <td>3.000000</td>\n",
       "      <td>3.000000</td>\n",
       "      <td>3.000000</td>\n",
       "      <td>3.000000</td>\n",
       "    </tr>\n",
       "    <tr>\n",
       "      <th>50%</th>\n",
       "      <td>3.000000</td>\n",
       "      <td>3.000000</td>\n",
       "      <td>7.000000</td>\n",
       "      <td>5.000000</td>\n",
       "    </tr>\n",
       "    <tr>\n",
       "      <th>75%</th>\n",
       "      <td>8.000000</td>\n",
       "      <td>7.000000</td>\n",
       "      <td>8.000000</td>\n",
       "      <td>6.000000</td>\n",
       "    </tr>\n",
       "    <tr>\n",
       "      <th>max</th>\n",
       "      <td>10.000000</td>\n",
       "      <td>10.000000</td>\n",
       "      <td>9.000000</td>\n",
       "      <td>10.000000</td>\n",
       "    </tr>\n",
       "  </tbody>\n",
       "</table>\n",
       "</div>"
      ],
      "text/plain": [
       "           Reach     Impact  Confidence    Efforts\n",
       "count   9.000000   9.000000    9.000000   9.000000\n",
       "mean    4.777778   4.777778    5.555556   4.888889\n",
       "std     3.153481   3.192874    3.045944   2.803767\n",
       "min     1.000000   1.000000    1.000000   1.000000\n",
       "25%     3.000000   3.000000    3.000000   3.000000\n",
       "50%     3.000000   3.000000    7.000000   5.000000\n",
       "75%     8.000000   7.000000    8.000000   6.000000\n",
       "max    10.000000  10.000000    9.000000  10.000000"
      ]
     },
     "metadata": {},
     "output_type": "display_data"
    },
    {
     "name": "stdout",
     "output_type": "stream",
     "text": [
      "\n",
      "\u001b[7;30m таблица:  orders\u001b[0m\n",
      "\n",
      "\u001b[1;30m информация о датафрейме: \u001b[0m\n",
      "\n",
      "<class 'pandas.core.frame.DataFrame'>\n",
      "RangeIndex: 1197 entries, 0 to 1196\n",
      "Data columns (total 5 columns):\n",
      " #   Column         Non-Null Count  Dtype \n",
      "---  ------         --------------  ----- \n",
      " 0   transactionId  1197 non-null   int64 \n",
      " 1   visitorId      1197 non-null   int64 \n",
      " 2   date           1197 non-null   object\n",
      " 3   revenue        1197 non-null   int64 \n",
      " 4   group          1197 non-null   object\n",
      "dtypes: int64(3), object(2)\n",
      "memory usage: 46.9+ KB\n",
      "\n",
      "\u001b[1;30m выборочные пять строк датафрейма: \u001b[0m\n"
     ]
    },
    {
     "data": {
      "text/html": [
       "<div>\n",
       "<style scoped>\n",
       "    .dataframe tbody tr th:only-of-type {\n",
       "        vertical-align: middle;\n",
       "    }\n",
       "\n",
       "    .dataframe tbody tr th {\n",
       "        vertical-align: top;\n",
       "    }\n",
       "\n",
       "    .dataframe thead th {\n",
       "        text-align: right;\n",
       "    }\n",
       "</style>\n",
       "<table border=\"1\" class=\"dataframe\">\n",
       "  <thead>\n",
       "    <tr style=\"text-align: right;\">\n",
       "      <th></th>\n",
       "      <th>transactionId</th>\n",
       "      <th>visitorId</th>\n",
       "      <th>date</th>\n",
       "      <th>revenue</th>\n",
       "      <th>group</th>\n",
       "    </tr>\n",
       "  </thead>\n",
       "  <tbody>\n",
       "    <tr>\n",
       "      <th>850</th>\n",
       "      <td>3834417582</td>\n",
       "      <td>4205543768</td>\n",
       "      <td>2019-08-05</td>\n",
       "      <td>2674</td>\n",
       "      <td>B</td>\n",
       "    </tr>\n",
       "    <tr>\n",
       "      <th>158</th>\n",
       "      <td>1102655019</td>\n",
       "      <td>1826088570</td>\n",
       "      <td>2019-08-22</td>\n",
       "      <td>11990</td>\n",
       "      <td>B</td>\n",
       "    </tr>\n",
       "    <tr>\n",
       "      <th>1135</th>\n",
       "      <td>453686528</td>\n",
       "      <td>2134820861</td>\n",
       "      <td>2019-08-13</td>\n",
       "      <td>18893</td>\n",
       "      <td>A</td>\n",
       "    </tr>\n",
       "    <tr>\n",
       "      <th>695</th>\n",
       "      <td>2235924775</td>\n",
       "      <td>473299164</td>\n",
       "      <td>2019-08-09</td>\n",
       "      <td>5776</td>\n",
       "      <td>B</td>\n",
       "    </tr>\n",
       "    <tr>\n",
       "      <th>670</th>\n",
       "      <td>1096121493</td>\n",
       "      <td>1722729964</td>\n",
       "      <td>2019-08-29</td>\n",
       "      <td>620</td>\n",
       "      <td>B</td>\n",
       "    </tr>\n",
       "  </tbody>\n",
       "</table>\n",
       "</div>"
      ],
      "text/plain": [
       "      transactionId   visitorId        date  revenue group\n",
       "850      3834417582  4205543768  2019-08-05     2674     B\n",
       "158      1102655019  1826088570  2019-08-22    11990     B\n",
       "1135      453686528  2134820861  2019-08-13    18893     A\n",
       "695      2235924775   473299164  2019-08-09     5776     B\n",
       "670      1096121493  1722729964  2019-08-29      620     B"
      ]
     },
     "metadata": {},
     "output_type": "display_data"
    },
    {
     "name": "stdout",
     "output_type": "stream",
     "text": [
      "\n",
      "\u001b[1;30m количество пропусков в столбцах: \u001b[0m\n"
     ]
    },
    {
     "data": {
      "text/plain": [
       "transactionId    0\n",
       "visitorId        0\n",
       "date             0\n",
       "revenue          0\n",
       "group            0\n",
       "dtype: int64"
      ]
     },
     "metadata": {},
     "output_type": "display_data"
    },
    {
     "name": "stdout",
     "output_type": "stream",
     "text": [
      "\n",
      "\u001b[1;30m количество явных дубликатов: \u001b[0m 0\n",
      "\n",
      "\u001b[1;30m описание числовых столбцов: \u001b[0m\n"
     ]
    },
    {
     "data": {
      "text/html": [
       "<div>\n",
       "<style scoped>\n",
       "    .dataframe tbody tr th:only-of-type {\n",
       "        vertical-align: middle;\n",
       "    }\n",
       "\n",
       "    .dataframe tbody tr th {\n",
       "        vertical-align: top;\n",
       "    }\n",
       "\n",
       "    .dataframe thead th {\n",
       "        text-align: right;\n",
       "    }\n",
       "</style>\n",
       "<table border=\"1\" class=\"dataframe\">\n",
       "  <thead>\n",
       "    <tr style=\"text-align: right;\">\n",
       "      <th></th>\n",
       "      <th>transactionId</th>\n",
       "      <th>visitorId</th>\n",
       "      <th>revenue</th>\n",
       "    </tr>\n",
       "  </thead>\n",
       "  <tbody>\n",
       "    <tr>\n",
       "      <th>count</th>\n",
       "      <td>1.197000e+03</td>\n",
       "      <td>1.197000e+03</td>\n",
       "      <td>1.197000e+03</td>\n",
       "    </tr>\n",
       "    <tr>\n",
       "      <th>mean</th>\n",
       "      <td>2.155621e+09</td>\n",
       "      <td>2.165960e+09</td>\n",
       "      <td>8.348006e+03</td>\n",
       "    </tr>\n",
       "    <tr>\n",
       "      <th>std</th>\n",
       "      <td>1.229085e+09</td>\n",
       "      <td>1.236014e+09</td>\n",
       "      <td>3.919113e+04</td>\n",
       "    </tr>\n",
       "    <tr>\n",
       "      <th>min</th>\n",
       "      <td>1.062393e+06</td>\n",
       "      <td>5.114589e+06</td>\n",
       "      <td>5.000000e+01</td>\n",
       "    </tr>\n",
       "    <tr>\n",
       "      <th>25%</th>\n",
       "      <td>1.166776e+09</td>\n",
       "      <td>1.111826e+09</td>\n",
       "      <td>1.220000e+03</td>\n",
       "    </tr>\n",
       "    <tr>\n",
       "      <th>50%</th>\n",
       "      <td>2.145194e+09</td>\n",
       "      <td>2.217985e+09</td>\n",
       "      <td>2.978000e+03</td>\n",
       "    </tr>\n",
       "    <tr>\n",
       "      <th>75%</th>\n",
       "      <td>3.237740e+09</td>\n",
       "      <td>3.177606e+09</td>\n",
       "      <td>8.290000e+03</td>\n",
       "    </tr>\n",
       "    <tr>\n",
       "      <th>max</th>\n",
       "      <td>4.293856e+09</td>\n",
       "      <td>4.283872e+09</td>\n",
       "      <td>1.294500e+06</td>\n",
       "    </tr>\n",
       "  </tbody>\n",
       "</table>\n",
       "</div>"
      ],
      "text/plain": [
       "       transactionId     visitorId       revenue\n",
       "count   1.197000e+03  1.197000e+03  1.197000e+03\n",
       "mean    2.155621e+09  2.165960e+09  8.348006e+03\n",
       "std     1.229085e+09  1.236014e+09  3.919113e+04\n",
       "min     1.062393e+06  5.114589e+06  5.000000e+01\n",
       "25%     1.166776e+09  1.111826e+09  1.220000e+03\n",
       "50%     2.145194e+09  2.217985e+09  2.978000e+03\n",
       "75%     3.237740e+09  3.177606e+09  8.290000e+03\n",
       "max     4.293856e+09  4.283872e+09  1.294500e+06"
      ]
     },
     "metadata": {},
     "output_type": "display_data"
    },
    {
     "name": "stdout",
     "output_type": "stream",
     "text": [
      "\n",
      "\u001b[7;30m таблица:  visitors\u001b[0m\n",
      "\n",
      "\u001b[1;30m информация о датафрейме: \u001b[0m\n",
      "\n",
      "<class 'pandas.core.frame.DataFrame'>\n",
      "RangeIndex: 62 entries, 0 to 61\n",
      "Data columns (total 3 columns):\n",
      " #   Column    Non-Null Count  Dtype \n",
      "---  ------    --------------  ----- \n",
      " 0   date      62 non-null     object\n",
      " 1   group     62 non-null     object\n",
      " 2   visitors  62 non-null     int64 \n",
      "dtypes: int64(1), object(2)\n",
      "memory usage: 1.6+ KB\n",
      "\n",
      "\u001b[1;30m выборочные пять строк датафрейма: \u001b[0m\n"
     ]
    },
    {
     "data": {
      "text/html": [
       "<div>\n",
       "<style scoped>\n",
       "    .dataframe tbody tr th:only-of-type {\n",
       "        vertical-align: middle;\n",
       "    }\n",
       "\n",
       "    .dataframe tbody tr th {\n",
       "        vertical-align: top;\n",
       "    }\n",
       "\n",
       "    .dataframe thead th {\n",
       "        text-align: right;\n",
       "    }\n",
       "</style>\n",
       "<table border=\"1\" class=\"dataframe\">\n",
       "  <thead>\n",
       "    <tr style=\"text-align: right;\">\n",
       "      <th></th>\n",
       "      <th>date</th>\n",
       "      <th>group</th>\n",
       "      <th>visitors</th>\n",
       "    </tr>\n",
       "  </thead>\n",
       "  <tbody>\n",
       "    <tr>\n",
       "      <th>20</th>\n",
       "      <td>2019-08-21</td>\n",
       "      <td>A</td>\n",
       "      <td>646</td>\n",
       "    </tr>\n",
       "    <tr>\n",
       "      <th>42</th>\n",
       "      <td>2019-08-12</td>\n",
       "      <td>B</td>\n",
       "      <td>543</td>\n",
       "    </tr>\n",
       "    <tr>\n",
       "      <th>35</th>\n",
       "      <td>2019-08-05</td>\n",
       "      <td>B</td>\n",
       "      <td>707</td>\n",
       "    </tr>\n",
       "    <tr>\n",
       "      <th>25</th>\n",
       "      <td>2019-08-26</td>\n",
       "      <td>A</td>\n",
       "      <td>722</td>\n",
       "    </tr>\n",
       "    <tr>\n",
       "      <th>51</th>\n",
       "      <td>2019-08-21</td>\n",
       "      <td>B</td>\n",
       "      <td>656</td>\n",
       "    </tr>\n",
       "  </tbody>\n",
       "</table>\n",
       "</div>"
      ],
      "text/plain": [
       "          date group  visitors\n",
       "20  2019-08-21     A       646\n",
       "42  2019-08-12     B       543\n",
       "35  2019-08-05     B       707\n",
       "25  2019-08-26     A       722\n",
       "51  2019-08-21     B       656"
      ]
     },
     "metadata": {},
     "output_type": "display_data"
    },
    {
     "name": "stdout",
     "output_type": "stream",
     "text": [
      "\n",
      "\u001b[1;30m количество пропусков в столбцах: \u001b[0m\n"
     ]
    },
    {
     "data": {
      "text/plain": [
       "date        0\n",
       "group       0\n",
       "visitors    0\n",
       "dtype: int64"
      ]
     },
     "metadata": {},
     "output_type": "display_data"
    },
    {
     "name": "stdout",
     "output_type": "stream",
     "text": [
      "\n",
      "\u001b[1;30m количество явных дубликатов: \u001b[0m 0\n",
      "\n",
      "\u001b[1;30m описание числовых столбцов: \u001b[0m\n"
     ]
    },
    {
     "data": {
      "text/html": [
       "<div>\n",
       "<style scoped>\n",
       "    .dataframe tbody tr th:only-of-type {\n",
       "        vertical-align: middle;\n",
       "    }\n",
       "\n",
       "    .dataframe tbody tr th {\n",
       "        vertical-align: top;\n",
       "    }\n",
       "\n",
       "    .dataframe thead th {\n",
       "        text-align: right;\n",
       "    }\n",
       "</style>\n",
       "<table border=\"1\" class=\"dataframe\">\n",
       "  <thead>\n",
       "    <tr style=\"text-align: right;\">\n",
       "      <th></th>\n",
       "      <th>visitors</th>\n",
       "    </tr>\n",
       "  </thead>\n",
       "  <tbody>\n",
       "    <tr>\n",
       "      <th>count</th>\n",
       "      <td>62.000000</td>\n",
       "    </tr>\n",
       "    <tr>\n",
       "      <th>mean</th>\n",
       "      <td>607.290323</td>\n",
       "    </tr>\n",
       "    <tr>\n",
       "      <th>std</th>\n",
       "      <td>114.400560</td>\n",
       "    </tr>\n",
       "    <tr>\n",
       "      <th>min</th>\n",
       "      <td>361.000000</td>\n",
       "    </tr>\n",
       "    <tr>\n",
       "      <th>25%</th>\n",
       "      <td>534.000000</td>\n",
       "    </tr>\n",
       "    <tr>\n",
       "      <th>50%</th>\n",
       "      <td>624.500000</td>\n",
       "    </tr>\n",
       "    <tr>\n",
       "      <th>75%</th>\n",
       "      <td>710.500000</td>\n",
       "    </tr>\n",
       "    <tr>\n",
       "      <th>max</th>\n",
       "      <td>770.000000</td>\n",
       "    </tr>\n",
       "  </tbody>\n",
       "</table>\n",
       "</div>"
      ],
      "text/plain": [
       "         visitors\n",
       "count   62.000000\n",
       "mean   607.290323\n",
       "std    114.400560\n",
       "min    361.000000\n",
       "25%    534.000000\n",
       "50%    624.500000\n",
       "75%    710.500000\n",
       "max    770.000000"
      ]
     },
     "metadata": {},
     "output_type": "display_data"
    }
   ],
   "source": [
    "tables = [hypothesis, orders, visitors]\n",
    "names = ['hypothesis','orders', 'visitors']\n",
    "\n",
    "for name, table in zip(names, tables):\n",
    "    print(f'\\n\\033[7;30m таблица:  {name}\\033[0m\\n')\n",
    "    data_info(table)"
   ]
  },
  {
   "cell_type": "markdown",
   "id": "de74a62f-b94f-4100-b1c2-ab16fb7410ce",
   "metadata": {},
   "source": [
    "Посмотрим на ключевые значения данных в столбце revenue датафрейма orders в более удобном для заказчика виде:"
   ]
  },
  {
   "cell_type": "code",
   "execution_count": 8,
   "id": "f0be45f5-f1d1-40e7-8864-24f7ae5eb68d",
   "metadata": {},
   "outputs": [
    {
     "data": {
      "text/plain": [
       "'Минимальная выручка от заказа составляет 50 ден. ед.'"
      ]
     },
     "metadata": {},
     "output_type": "display_data"
    },
    {
     "data": {
      "text/plain": [
       "'Максимальная выручка от заказа составляет 1294500 ден. ед.'"
      ]
     },
     "metadata": {},
     "output_type": "display_data"
    },
    {
     "data": {
      "text/plain": [
       "'Средняя выручка от заказа составляет 8348.01 ден. ед.'"
      ]
     },
     "metadata": {},
     "output_type": "display_data"
    },
    {
     "data": {
      "text/plain": [
       "'Медианная выручка от заказа составляет 2978.0 ден. ед.'"
      ]
     },
     "metadata": {},
     "output_type": "display_data"
    }
   ],
   "source": [
    "display(f'Минимальная выручка от заказа составляет {orders[\"revenue\"].min()} ден. ед.')\n",
    "display(f'Максимальная выручка от заказа составляет {orders[\"revenue\"].max()} ден. ед.')\n",
    "display(f'Средняя выручка от заказа составляет {round(orders[\"revenue\"].mean(),2)} ден. ед.')\n",
    "display(f'Медианная выручка от заказа составляет {orders[\"revenue\"].median()} ден. ед.')"
   ]
  },
  {
   "cell_type": "markdown",
   "id": "3697ed78-27d3-4044-abed-872a6a2f427d",
   "metadata": {},
   "source": [
    "<a id=\"preprocessing\"></a>\n",
    "# Предобработка данных"
   ]
  },
  {
   "cell_type": "markdown",
   "id": "15247031-3820-4484-8665-830c5a1cd868",
   "metadata": {},
   "source": [
    "Внесем заявленные ранее корректировки в стилистику наименований столбцов и типы данных в столбцах с датой."
   ]
  },
  {
   "cell_type": "code",
   "execution_count": 9,
   "id": "dea72c6f-2010-4a48-b9f9-bd93da856a51",
   "metadata": {},
   "outputs": [],
   "source": [
    "# Названия столбцов таблицы hypothesis приведем к нижнему регистру\n",
    "hypothesis.columns = hypothesis.columns.str.lower()\n",
    "\n",
    "# таблицы orders - в соответствии с правилами хорошего стиля (змеиного регистра), где необходимо. \n",
    "orders.columns = [x.replace('Id', '_id') for x in orders.columns]\n",
    "#orders.columns = [name.replace('Id', '_id') for name in orders.columns]\n",
    "\n",
    "# заменим тип данных столбцов с датой на datetime\n",
    "orders['date'] = orders['date'].map(lambda x: dt.datetime.strptime(x, '%Y-%m-%d'))\n",
    "visitors['date'] = visitors['date'].map(lambda x: dt.datetime.strptime(x, '%Y-%m-%d'))"
   ]
  },
  {
   "cell_type": "code",
   "execution_count": 10,
   "id": "2597ac89-9a4e-4460-a924-e0b7aa7a6a7d",
   "metadata": {},
   "outputs": [
    {
     "data": {
      "text/html": [
       "<div>\n",
       "<style scoped>\n",
       "    .dataframe tbody tr th:only-of-type {\n",
       "        vertical-align: middle;\n",
       "    }\n",
       "\n",
       "    .dataframe tbody tr th {\n",
       "        vertical-align: top;\n",
       "    }\n",
       "\n",
       "    .dataframe thead th {\n",
       "        text-align: right;\n",
       "    }\n",
       "</style>\n",
       "<table border=\"1\" class=\"dataframe\">\n",
       "  <thead>\n",
       "    <tr style=\"text-align: right;\">\n",
       "      <th></th>\n",
       "      <th>transaction_id</th>\n",
       "      <th>visitor_id</th>\n",
       "      <th>date</th>\n",
       "      <th>revenue</th>\n",
       "      <th>group</th>\n",
       "    </tr>\n",
       "  </thead>\n",
       "  <tbody>\n",
       "    <tr>\n",
       "      <th>1172</th>\n",
       "      <td>3898641900</td>\n",
       "      <td>3803269165</td>\n",
       "      <td>2019-08-14</td>\n",
       "      <td>790</td>\n",
       "      <td>B</td>\n",
       "    </tr>\n",
       "  </tbody>\n",
       "</table>\n",
       "</div>"
      ],
      "text/plain": [
       "      transaction_id  visitor_id       date  revenue group\n",
       "1172      3898641900  3803269165 2019-08-14      790     B"
      ]
     },
     "metadata": {},
     "output_type": "display_data"
    },
    {
     "data": {
      "text/html": [
       "<div>\n",
       "<style scoped>\n",
       "    .dataframe tbody tr th:only-of-type {\n",
       "        vertical-align: middle;\n",
       "    }\n",
       "\n",
       "    .dataframe tbody tr th {\n",
       "        vertical-align: top;\n",
       "    }\n",
       "\n",
       "    .dataframe thead th {\n",
       "        text-align: right;\n",
       "    }\n",
       "</style>\n",
       "<table border=\"1\" class=\"dataframe\">\n",
       "  <thead>\n",
       "    <tr style=\"text-align: right;\">\n",
       "      <th></th>\n",
       "      <th>hypothesis</th>\n",
       "      <th>reach</th>\n",
       "      <th>impact</th>\n",
       "      <th>confidence</th>\n",
       "      <th>efforts</th>\n",
       "    </tr>\n",
       "  </thead>\n",
       "  <tbody>\n",
       "    <tr>\n",
       "      <th>8</th>\n",
       "      <td>Запустить акцию, дающую скидку на товар в день рождения</td>\n",
       "      <td>1</td>\n",
       "      <td>9</td>\n",
       "      <td>9</td>\n",
       "      <td>5</td>\n",
       "    </tr>\n",
       "  </tbody>\n",
       "</table>\n",
       "</div>"
      ],
      "text/plain": [
       "                                                hypothesis  reach  impact  \\\n",
       "8  Запустить акцию, дающую скидку на товар в день рождения      1       9   \n",
       "\n",
       "   confidence  efforts  \n",
       "8           9        5  "
      ]
     },
     "metadata": {},
     "output_type": "display_data"
    },
    {
     "data": {
      "text/html": [
       "<div>\n",
       "<style scoped>\n",
       "    .dataframe tbody tr th:only-of-type {\n",
       "        vertical-align: middle;\n",
       "    }\n",
       "\n",
       "    .dataframe tbody tr th {\n",
       "        vertical-align: top;\n",
       "    }\n",
       "\n",
       "    .dataframe thead th {\n",
       "        text-align: right;\n",
       "    }\n",
       "</style>\n",
       "<table border=\"1\" class=\"dataframe\">\n",
       "  <thead>\n",
       "    <tr style=\"text-align: right;\">\n",
       "      <th></th>\n",
       "      <th>date</th>\n",
       "      <th>group</th>\n",
       "      <th>visitors</th>\n",
       "    </tr>\n",
       "  </thead>\n",
       "  <tbody>\n",
       "    <tr>\n",
       "      <th>28</th>\n",
       "      <td>2019-08-29</td>\n",
       "      <td>A</td>\n",
       "      <td>577</td>\n",
       "    </tr>\n",
       "  </tbody>\n",
       "</table>\n",
       "</div>"
      ],
      "text/plain": [
       "         date group  visitors\n",
       "28 2019-08-29     A       577"
      ]
     },
     "metadata": {},
     "output_type": "display_data"
    }
   ],
   "source": [
    "display(orders.sample())\n",
    "display(hypothesis.sample())\n",
    "display(visitors.sample())"
   ]
  },
  {
   "cell_type": "markdown",
   "id": "ea056cc9-a873-43c4-ba44-54005f4d5cb5",
   "metadata": {},
   "source": [
    "Посмотрим на сроки проведения теста для группы А и В в рамках предоставленных нам таблиц с заказами и посетителями"
   ]
  },
  {
   "cell_type": "code",
   "execution_count": 11,
   "id": "4bb218f8-396f-4a48-8e1c-f2203423d61c",
   "metadata": {},
   "outputs": [
    {
     "name": "stdout",
     "output_type": "stream",
     "text": [
      "\n",
      "Промежуток дат, в который осуществлялись заказы группой А: c \u001b[1;30m2019-08-01\u001b[0m по \u001b[1;30m2019-08-31\u001b[0m        \n",
      "Промежуток дат, в который осуществлялись заказы группой В: c \u001b[1;30m2019-08-01\u001b[0m по \u001b[1;30m2019-08-31\u001b[0m\n"
     ]
    }
   ],
   "source": [
    "print(f'\\nПромежуток дат, в который осуществлялись заказы группой А: c \\033[1;30m{orders[orders[\"group\"]==\"A\"][\"date\"].dt.date.min()}\\033[0m по \\033[1;30m{orders[orders[\"group\"]==\"A\"][\"date\"].dt.date.max()}\\033[0m\\\n",
    "        \\nПромежуток дат, в который осуществлялись заказы группой В: c \\033[1;30m{orders[orders[\"group\"]==\"B\"][\"date\"].dt.date.min()}\\033[0m по \\033[1;30m{orders[orders[\"group\"]==\"B\"][\"date\"].dt.date.max()}\\033[0m')"
   ]
  },
  {
   "cell_type": "code",
   "execution_count": 12,
   "id": "eb55b8b4-0230-412a-bef1-60efc620b4bb",
   "metadata": {},
   "outputs": [
    {
     "name": "stdout",
     "output_type": "stream",
     "text": [
      "\n",
      "Тест для группы А проходил c \u001b[1;30m2019-08-01\u001b[0m по \u001b[1;30m2019-08-31\u001b[0m        \n",
      "Тест для группы B проходил c \u001b[1;30m2019-08-01\u001b[0m по \u001b[1;30m2019-08-31\u001b[0m\n"
     ]
    }
   ],
   "source": [
    "print(f'\\nТест для группы А проходил c \\033[1;30m{visitors[visitors[\"group\"]==\"A\"][\"date\"].dt.date.min()}\\033[0m по \\033[1;30m{visitors[visitors[\"group\"]==\"A\"][\"date\"].dt.date.max()}\\033[0m\\\n",
    "        \\nТест для группы B проходил c \\033[1;30m{visitors[visitors[\"group\"]==\"B\"][\"date\"].dt.date.min()}\\033[0m по \\033[1;30m{visitors[visitors[\"group\"]==\"B\"][\"date\"].dt.date.max()}\\033[0m')"
   ]
  },
  {
   "cell_type": "markdown",
   "id": "20931b40-47e4-4195-b177-c36a624b9599",
   "metadata": {},
   "source": [
    "В обеих таблицах сроки проведения теста для двух групп совпадают. Тест длился один месяц.\n",
    "Посмотрим как распределялись пользователи по группам"
   ]
  },
  {
   "cell_type": "markdown",
   "id": "31db9337-ac15-488b-bbc7-8a7cbe8ef314",
   "metadata": {},
   "source": [
    "Изучим распределение пользователей по группам. Начнем с таблицы visitors."
   ]
  },
  {
   "cell_type": "code",
   "execution_count": 13,
   "id": "be41301d-445f-4ef1-9ba8-823ea02ce7a0",
   "metadata": {},
   "outputs": [
    {
     "data": {
      "text/plain": [
       "group\n",
       "A    31\n",
       "B    31\n",
       "Name: date, dtype: int64"
      ]
     },
     "execution_count": 13,
     "metadata": {},
     "output_type": "execute_result"
    }
   ],
   "source": [
    "visitors.groupby('group')['date'].count()"
   ]
  },
  {
   "cell_type": "code",
   "execution_count": 14,
   "id": "92c1c1ee-5b2f-4a0c-a6ee-ed8804ca651a",
   "metadata": {},
   "outputs": [
    {
     "data": {
      "text/plain": [
       "B    31\n",
       "A    31\n",
       "Name: group, dtype: int64"
      ]
     },
     "execution_count": 14,
     "metadata": {},
     "output_type": "execute_result"
    }
   ],
   "source": [
    "visitors['group'].value_counts()"
   ]
  },
  {
   "cell_type": "code",
   "execution_count": 15,
   "id": "0d4ef3b9-57d9-4853-a7ad-0041c429e0bb",
   "metadata": {},
   "outputs": [
    {
     "data": {
      "text/plain": [
       "group\n",
       "A    18736\n",
       "B    18916\n",
       "Name: visitors, dtype: int64"
      ]
     },
     "execution_count": 15,
     "metadata": {},
     "output_type": "execute_result"
    }
   ],
   "source": [
    "visitors.groupby('group')['visitors'].sum()"
   ]
  },
  {
   "cell_type": "markdown",
   "id": "ac947bf5-1eb3-4e67-8c70-d6022fa5e381",
   "metadata": {},
   "source": [
    "Доли пользователей в таблице visitors равны: пользователи из группы А и В принимали участие в идентичном числе исследований."
   ]
  },
  {
   "cell_type": "code",
   "execution_count": 16,
   "id": "f3aea7d7-a718-42ba-8064-178ae953e471",
   "metadata": {},
   "outputs": [
    {
     "name": "stdout",
     "output_type": "stream",
     "text": [
      "Относительное различие количества пользователей в группе А и В незначительно и составляет порядка 0.95% \n"
     ]
    }
   ],
   "source": [
    "print(f'Относительное различие количества пользователей в группе А и В незначительно и составляет порядка {1 - visitors.groupby(\"group\").visitors.sum().values[0]/visitors.groupby(\"group\").visitors.sum().values[1]:.2%} ')"
   ]
  },
  {
   "cell_type": "markdown",
   "id": "85b90943-f4d3-40e3-bb76-2e836bfbc477",
   "metadata": {},
   "source": [
    "Посмотрим на распределение пользователей в таблице orders."
   ]
  },
  {
   "cell_type": "code",
   "execution_count": 17,
   "id": "b7e7c4cf-c011-4ef4-bf39-cdf55568ad27",
   "metadata": {},
   "outputs": [
    {
     "data": {
      "text/html": [
       "<div>\n",
       "<style scoped>\n",
       "    .dataframe tbody tr th:only-of-type {\n",
       "        vertical-align: middle;\n",
       "    }\n",
       "\n",
       "    .dataframe tbody tr th {\n",
       "        vertical-align: top;\n",
       "    }\n",
       "\n",
       "    .dataframe thead th {\n",
       "        text-align: right;\n",
       "    }\n",
       "</style>\n",
       "<table border=\"1\" class=\"dataframe\">\n",
       "  <thead>\n",
       "    <tr style=\"text-align: right;\">\n",
       "      <th></th>\n",
       "      <th>group</th>\n",
       "      <th>visitor_id</th>\n",
       "    </tr>\n",
       "  </thead>\n",
       "  <tbody>\n",
       "    <tr>\n",
       "      <th>0</th>\n",
       "      <td>A</td>\n",
       "      <td>503</td>\n",
       "    </tr>\n",
       "    <tr>\n",
       "      <th>1</th>\n",
       "      <td>B</td>\n",
       "      <td>586</td>\n",
       "    </tr>\n",
       "  </tbody>\n",
       "</table>\n",
       "</div>"
      ],
      "text/plain": [
       "  group  visitor_id\n",
       "0     A         503\n",
       "1     B         586"
      ]
     },
     "execution_count": 17,
     "metadata": {},
     "output_type": "execute_result"
    }
   ],
   "source": [
    "dist_gr_orders = orders.groupby('group')['visitor_id'].nunique().reset_index()\n",
    "dist_gr_orders"
   ]
  },
  {
   "cell_type": "code",
   "execution_count": 18,
   "id": "888d993b-a07f-4ae5-8d18-84e399226f6b",
   "metadata": {},
   "outputs": [
    {
     "name": "stdout",
     "output_type": "stream",
     "text": [
      "Относительное различие количества пользователейв таблице orders - 14 %\n"
     ]
    }
   ],
   "source": [
    "print(f'Относительное различие количества пользователей\\\n",
    "в таблице orders - {round((1-dist_gr_orders[\"visitor_id\"][0]/dist_gr_orders[\"visitor_id\"][1])*100)} %')"
   ]
  },
  {
   "cell_type": "markdown",
   "id": "c899cd35-8e60-433f-afba-8fd6ff76b5fa",
   "metadata": {},
   "source": [
    "В данном случае присутствует дисбаланс между участниками.\n",
    "На практике данной ситуации возникать не должно, на этапе подготовки следует использовать специальные калькуляторы, а также провести АА-тестирование, чтобы проверить корректность деления трафика, подтвердить, что на результаты не влияют аномалии и выбросы в генеральной совокупности, а также, что \n",
    "данные отправляются в системы аналитики корректно."
   ]
  },
  {
   "cell_type": "markdown",
   "id": "6c81fef7-1fd4-4607-91d7-d5cce7d4161f",
   "metadata": {},
   "source": [
    "Проверим, не попали ли случайно пользователи и в группу А и в группу В."
   ]
  },
  {
   "cell_type": "code",
   "execution_count": 19,
   "id": "8b315f3b-3cc8-49a3-81eb-4001db711a10",
   "metadata": {},
   "outputs": [
    {
     "data": {
      "text/html": [
       "<div>\n",
       "<style scoped>\n",
       "    .dataframe tbody tr th:only-of-type {\n",
       "        vertical-align: middle;\n",
       "    }\n",
       "\n",
       "    .dataframe tbody tr th {\n",
       "        vertical-align: top;\n",
       "    }\n",
       "\n",
       "    .dataframe thead th {\n",
       "        text-align: right;\n",
       "    }\n",
       "</style>\n",
       "<table border=\"1\" class=\"dataframe\">\n",
       "  <thead>\n",
       "    <tr style=\"text-align: right;\">\n",
       "      <th></th>\n",
       "      <th>visitor_id</th>\n",
       "      <th>group</th>\n",
       "    </tr>\n",
       "  </thead>\n",
       "  <tbody>\n",
       "    <tr>\n",
       "      <th>0</th>\n",
       "      <td>5114589</td>\n",
       "      <td>1</td>\n",
       "    </tr>\n",
       "    <tr>\n",
       "      <th>1</th>\n",
       "      <td>6958315</td>\n",
       "      <td>1</td>\n",
       "    </tr>\n",
       "    <tr>\n",
       "      <th>2</th>\n",
       "      <td>8300375</td>\n",
       "      <td>2</td>\n",
       "    </tr>\n",
       "    <tr>\n",
       "      <th>3</th>\n",
       "      <td>11685486</td>\n",
       "      <td>1</td>\n",
       "    </tr>\n",
       "    <tr>\n",
       "      <th>4</th>\n",
       "      <td>39475350</td>\n",
       "      <td>1</td>\n",
       "    </tr>\n",
       "    <tr>\n",
       "      <th>...</th>\n",
       "      <td>...</td>\n",
       "      <td>...</td>\n",
       "    </tr>\n",
       "    <tr>\n",
       "      <th>1026</th>\n",
       "      <td>4266935830</td>\n",
       "      <td>2</td>\n",
       "    </tr>\n",
       "    <tr>\n",
       "      <th>1027</th>\n",
       "      <td>4278982564</td>\n",
       "      <td>1</td>\n",
       "    </tr>\n",
       "    <tr>\n",
       "      <th>1028</th>\n",
       "      <td>4279090005</td>\n",
       "      <td>1</td>\n",
       "    </tr>\n",
       "    <tr>\n",
       "      <th>1029</th>\n",
       "      <td>4281247801</td>\n",
       "      <td>1</td>\n",
       "    </tr>\n",
       "    <tr>\n",
       "      <th>1030</th>\n",
       "      <td>4283872382</td>\n",
       "      <td>1</td>\n",
       "    </tr>\n",
       "  </tbody>\n",
       "</table>\n",
       "<p>1031 rows × 2 columns</p>\n",
       "</div>"
      ],
      "text/plain": [
       "      visitor_id  group\n",
       "0        5114589      1\n",
       "1        6958315      1\n",
       "2        8300375      2\n",
       "3       11685486      1\n",
       "4       39475350      1\n",
       "...          ...    ...\n",
       "1026  4266935830      2\n",
       "1027  4278982564      1\n",
       "1028  4279090005      1\n",
       "1029  4281247801      1\n",
       "1030  4283872382      1\n",
       "\n",
       "[1031 rows x 2 columns]"
      ]
     },
     "execution_count": 19,
     "metadata": {},
     "output_type": "execute_result"
    }
   ],
   "source": [
    "douplicated_visitors = orders.groupby('visitor_id')['group'].nunique().reset_index()\n",
    "douplicated_visitors"
   ]
  },
  {
   "cell_type": "code",
   "execution_count": 20,
   "id": "7b986529-cd8a-4960-a535-f3610c0e33ce",
   "metadata": {
    "scrolled": true
   },
   "outputs": [
    {
     "data": {
      "text/plain": [
       "58"
      ]
     },
     "execution_count": 20,
     "metadata": {},
     "output_type": "execute_result"
    }
   ],
   "source": [
    "douplicated_visitors[douplicated_visitors['group']>1]['visitor_id'].count()"
   ]
  },
  {
   "cell_type": "markdown",
   "id": "ffa1c71b-31bb-4813-8134-6c2b8f6cf244",
   "metadata": {},
   "source": [
    "Фактически у нас имеется 58 уникальных покупателей, которые случайно оказались и в группе А и в группе В. Посмотрим на этих пользователей и на количество покупок, которое они совершили."
   ]
  },
  {
   "cell_type": "code",
   "execution_count": 21,
   "id": "7ea4181e-82be-4e9a-8627-281857b51411",
   "metadata": {},
   "outputs": [
    {
     "data": {
      "text/plain": [
       "236     963407295\n",
       "960    3972127743\n",
       "119     471551937\n",
       "192     818047933\n",
       "122     477780734\n",
       "Name: visitor_id, dtype: int64"
      ]
     },
     "execution_count": 21,
     "metadata": {},
     "output_type": "execute_result"
    }
   ],
   "source": [
    "douplicated_visitors[douplicated_visitors['group']>1]['visitor_id'].sample(5)"
   ]
  },
  {
   "cell_type": "code",
   "execution_count": 22,
   "id": "3beab453-8066-49d2-bf36-c8c90aaafd50",
   "metadata": {},
   "outputs": [
    {
     "data": {
      "text/html": [
       "<div>\n",
       "<style scoped>\n",
       "    .dataframe tbody tr th:only-of-type {\n",
       "        vertical-align: middle;\n",
       "    }\n",
       "\n",
       "    .dataframe tbody tr th {\n",
       "        vertical-align: top;\n",
       "    }\n",
       "\n",
       "    .dataframe thead th {\n",
       "        text-align: right;\n",
       "    }\n",
       "</style>\n",
       "<table border=\"1\" class=\"dataframe\">\n",
       "  <thead>\n",
       "    <tr style=\"text-align: right;\">\n",
       "      <th></th>\n",
       "      <th>transaction_id</th>\n",
       "      <th>visitor_id</th>\n",
       "      <th>date</th>\n",
       "      <th>revenue</th>\n",
       "      <th>group</th>\n",
       "    </tr>\n",
       "  </thead>\n",
       "  <tbody>\n",
       "    <tr>\n",
       "      <th>32</th>\n",
       "      <td>3666913472</td>\n",
       "      <td>2038680547</td>\n",
       "      <td>2019-08-15</td>\n",
       "      <td>1680</td>\n",
       "      <td>B</td>\n",
       "    </tr>\n",
       "    <tr>\n",
       "      <th>117</th>\n",
       "      <td>722060263</td>\n",
       "      <td>2038680547</td>\n",
       "      <td>2019-08-22</td>\n",
       "      <td>760</td>\n",
       "      <td>A</td>\n",
       "    </tr>\n",
       "    <tr>\n",
       "      <th>189</th>\n",
       "      <td>4189935502</td>\n",
       "      <td>1648269707</td>\n",
       "      <td>2019-08-17</td>\n",
       "      <td>290</td>\n",
       "      <td>B</td>\n",
       "    </tr>\n",
       "    <tr>\n",
       "      <th>227</th>\n",
       "      <td>4267573899</td>\n",
       "      <td>2038680547</td>\n",
       "      <td>2019-08-17</td>\n",
       "      <td>3470</td>\n",
       "      <td>A</td>\n",
       "    </tr>\n",
       "    <tr>\n",
       "      <th>279</th>\n",
       "      <td>1101659272</td>\n",
       "      <td>1648269707</td>\n",
       "      <td>2019-08-18</td>\n",
       "      <td>860</td>\n",
       "      <td>A</td>\n",
       "    </tr>\n",
       "    <tr>\n",
       "      <th>390</th>\n",
       "      <td>2415738512</td>\n",
       "      <td>2038680547</td>\n",
       "      <td>2019-08-25</td>\n",
       "      <td>270</td>\n",
       "      <td>A</td>\n",
       "    </tr>\n",
       "    <tr>\n",
       "      <th>577</th>\n",
       "      <td>3932236947</td>\n",
       "      <td>2038680547</td>\n",
       "      <td>2019-08-04</td>\n",
       "      <td>2800</td>\n",
       "      <td>B</td>\n",
       "    </tr>\n",
       "    <tr>\n",
       "      <th>578</th>\n",
       "      <td>1570911533</td>\n",
       "      <td>2038680547</td>\n",
       "      <td>2019-08-04</td>\n",
       "      <td>1530</td>\n",
       "      <td>A</td>\n",
       "    </tr>\n",
       "    <tr>\n",
       "      <th>605</th>\n",
       "      <td>1215730747</td>\n",
       "      <td>2038680547</td>\n",
       "      <td>2019-08-04</td>\n",
       "      <td>2540</td>\n",
       "      <td>A</td>\n",
       "    </tr>\n",
       "    <tr>\n",
       "      <th>624</th>\n",
       "      <td>1666104258</td>\n",
       "      <td>2038680547</td>\n",
       "      <td>2019-08-29</td>\n",
       "      <td>2420</td>\n",
       "      <td>B</td>\n",
       "    </tr>\n",
       "  </tbody>\n",
       "</table>\n",
       "</div>"
      ],
      "text/plain": [
       "     transaction_id  visitor_id       date  revenue group\n",
       "32       3666913472  2038680547 2019-08-15     1680     B\n",
       "117       722060263  2038680547 2019-08-22      760     A\n",
       "189      4189935502  1648269707 2019-08-17      290     B\n",
       "227      4267573899  2038680547 2019-08-17     3470     A\n",
       "279      1101659272  1648269707 2019-08-18      860     A\n",
       "390      2415738512  2038680547 2019-08-25      270     A\n",
       "577      3932236947  2038680547 2019-08-04     2800     B\n",
       "578      1570911533  2038680547 2019-08-04     1530     A\n",
       "605      1215730747  2038680547 2019-08-04     2540     A\n",
       "624      1666104258  2038680547 2019-08-29     2420     B"
      ]
     },
     "execution_count": 22,
     "metadata": {},
     "output_type": "execute_result"
    }
   ],
   "source": [
    "# возьмем двух покупателей и посмотрим на ситуацию поподробнее\n",
    "\n",
    "orders.query('visitor_id == 2038680547 or visitor_id == 1648269707')"
   ]
  },
  {
   "cell_type": "markdown",
   "id": "e85f1d2a-869c-4bdd-b69f-a5abc4acdc13",
   "metadata": {},
   "source": [
    "Т.об., мы получили подтверждение, что пользователи действительно попали в обе группы, чего при проведении А/В теста быть не должно."
   ]
  },
  {
   "cell_type": "code",
   "execution_count": 23,
   "id": "5d61463d-76be-410d-8967-dd3380f4bf5b",
   "metadata": {},
   "outputs": [],
   "source": [
    "# сохраним id покупателей, оказавшихся в двух группах\n",
    "\n",
    "list_dupl_visitor = douplicated_visitors[douplicated_visitors['group']>1]['visitor_id']"
   ]
  },
  {
   "cell_type": "code",
   "execution_count": 24,
   "id": "8272acaf-21a5-44d4-9fa3-8d073f2ed1a7",
   "metadata": {},
   "outputs": [
    {
     "data": {
      "text/plain": [
       "181"
      ]
     },
     "execution_count": 24,
     "metadata": {},
     "output_type": "execute_result"
    }
   ],
   "source": [
    "orders.query('visitor_id in @list_dupl_visitor')['transaction_id'].count()"
   ]
  },
  {
   "cell_type": "markdown",
   "id": "44f42233-c51c-436e-a76d-0822d7da8209",
   "metadata": {},
   "source": [
    "58 пользователей, попавших в обе группы тестирования совершили 181 покупку. Удалим данных пользователей, т.к. в последующем мы не можем с уверенностью оценить, что изменение произошло именно из-за новой идеи, а не потому что это типичное поведение пользователя."
   ]
  },
  {
   "cell_type": "code",
   "execution_count": 25,
   "id": "46c74e09-7bfc-46ce-8eef-820f299a9a47",
   "metadata": {},
   "outputs": [],
   "source": [
    "orders = orders.query('visitor_id not in  @list_dupl_visitor').reset_index(drop=True)"
   ]
  },
  {
   "cell_type": "markdown",
   "id": "53ae6071-d75b-4c51-af87-868a50fb98c3",
   "metadata": {},
   "source": [
    "<b> Вывод по предобработке данных: </b>\n",
    "\n",
    "- в рамках предобработки данных мы исправили тип данных в столбцах с датой с object на datetime, внесли корректировки в стилистику написания наименований столбцов;\n",
    "- длительность проведения А/В-теста составила 1 месяц (август 2019);\n",
    "- в таблице `orders` нами был выявлен дисбаланс в количестве пользователей между группами, кроме того 58 уникальных покупателей при проведении A/B-теста попали в обе группы тестирования, что может исказить результаты тестирования, в связи с этим мы исключили данных пользователей из анализа. Указанные недочеты с нашей точки зрения следует донести до лиц, ответственных за подготовку к А/В-тестированию, чтобы учесть это при будущих тестах;\n",
    "- для стоимости заказа (выручки от 1 заказа для интернет-магазина) характерен существенный разброс значений: минимальная стоимость заказа составила 50 ден. ед., максимальная же ~ 1.3 млн ден. ед., средняя стоимость заказа составила около 8348 ден. ед, медианная же стоимость заказа составила 2978 ден. ед., а чек 75% заказов не превышает 8290 ден. ед.д.'"
   ]
  },
  {
   "cell_type": "code",
   "execution_count": null,
   "id": "02d8c542-eff1-4fac-ab34-c9918ee26593",
   "metadata": {},
   "outputs": [],
   "source": []
  },
  {
   "cell_type": "markdown",
   "id": "01dfffea-085b-4087-bb4b-b0c5d6a41780",
   "metadata": {},
   "source": [
    "<a id=\"hypotheses\"></a>\n",
    "# Приоритезация гипотез"
   ]
  },
  {
   "cell_type": "markdown",
   "id": "f360a12b-74c9-4845-9960-bcf884772e98",
   "metadata": {},
   "source": [
    "В рамках исследования у нас имеется 9 гипотез. <br/> \n",
    "Одной из задач нашего исследования является их приоритезация с использованием наиболее популярных методов ICE и RICE.<br/>\n",
    "Для начала выведем все гипотезы и посмотрим как распределились оценки."
   ]
  },
  {
   "cell_type": "code",
   "execution_count": 26,
   "id": "9bd94b1a-01e4-449d-b0fd-8d49d987816f",
   "metadata": {},
   "outputs": [
    {
     "data": {
      "text/html": [
       "<div>\n",
       "<style scoped>\n",
       "    .dataframe tbody tr th:only-of-type {\n",
       "        vertical-align: middle;\n",
       "    }\n",
       "\n",
       "    .dataframe tbody tr th {\n",
       "        vertical-align: top;\n",
       "    }\n",
       "\n",
       "    .dataframe thead th {\n",
       "        text-align: right;\n",
       "    }\n",
       "</style>\n",
       "<table border=\"1\" class=\"dataframe\">\n",
       "  <thead>\n",
       "    <tr style=\"text-align: right;\">\n",
       "      <th></th>\n",
       "      <th>hypothesis</th>\n",
       "      <th>reach</th>\n",
       "      <th>impact</th>\n",
       "      <th>confidence</th>\n",
       "      <th>efforts</th>\n",
       "    </tr>\n",
       "  </thead>\n",
       "  <tbody>\n",
       "    <tr>\n",
       "      <th>0</th>\n",
       "      <td>Добавить два новых канала привлечения трафика, что позволит привлекать на 30% больше пользователей</td>\n",
       "      <td>3</td>\n",
       "      <td>10</td>\n",
       "      <td>8</td>\n",
       "      <td>6</td>\n",
       "    </tr>\n",
       "    <tr>\n",
       "      <th>1</th>\n",
       "      <td>Запустить собственную службу доставки, что сократит срок доставки заказов</td>\n",
       "      <td>2</td>\n",
       "      <td>5</td>\n",
       "      <td>4</td>\n",
       "      <td>10</td>\n",
       "    </tr>\n",
       "    <tr>\n",
       "      <th>2</th>\n",
       "      <td>Добавить блоки рекомендаций товаров на сайт интернет магазина, чтобы повысить конверсию и средний чек заказа</td>\n",
       "      <td>8</td>\n",
       "      <td>3</td>\n",
       "      <td>7</td>\n",
       "      <td>3</td>\n",
       "    </tr>\n",
       "    <tr>\n",
       "      <th>3</th>\n",
       "      <td>Изменить структура категорий, что увеличит конверсию, т.к. пользователи быстрее найдут нужный товар</td>\n",
       "      <td>8</td>\n",
       "      <td>3</td>\n",
       "      <td>3</td>\n",
       "      <td>8</td>\n",
       "    </tr>\n",
       "    <tr>\n",
       "      <th>4</th>\n",
       "      <td>Изменить цвет фона главной страницы, чтобы увеличить вовлеченность пользователей</td>\n",
       "      <td>3</td>\n",
       "      <td>1</td>\n",
       "      <td>1</td>\n",
       "      <td>1</td>\n",
       "    </tr>\n",
       "    <tr>\n",
       "      <th>5</th>\n",
       "      <td>Добавить страницу отзывов клиентов о магазине, что позволит увеличить количество заказов</td>\n",
       "      <td>3</td>\n",
       "      <td>2</td>\n",
       "      <td>2</td>\n",
       "      <td>3</td>\n",
       "    </tr>\n",
       "    <tr>\n",
       "      <th>6</th>\n",
       "      <td>Показать на главной странице баннеры с актуальными акциями и распродажами, чтобы увеличить конверсию</td>\n",
       "      <td>5</td>\n",
       "      <td>3</td>\n",
       "      <td>8</td>\n",
       "      <td>3</td>\n",
       "    </tr>\n",
       "    <tr>\n",
       "      <th>7</th>\n",
       "      <td>Добавить форму подписки на все основные страницы, чтобы собрать базу клиентов для email-рассылок</td>\n",
       "      <td>10</td>\n",
       "      <td>7</td>\n",
       "      <td>8</td>\n",
       "      <td>5</td>\n",
       "    </tr>\n",
       "    <tr>\n",
       "      <th>8</th>\n",
       "      <td>Запустить акцию, дающую скидку на товар в день рождения</td>\n",
       "      <td>1</td>\n",
       "      <td>9</td>\n",
       "      <td>9</td>\n",
       "      <td>5</td>\n",
       "    </tr>\n",
       "  </tbody>\n",
       "</table>\n",
       "</div>"
      ],
      "text/plain": [
       "                                                                                                     hypothesis  \\\n",
       "0            Добавить два новых канала привлечения трафика, что позволит привлекать на 30% больше пользователей   \n",
       "1                                     Запустить собственную службу доставки, что сократит срок доставки заказов   \n",
       "2  Добавить блоки рекомендаций товаров на сайт интернет магазина, чтобы повысить конверсию и средний чек заказа   \n",
       "3           Изменить структура категорий, что увеличит конверсию, т.к. пользователи быстрее найдут нужный товар   \n",
       "4                              Изменить цвет фона главной страницы, чтобы увеличить вовлеченность пользователей   \n",
       "5                      Добавить страницу отзывов клиентов о магазине, что позволит увеличить количество заказов   \n",
       "6          Показать на главной странице баннеры с актуальными акциями и распродажами, чтобы увеличить конверсию   \n",
       "7              Добавить форму подписки на все основные страницы, чтобы собрать базу клиентов для email-рассылок   \n",
       "8                                                       Запустить акцию, дающую скидку на товар в день рождения   \n",
       "\n",
       "   reach  impact  confidence  efforts  \n",
       "0      3      10           8        6  \n",
       "1      2       5           4       10  \n",
       "2      8       3           7        3  \n",
       "3      8       3           3        8  \n",
       "4      3       1           1        1  \n",
       "5      3       2           2        3  \n",
       "6      5       3           8        3  \n",
       "7     10       7           8        5  \n",
       "8      1       9           9        5  "
      ]
     },
     "execution_count": 26,
     "metadata": {},
     "output_type": "execute_result"
    }
   ],
   "source": [
    "hypothesis"
   ]
  },
  {
   "cell_type": "markdown",
   "id": "db086fbd-3b18-4370-8528-426d433933fe",
   "metadata": {},
   "source": [
    "<b> Используем метод ICE для приоритезации гипотез."
   ]
  },
  {
   "cell_type": "markdown",
   "id": "d4134cc2-a684-4adc-9c63-10b8733f5f3a",
   "metadata": {},
   "source": [
    "`ICE SCORE = (Impact * Confidence) / Efforts`  "
   ]
  },
  {
   "cell_type": "code",
   "execution_count": 27,
   "id": "d67ba699-d383-4261-ac6a-218681e9d54f",
   "metadata": {},
   "outputs": [
    {
     "data": {
      "text/html": [
       "<div>\n",
       "<style scoped>\n",
       "    .dataframe tbody tr th:only-of-type {\n",
       "        vertical-align: middle;\n",
       "    }\n",
       "\n",
       "    .dataframe tbody tr th {\n",
       "        vertical-align: top;\n",
       "    }\n",
       "\n",
       "    .dataframe thead th {\n",
       "        text-align: right;\n",
       "    }\n",
       "</style>\n",
       "<table border=\"1\" class=\"dataframe\">\n",
       "  <thead>\n",
       "    <tr style=\"text-align: right;\">\n",
       "      <th></th>\n",
       "      <th>hypothesis</th>\n",
       "      <th>ice</th>\n",
       "    </tr>\n",
       "  </thead>\n",
       "  <tbody>\n",
       "    <tr>\n",
       "      <th>8</th>\n",
       "      <td>Запустить акцию, дающую скидку на товар в день рождения</td>\n",
       "      <td>16.20</td>\n",
       "    </tr>\n",
       "    <tr>\n",
       "      <th>0</th>\n",
       "      <td>Добавить два новых канала привлечения трафика, что позволит привлекать на 30% больше пользователей</td>\n",
       "      <td>13.33</td>\n",
       "    </tr>\n",
       "    <tr>\n",
       "      <th>7</th>\n",
       "      <td>Добавить форму подписки на все основные страницы, чтобы собрать базу клиентов для email-рассылок</td>\n",
       "      <td>11.20</td>\n",
       "    </tr>\n",
       "    <tr>\n",
       "      <th>6</th>\n",
       "      <td>Показать на главной странице баннеры с актуальными акциями и распродажами, чтобы увеличить конверсию</td>\n",
       "      <td>8.00</td>\n",
       "    </tr>\n",
       "    <tr>\n",
       "      <th>2</th>\n",
       "      <td>Добавить блоки рекомендаций товаров на сайт интернет магазина, чтобы повысить конверсию и средний чек заказа</td>\n",
       "      <td>7.00</td>\n",
       "    </tr>\n",
       "    <tr>\n",
       "      <th>1</th>\n",
       "      <td>Запустить собственную службу доставки, что сократит срок доставки заказов</td>\n",
       "      <td>2.00</td>\n",
       "    </tr>\n",
       "    <tr>\n",
       "      <th>5</th>\n",
       "      <td>Добавить страницу отзывов клиентов о магазине, что позволит увеличить количество заказов</td>\n",
       "      <td>1.33</td>\n",
       "    </tr>\n",
       "    <tr>\n",
       "      <th>3</th>\n",
       "      <td>Изменить структура категорий, что увеличит конверсию, т.к. пользователи быстрее найдут нужный товар</td>\n",
       "      <td>1.12</td>\n",
       "    </tr>\n",
       "    <tr>\n",
       "      <th>4</th>\n",
       "      <td>Изменить цвет фона главной страницы, чтобы увеличить вовлеченность пользователей</td>\n",
       "      <td>1.00</td>\n",
       "    </tr>\n",
       "  </tbody>\n",
       "</table>\n",
       "</div>"
      ],
      "text/plain": [
       "                                                                                                     hypothesis  \\\n",
       "8                                                       Запустить акцию, дающую скидку на товар в день рождения   \n",
       "0            Добавить два новых канала привлечения трафика, что позволит привлекать на 30% больше пользователей   \n",
       "7              Добавить форму подписки на все основные страницы, чтобы собрать базу клиентов для email-рассылок   \n",
       "6          Показать на главной странице баннеры с актуальными акциями и распродажами, чтобы увеличить конверсию   \n",
       "2  Добавить блоки рекомендаций товаров на сайт интернет магазина, чтобы повысить конверсию и средний чек заказа   \n",
       "1                                     Запустить собственную службу доставки, что сократит срок доставки заказов   \n",
       "5                      Добавить страницу отзывов клиентов о магазине, что позволит увеличить количество заказов   \n",
       "3           Изменить структура категорий, что увеличит конверсию, т.к. пользователи быстрее найдут нужный товар   \n",
       "4                              Изменить цвет фона главной страницы, чтобы увеличить вовлеченность пользователей   \n",
       "\n",
       "     ice  \n",
       "8  16.20  \n",
       "0  13.33  \n",
       "7  11.20  \n",
       "6   8.00  \n",
       "2   7.00  \n",
       "1   2.00  \n",
       "5   1.33  \n",
       "3   1.12  \n",
       "4   1.00  "
      ]
     },
     "execution_count": 27,
     "metadata": {},
     "output_type": "execute_result"
    }
   ],
   "source": [
    "hypothesis['ice'] = round((hypothesis['impact'] * hypothesis['confidence'] / hypothesis['efforts']), 2)\n",
    "hypothesis[['hypothesis', 'ice']].sort_values(by='ice', ascending=False)"
   ]
  },
  {
   "cell_type": "code",
   "execution_count": 28,
   "id": "43a60b44-1c9d-40eb-b9aa-61aed414c0d4",
   "metadata": {},
   "outputs": [
    {
     "data": {
      "image/png": "[encoded data removed]",
      "text/plain": [
       "<Figure size 432x288 with 1 Axes>"
      ]
     },
     "metadata": {},
     "output_type": "display_data"
    }
   ],
   "source": [
    "ax = (hypothesis[['hypothesis', 'ice']]\n",
    "      .set_index('hypothesis')\n",
    "      .sort_values('ice', ascending=False)\n",
    "      .plot(kind='barh', color='orange', legend = False)\n",
    "     )\n",
    "ax.grid(True)\n",
    "ax.set_xlabel('Ice Score')\n",
    "ax.set_ylabel('')\n",
    "ax.set_title('Приоритезация гипотез по методу ICE', loc='left')\n",
    "plt.show()"
   ]
  },
  {
   "cell_type": "markdown",
   "id": "3fe5a447-9c7a-44e0-81ef-c422dd957763",
   "metadata": {},
   "source": [
    "Гипотеза #8 \"Запуск акции, дающей скидку на товар в день рождения\" - имеет наивысший бал: высокая оценка влияния на пользователей (9) усиливается высокой уверенностью в оценке всех параметров (9), что при относительно небольших усилиях (5) выводит данную гипотезу в лидеры. <br>\n",
    "<b> Добавим к расчету параметр Reach (Охват) и приоритезируем гипотезы по методу RICE."
   ]
  },
  {
   "cell_type": "markdown",
   "id": "9ea22010-03aa-4343-be9a-f667bf011386",
   "metadata": {},
   "source": [
    "`RICE SCORE = (Reach * Impact * Confidence) / Efforts` "
   ]
  },
  {
   "cell_type": "code",
   "execution_count": 29,
   "id": "a4ca1da3-d065-407c-9e74-61e64314e630",
   "metadata": {},
   "outputs": [
    {
     "data": {
      "text/html": [
       "<div>\n",
       "<style scoped>\n",
       "    .dataframe tbody tr th:only-of-type {\n",
       "        vertical-align: middle;\n",
       "    }\n",
       "\n",
       "    .dataframe tbody tr th {\n",
       "        vertical-align: top;\n",
       "    }\n",
       "\n",
       "    .dataframe thead th {\n",
       "        text-align: right;\n",
       "    }\n",
       "</style>\n",
       "<table border=\"1\" class=\"dataframe\">\n",
       "  <thead>\n",
       "    <tr style=\"text-align: right;\">\n",
       "      <th></th>\n",
       "      <th>hypothesis</th>\n",
       "      <th>rice</th>\n",
       "    </tr>\n",
       "  </thead>\n",
       "  <tbody>\n",
       "    <tr>\n",
       "      <th>7</th>\n",
       "      <td>Добавить форму подписки на все основные страницы, чтобы собрать базу клиентов для email-рассылок</td>\n",
       "      <td>112.0</td>\n",
       "    </tr>\n",
       "    <tr>\n",
       "      <th>2</th>\n",
       "      <td>Добавить блоки рекомендаций товаров на сайт интернет магазина, чтобы повысить конверсию и средний чек заказа</td>\n",
       "      <td>56.0</td>\n",
       "    </tr>\n",
       "    <tr>\n",
       "      <th>0</th>\n",
       "      <td>Добавить два новых канала привлечения трафика, что позволит привлекать на 30% больше пользователей</td>\n",
       "      <td>40.0</td>\n",
       "    </tr>\n",
       "    <tr>\n",
       "      <th>6</th>\n",
       "      <td>Показать на главной странице баннеры с актуальными акциями и распродажами, чтобы увеличить конверсию</td>\n",
       "      <td>40.0</td>\n",
       "    </tr>\n",
       "    <tr>\n",
       "      <th>8</th>\n",
       "      <td>Запустить акцию, дающую скидку на товар в день рождения</td>\n",
       "      <td>16.2</td>\n",
       "    </tr>\n",
       "    <tr>\n",
       "      <th>3</th>\n",
       "      <td>Изменить структура категорий, что увеличит конверсию, т.к. пользователи быстрее найдут нужный товар</td>\n",
       "      <td>9.0</td>\n",
       "    </tr>\n",
       "    <tr>\n",
       "      <th>1</th>\n",
       "      <td>Запустить собственную службу доставки, что сократит срок доставки заказов</td>\n",
       "      <td>4.0</td>\n",
       "    </tr>\n",
       "    <tr>\n",
       "      <th>5</th>\n",
       "      <td>Добавить страницу отзывов клиентов о магазине, что позволит увеличить количество заказов</td>\n",
       "      <td>4.0</td>\n",
       "    </tr>\n",
       "    <tr>\n",
       "      <th>4</th>\n",
       "      <td>Изменить цвет фона главной страницы, чтобы увеличить вовлеченность пользователей</td>\n",
       "      <td>3.0</td>\n",
       "    </tr>\n",
       "  </tbody>\n",
       "</table>\n",
       "</div>"
      ],
      "text/plain": [
       "                                                                                                     hypothesis  \\\n",
       "7              Добавить форму подписки на все основные страницы, чтобы собрать базу клиентов для email-рассылок   \n",
       "2  Добавить блоки рекомендаций товаров на сайт интернет магазина, чтобы повысить конверсию и средний чек заказа   \n",
       "0            Добавить два новых канала привлечения трафика, что позволит привлекать на 30% больше пользователей   \n",
       "6          Показать на главной странице баннеры с актуальными акциями и распродажами, чтобы увеличить конверсию   \n",
       "8                                                       Запустить акцию, дающую скидку на товар в день рождения   \n",
       "3           Изменить структура категорий, что увеличит конверсию, т.к. пользователи быстрее найдут нужный товар   \n",
       "1                                     Запустить собственную службу доставки, что сократит срок доставки заказов   \n",
       "5                      Добавить страницу отзывов клиентов о магазине, что позволит увеличить количество заказов   \n",
       "4                              Изменить цвет фона главной страницы, чтобы увеличить вовлеченность пользователей   \n",
       "\n",
       "    rice  \n",
       "7  112.0  \n",
       "2   56.0  \n",
       "0   40.0  \n",
       "6   40.0  \n",
       "8   16.2  \n",
       "3    9.0  \n",
       "1    4.0  \n",
       "5    4.0  \n",
       "4    3.0  "
      ]
     },
     "execution_count": 29,
     "metadata": {},
     "output_type": "execute_result"
    }
   ],
   "source": [
    "hypothesis['rice'] = hypothesis['reach'] * hypothesis['impact'] * hypothesis['confidence'] / hypothesis['efforts']\n",
    "hypothesis[['hypothesis', 'rice']].sort_values(by='rice', ascending=False)"
   ]
  },
  {
   "cell_type": "code",
   "execution_count": 30,
   "id": "2c5bcec3-0b06-4103-bcfe-b01e9b6b4a54",
   "metadata": {},
   "outputs": [
    {
     "data": {
      "image/png": "[encoded data removed]",
      "text/plain": [
       "<Figure size 432x288 with 1 Axes>"
      ]
     },
     "metadata": {},
     "output_type": "display_data"
    }
   ],
   "source": [
    "ax = (hypothesis[['hypothesis', 'rice']]\n",
    "      .set_index('hypothesis')\n",
    "      .sort_values('rice', ascending=False)\n",
    "      .plot(kind='barh', color='green', legend = False)\n",
    "     )\n",
    "ax.grid(True)\n",
    "ax.set_xlabel('Rice Score')\n",
    "ax.set_ylabel('')\n",
    "ax.set_title('Приоритезация гипотез по методу RICE', loc='left')\n",
    "plt.show()"
   ]
  },
  {
   "cell_type": "markdown",
   "id": "0edce601-cc54-47b9-bafc-ff84836ed8d4",
   "metadata": {},
   "source": [
    "Гипотезы с #7 и #0 остались в топ-3, при этом гипотеза о \"добавлении формы подписки на все основные страницы\" (#7) поднялась на первое место за счет наибольшей оценки по параметру reach (охват). Гипотеза о привлечении двух новых каналов трафика (#0), наоборот, опустилась со второго на третье место, здесь также роль сыграла оценка количества охваченных пользователей в 3 балла. На второе место вышла гипотеза #2 (добавление блоков рекомендаций товаров на сайт интернет-магазина): высокая оценка reach (8 баллов) и низкая оценка сложности реализации данной гипотезы (3 балла). А вот гипотеза, которая была наиболее приоритетной с точки зрения ICE-фреймворка #8 \"Запуск акции, дающей скидку на товар в день рождения\" опустилась на 5-ую позицию с т.зр. приоритета в связи с низким значением показателя охвата (1 балл)."
   ]
  },
  {
   "cell_type": "code",
   "execution_count": 31,
   "id": "b87c0b5c-7a44-4435-b2d4-a76d56245464",
   "metadata": {},
   "outputs": [
    {
     "data": {
      "image/png": "[encoded data removed]",
      "text/plain": [
       "<Figure size 936x432 with 1 Axes>"
      ]
     },
     "metadata": {},
     "output_type": "display_data"
    }
   ],
   "source": [
    "plt.figure(figsize=(13,6))\n",
    "x = hypothesis['ice'] \n",
    "y = hypothesis['rice'] \n",
    "tips = hypothesis.index \n",
    "\n",
    "plt.scatter(x, y, color='#fc8d62', marker = \"*\", s=100)\n",
    "\n",
    "for i, txt in enumerate(tips):\n",
    "    plt.annotate(txt, (x[i]-.2, y[i]+.1), size = 10)\n",
    "    \n",
    "plt.title('Распределение гипотез по фреймворкам ICE и RICE', fontsize=12)\n",
    "plt.ylabel('RICE')\n",
    "plt.xlabel('ICE')\n",
    "plt.show()"
   ]
  },
  {
   "cell_type": "markdown",
   "id": "77210749-62a3-4d8c-b186-a55c3d5e7f5e",
   "metadata": {},
   "source": [
    "# Вывод по приоритезации гипотез:\n",
    "- приоритет гипотез различается по фреймворкам;\n",
    "- гипотезы #7 и #0 находятся в топ-3 гипотезах по приоритетности в рамках обоих фреймворков;\n",
    "- гипотеза #8, лидирующая во фреймворке ICE опустилась с первого места на пятое, в то время как гипотеза #2, наоборот, во фреймфорке RICE поднялась с пятого на второе место. Причиной данного факта является то, что важным моментом в приоритезации гипотезы (в рамках фреймворка RICE) является оценка того, как много пользователей она охватывает: в нашем случае гипотеза #8 имеет параметр reach = 1 (по 10-бальной шкале), в то время как гипотеза #2 = 8, а гипотеза #7 = 10 (максимальный балл)."
   ]
  },
  {
   "cell_type": "markdown",
   "id": "fa37b82e-f9e9-45db-b511-17ae6ec341e1",
   "metadata": {},
   "source": [
    "<a id=\"analysis\"></a>\n",
    "# Анализ A/B-теста"
   ]
  },
  {
   "cell_type": "markdown",
   "id": "96e10da8-75d4-40ff-bee8-13f0c9c09240",
   "metadata": {},
   "source": [
    "<a id=\"cum_rev\"></a>\n",
    "# График кумулятивной выручки по группам."
   ]
  },
  {
   "cell_type": "markdown",
   "id": "10373122-77a6-4a51-873a-30dcc55a7409",
   "metadata": {},
   "source": [
    "Прежде чем построить графики по кумулятивным данным соберем соответствующий агрегированный датафрейм, который будет содержать информацию о дате, группе (А или В), кумулятивных количестве заказов и пользователей их оформивших, среднем чеке и о кумулятивном количестве посетителей магазина."
   ]
  },
  {
   "cell_type": "code",
   "execution_count": 32,
   "id": "cd74d878-a041-47c7-8b92-3b94d5c8c286",
   "metadata": {},
   "outputs": [
    {
     "data": {
      "text/html": [
       "<div>\n",
       "<style scoped>\n",
       "    .dataframe tbody tr th:only-of-type {\n",
       "        vertical-align: middle;\n",
       "    }\n",
       "\n",
       "    .dataframe tbody tr th {\n",
       "        vertical-align: top;\n",
       "    }\n",
       "\n",
       "    .dataframe thead th {\n",
       "        text-align: right;\n",
       "    }\n",
       "</style>\n",
       "<table border=\"1\" class=\"dataframe\">\n",
       "  <thead>\n",
       "    <tr style=\"text-align: right;\">\n",
       "      <th></th>\n",
       "      <th>date</th>\n",
       "      <th>group</th>\n",
       "    </tr>\n",
       "  </thead>\n",
       "  <tbody>\n",
       "    <tr>\n",
       "      <th>0</th>\n",
       "      <td>2019-08-15</td>\n",
       "      <td>B</td>\n",
       "    </tr>\n",
       "    <tr>\n",
       "      <th>6</th>\n",
       "      <td>2019-08-15</td>\n",
       "      <td>A</td>\n",
       "    </tr>\n",
       "    <tr>\n",
       "      <th>35</th>\n",
       "      <td>2019-08-16</td>\n",
       "      <td>A</td>\n",
       "    </tr>\n",
       "    <tr>\n",
       "      <th>37</th>\n",
       "      <td>2019-08-16</td>\n",
       "      <td>B</td>\n",
       "    </tr>\n",
       "    <tr>\n",
       "      <th>45</th>\n",
       "      <td>2019-08-01</td>\n",
       "      <td>A</td>\n",
       "    </tr>\n",
       "  </tbody>\n",
       "</table>\n",
       "</div>"
      ],
      "text/plain": [
       "         date group\n",
       "0  2019-08-15     B\n",
       "6  2019-08-15     A\n",
       "35 2019-08-16     A\n",
       "37 2019-08-16     B\n",
       "45 2019-08-01     A"
      ]
     },
     "execution_count": 32,
     "metadata": {},
     "output_type": "execute_result"
    }
   ],
   "source": [
    "# соз массив уникальных пар значений дат и групп теста\n",
    "dates_grouped = orders[['date', 'group']].drop_duplicates()\n",
    "dates_grouped.head()"
   ]
  },
  {
   "cell_type": "code",
   "execution_count": 33,
   "id": "0e4c4cba-2b34-487e-abd1-113069501916",
   "metadata": {},
   "outputs": [
    {
     "data": {
      "text/html": [
       "<div>\n",
       "<style scoped>\n",
       "    .dataframe tbody tr th:only-of-type {\n",
       "        vertical-align: middle;\n",
       "    }\n",
       "\n",
       "    .dataframe tbody tr th {\n",
       "        vertical-align: top;\n",
       "    }\n",
       "\n",
       "    .dataframe thead th {\n",
       "        text-align: right;\n",
       "    }\n",
       "</style>\n",
       "<table border=\"1\" class=\"dataframe\">\n",
       "  <thead>\n",
       "    <tr style=\"text-align: right;\">\n",
       "      <th></th>\n",
       "      <th>date</th>\n",
       "      <th>group</th>\n",
       "      <th>transaction_id</th>\n",
       "      <th>visitor_id</th>\n",
       "      <th>revenue</th>\n",
       "    </tr>\n",
       "  </thead>\n",
       "  <tbody>\n",
       "    <tr>\n",
       "      <th>45</th>\n",
       "      <td>2019-08-01</td>\n",
       "      <td>A</td>\n",
       "      <td>23</td>\n",
       "      <td>19</td>\n",
       "      <td>142779</td>\n",
       "    </tr>\n",
       "    <tr>\n",
       "      <th>54</th>\n",
       "      <td>2019-08-01</td>\n",
       "      <td>B</td>\n",
       "      <td>17</td>\n",
       "      <td>17</td>\n",
       "      <td>59758</td>\n",
       "    </tr>\n",
       "    <tr>\n",
       "      <th>149</th>\n",
       "      <td>2019-08-02</td>\n",
       "      <td>A</td>\n",
       "      <td>42</td>\n",
       "      <td>36</td>\n",
       "      <td>234381</td>\n",
       "    </tr>\n",
       "    <tr>\n",
       "      <th>147</th>\n",
       "      <td>2019-08-02</td>\n",
       "      <td>B</td>\n",
       "      <td>40</td>\n",
       "      <td>39</td>\n",
       "      <td>221801</td>\n",
       "    </tr>\n",
       "    <tr>\n",
       "      <th>245</th>\n",
       "      <td>2019-08-03</td>\n",
       "      <td>A</td>\n",
       "      <td>66</td>\n",
       "      <td>60</td>\n",
       "      <td>346854</td>\n",
       "    </tr>\n",
       "  </tbody>\n",
       "</table>\n",
       "</div>"
      ],
      "text/plain": [
       "          date group  transaction_id  visitor_id  revenue\n",
       "45  2019-08-01     A              23          19   142779\n",
       "54  2019-08-01     B              17          17    59758\n",
       "149 2019-08-02     A              42          36   234381\n",
       "147 2019-08-02     B              40          39   221801\n",
       "245 2019-08-03     A              66          60   346854"
      ]
     },
     "execution_count": 33,
     "metadata": {},
     "output_type": "execute_result"
    }
   ],
   "source": [
    "# получим агрегированные кумулятивные по дням данные о заказах \n",
    "orders_grouped = dates_grouped.apply(\n",
    "    lambda x: orders[\n",
    "        np.logical_and(\n",
    "            orders['date'] <= x['date'], orders['group'] == x['group']\n",
    "        )\n",
    "    ].agg(\n",
    "        {\n",
    "            'date': 'max',\n",
    "            'group': 'max',\n",
    "            'transaction_id': 'nunique',\n",
    "            'visitor_id': 'nunique',\n",
    "            'revenue': 'sum',\n",
    "        }\n",
    "    ),\n",
    "    axis=1,\n",
    ").sort_values(by=['date', 'group'])\n",
    "\n",
    "orders_grouped.head()"
   ]
  },
  {
   "cell_type": "code",
   "execution_count": 34,
   "id": "a5a8aa7b-e46c-4d45-9a95-3fbf5bd9e3ac",
   "metadata": {},
   "outputs": [
    {
     "data": {
      "text/html": [
       "<div>\n",
       "<style scoped>\n",
       "    .dataframe tbody tr th:only-of-type {\n",
       "        vertical-align: middle;\n",
       "    }\n",
       "\n",
       "    .dataframe tbody tr th {\n",
       "        vertical-align: top;\n",
       "    }\n",
       "\n",
       "    .dataframe thead th {\n",
       "        text-align: right;\n",
       "    }\n",
       "</style>\n",
       "<table border=\"1\" class=\"dataframe\">\n",
       "  <thead>\n",
       "    <tr style=\"text-align: right;\">\n",
       "      <th></th>\n",
       "      <th>date</th>\n",
       "      <th>group</th>\n",
       "      <th>visitors</th>\n",
       "    </tr>\n",
       "  </thead>\n",
       "  <tbody>\n",
       "    <tr>\n",
       "      <th>45</th>\n",
       "      <td>2019-08-01</td>\n",
       "      <td>A</td>\n",
       "      <td>719</td>\n",
       "    </tr>\n",
       "    <tr>\n",
       "      <th>54</th>\n",
       "      <td>2019-08-01</td>\n",
       "      <td>B</td>\n",
       "      <td>713</td>\n",
       "    </tr>\n",
       "    <tr>\n",
       "      <th>149</th>\n",
       "      <td>2019-08-02</td>\n",
       "      <td>A</td>\n",
       "      <td>1338</td>\n",
       "    </tr>\n",
       "    <tr>\n",
       "      <th>147</th>\n",
       "      <td>2019-08-02</td>\n",
       "      <td>B</td>\n",
       "      <td>1294</td>\n",
       "    </tr>\n",
       "    <tr>\n",
       "      <th>245</th>\n",
       "      <td>2019-08-03</td>\n",
       "      <td>A</td>\n",
       "      <td>1845</td>\n",
       "    </tr>\n",
       "  </tbody>\n",
       "</table>\n",
       "</div>"
      ],
      "text/plain": [
       "          date group  visitors\n",
       "45  2019-08-01     A       719\n",
       "54  2019-08-01     B       713\n",
       "149 2019-08-02     A      1338\n",
       "147 2019-08-02     B      1294\n",
       "245 2019-08-03     A      1845"
      ]
     },
     "execution_count": 34,
     "metadata": {},
     "output_type": "execute_result"
    }
   ],
   "source": [
    "# получим агрегированные кумулятивные по дням данные о посетителях интернет-магазина \n",
    "\n",
    "visitors_grouped = dates_grouped.apply(\n",
    "    lambda x: visitors[\n",
    "        np.logical_and(\n",
    "            visitors['date'] <= x['date'], visitors['group'] == x['group']\n",
    "        )\n",
    "    ].agg(\n",
    "        {\n",
    "            'date': 'max', \n",
    "            'group': 'max', \n",
    "            'visitors': 'sum'\n",
    "        }\n",
    "    ),\n",
    "    axis=1,\n",
    ").sort_values(by=['date', 'group'])\n",
    "\n",
    "visitors_grouped.head()"
   ]
  },
  {
   "cell_type": "code",
   "execution_count": 35,
   "id": "90a39cf7-5152-4178-8b50-b8d534401af5",
   "metadata": {
    "scrolled": true
   },
   "outputs": [
    {
     "data": {
      "text/html": [
       "<div>\n",
       "<style scoped>\n",
       "    .dataframe tbody tr th:only-of-type {\n",
       "        vertical-align: middle;\n",
       "    }\n",
       "\n",
       "    .dataframe tbody tr th {\n",
       "        vertical-align: top;\n",
       "    }\n",
       "\n",
       "    .dataframe thead th {\n",
       "        text-align: right;\n",
       "    }\n",
       "</style>\n",
       "<table border=\"1\" class=\"dataframe\">\n",
       "  <thead>\n",
       "    <tr style=\"text-align: right;\">\n",
       "      <th></th>\n",
       "      <th>date</th>\n",
       "      <th>group</th>\n",
       "      <th>orders</th>\n",
       "      <th>buyers</th>\n",
       "      <th>revenue</th>\n",
       "      <th>visitors</th>\n",
       "    </tr>\n",
       "  </thead>\n",
       "  <tbody>\n",
       "    <tr>\n",
       "      <th>0</th>\n",
       "      <td>2019-08-01</td>\n",
       "      <td>A</td>\n",
       "      <td>23</td>\n",
       "      <td>19</td>\n",
       "      <td>142779</td>\n",
       "      <td>719</td>\n",
       "    </tr>\n",
       "    <tr>\n",
       "      <th>1</th>\n",
       "      <td>2019-08-01</td>\n",
       "      <td>B</td>\n",
       "      <td>17</td>\n",
       "      <td>17</td>\n",
       "      <td>59758</td>\n",
       "      <td>713</td>\n",
       "    </tr>\n",
       "    <tr>\n",
       "      <th>2</th>\n",
       "      <td>2019-08-02</td>\n",
       "      <td>A</td>\n",
       "      <td>42</td>\n",
       "      <td>36</td>\n",
       "      <td>234381</td>\n",
       "      <td>1338</td>\n",
       "    </tr>\n",
       "    <tr>\n",
       "      <th>3</th>\n",
       "      <td>2019-08-02</td>\n",
       "      <td>B</td>\n",
       "      <td>40</td>\n",
       "      <td>39</td>\n",
       "      <td>221801</td>\n",
       "      <td>1294</td>\n",
       "    </tr>\n",
       "    <tr>\n",
       "      <th>4</th>\n",
       "      <td>2019-08-03</td>\n",
       "      <td>A</td>\n",
       "      <td>66</td>\n",
       "      <td>60</td>\n",
       "      <td>346854</td>\n",
       "      <td>1845</td>\n",
       "    </tr>\n",
       "  </tbody>\n",
       "</table>\n",
       "</div>"
      ],
      "text/plain": [
       "        date group  orders  buyers  revenue  visitors\n",
       "0 2019-08-01     A      23      19   142779       719\n",
       "1 2019-08-01     B      17      17    59758       713\n",
       "2 2019-08-02     A      42      36   234381      1338\n",
       "3 2019-08-02     B      40      39   221801      1294\n",
       "4 2019-08-03     A      66      60   346854      1845"
      ]
     },
     "execution_count": 35,
     "metadata": {},
     "output_type": "execute_result"
    }
   ],
   "source": [
    "# объединяем кумулятивные данные в одной таблице и присвоим ее столбцам соответствующие названия\n",
    "\n",
    "cumulative_data = orders_grouped.merge(\n",
    "    visitors_grouped, \n",
    "    left_on=['date', 'group'], \n",
    "    right_on=['date', 'group']\n",
    ")\n",
    "\n",
    "cumulative_data.columns = ['date', 'group', 'orders', 'buyers', 'revenue', 'visitors']\n",
    "cumulative_data.head()"
   ]
  },
  {
   "cell_type": "code",
   "execution_count": 36,
   "id": "dfbc4153-b5ab-4894-bad3-207982f4135c",
   "metadata": {},
   "outputs": [
    {
     "data": {
      "text/html": [
       "<div>\n",
       "<style scoped>\n",
       "    .dataframe tbody tr th:only-of-type {\n",
       "        vertical-align: middle;\n",
       "    }\n",
       "\n",
       "    .dataframe tbody tr th {\n",
       "        vertical-align: top;\n",
       "    }\n",
       "\n",
       "    .dataframe thead th {\n",
       "        text-align: right;\n",
       "    }\n",
       "</style>\n",
       "<table border=\"1\" class=\"dataframe\">\n",
       "  <thead>\n",
       "    <tr style=\"text-align: right;\">\n",
       "      <th></th>\n",
       "      <th>date</th>\n",
       "      <th>group</th>\n",
       "      <th>orders</th>\n",
       "      <th>buyers</th>\n",
       "      <th>revenue</th>\n",
       "      <th>visitors</th>\n",
       "      <th>avg_check</th>\n",
       "      <th>conversion</th>\n",
       "    </tr>\n",
       "  </thead>\n",
       "  <tbody>\n",
       "    <tr>\n",
       "      <th>0</th>\n",
       "      <td>2019-08-01</td>\n",
       "      <td>A</td>\n",
       "      <td>23</td>\n",
       "      <td>19</td>\n",
       "      <td>142779</td>\n",
       "      <td>719</td>\n",
       "      <td>6207.782609</td>\n",
       "      <td>0.031989</td>\n",
       "    </tr>\n",
       "    <tr>\n",
       "      <th>1</th>\n",
       "      <td>2019-08-01</td>\n",
       "      <td>B</td>\n",
       "      <td>17</td>\n",
       "      <td>17</td>\n",
       "      <td>59758</td>\n",
       "      <td>713</td>\n",
       "      <td>3515.176471</td>\n",
       "      <td>0.023843</td>\n",
       "    </tr>\n",
       "    <tr>\n",
       "      <th>2</th>\n",
       "      <td>2019-08-02</td>\n",
       "      <td>A</td>\n",
       "      <td>42</td>\n",
       "      <td>36</td>\n",
       "      <td>234381</td>\n",
       "      <td>1338</td>\n",
       "      <td>5580.500000</td>\n",
       "      <td>0.031390</td>\n",
       "    </tr>\n",
       "    <tr>\n",
       "      <th>3</th>\n",
       "      <td>2019-08-02</td>\n",
       "      <td>B</td>\n",
       "      <td>40</td>\n",
       "      <td>39</td>\n",
       "      <td>221801</td>\n",
       "      <td>1294</td>\n",
       "      <td>5545.025000</td>\n",
       "      <td>0.030912</td>\n",
       "    </tr>\n",
       "    <tr>\n",
       "      <th>4</th>\n",
       "      <td>2019-08-03</td>\n",
       "      <td>A</td>\n",
       "      <td>66</td>\n",
       "      <td>60</td>\n",
       "      <td>346854</td>\n",
       "      <td>1845</td>\n",
       "      <td>5255.363636</td>\n",
       "      <td>0.035772</td>\n",
       "    </tr>\n",
       "    <tr>\n",
       "      <th>5</th>\n",
       "      <td>2019-08-03</td>\n",
       "      <td>B</td>\n",
       "      <td>54</td>\n",
       "      <td>53</td>\n",
       "      <td>288850</td>\n",
       "      <td>1803</td>\n",
       "      <td>5349.074074</td>\n",
       "      <td>0.029950</td>\n",
       "    </tr>\n",
       "  </tbody>\n",
       "</table>\n",
       "</div>"
      ],
      "text/plain": [
       "        date group  orders  buyers  revenue  visitors    avg_check  conversion\n",
       "0 2019-08-01     A      23      19   142779       719  6207.782609    0.031989\n",
       "1 2019-08-01     B      17      17    59758       713  3515.176471    0.023843\n",
       "2 2019-08-02     A      42      36   234381      1338  5580.500000    0.031390\n",
       "3 2019-08-02     B      40      39   221801      1294  5545.025000    0.030912\n",
       "4 2019-08-03     A      66      60   346854      1845  5255.363636    0.035772\n",
       "5 2019-08-03     B      54      53   288850      1803  5349.074074    0.029950"
      ]
     },
     "execution_count": 36,
     "metadata": {},
     "output_type": "execute_result"
    }
   ],
   "source": [
    "# добавим столбец со средним чеком заказа\n",
    "cumulative_data['avg_check'] = cumulative_data['revenue'] / cumulative_data['orders']\n",
    "\n",
    "# добавим столбец с отношением заказов к количеству посетителей\n",
    "cumulative_data['conversion'] = cumulative_data['orders']/cumulative_data['visitors']\n",
    "\n",
    "# выведем на экран информацию по первым 6 строкам (число строк увеличим до 6, чтобы видеть полностью 3 даты)\n",
    "cumulative_data.head(6)"
   ]
  },
  {
   "cell_type": "code",
   "execution_count": 37,
   "id": "0f919c47-d911-4f68-a278-91a3d725436e",
   "metadata": {},
   "outputs": [
    {
     "data": {
      "image/png": "[encoded data removed]",
      "text/plain": [
       "<Figure size 936x432 with 1 Axes>"
      ]
     },
     "metadata": {},
     "output_type": "display_data"
    }
   ],
   "source": [
    "# создадим датафрейм с кумулятивным количеством заказов и кумулятивной выручкой по дням в группе А\n",
    "cumulative_revenue_a = cumulative_data[cumulative_data['group']=='A'][['date','revenue', 'orders', 'avg_check', 'conversion']]\n",
    "\n",
    "# создадим датафрейм с кумулятивным количеством заказов и кумулятивной выручкой по дням в группе В\n",
    "cumulative_revenue_b = cumulative_data[cumulative_data['group']=='B'][['date','revenue', 'orders', 'avg_check', 'conversion']]\n",
    "\n",
    "#зададим размер фигуры\n",
    "plt.figure(figsize=(13,6))\n",
    "\n",
    "# построим линейные графики для групп А и В\n",
    "plt.plot(cumulative_revenue_a['date'], cumulative_revenue_a['revenue'], label='A')\n",
    "plt.plot(cumulative_revenue_b['date'], cumulative_revenue_b['revenue'], label='B')\n",
    "\n",
    "# зададим подписи на графике\n",
    "plt.title('График динамики кумулятивной выручки по группам А и В')\n",
    "plt.xlabel('Дата')\n",
    "plt.ylabel('Выручка, млн ден. ед.')\n",
    "plt.legend()\n",
    "plt.show()"
   ]
  },
  {
   "cell_type": "markdown",
   "id": "5d06510b-56ef-4628-bbc3-8388435b36dd",
   "metadata": {},
   "source": [
    "Кумулятивная выручка группы А растет линейно и она ниже выручки группы В. У группы А - постоянный плавный рост, при том, что у группы В наблюдается резкий скачок выручки в районе 18-19 августа, что может свидетельствовать о всплесках или числа заказов, или их стоимости."
   ]
  },
  {
   "cell_type": "code",
   "execution_count": 38,
   "id": "dea773b9-fa4f-4599-a8c8-35167dec9640",
   "metadata": {},
   "outputs": [
    {
     "data": {
      "text/html": [
       "<div>\n",
       "<style scoped>\n",
       "    .dataframe tbody tr th:only-of-type {\n",
       "        vertical-align: middle;\n",
       "    }\n",
       "\n",
       "    .dataframe tbody tr th {\n",
       "        vertical-align: top;\n",
       "    }\n",
       "\n",
       "    .dataframe thead th {\n",
       "        text-align: right;\n",
       "    }\n",
       "</style>\n",
       "<table border=\"1\" class=\"dataframe\">\n",
       "  <thead>\n",
       "    <tr style=\"text-align: right;\">\n",
       "      <th></th>\n",
       "      <th>transaction_id</th>\n",
       "      <th>revenue</th>\n",
       "    </tr>\n",
       "    <tr>\n",
       "      <th>date</th>\n",
       "      <th></th>\n",
       "      <th></th>\n",
       "    </tr>\n",
       "  </thead>\n",
       "  <tbody>\n",
       "    <tr>\n",
       "      <th>2019-08-01</th>\n",
       "      <td>40</td>\n",
       "      <td>202537</td>\n",
       "    </tr>\n",
       "    <tr>\n",
       "      <th>2019-08-02</th>\n",
       "      <td>42</td>\n",
       "      <td>253645</td>\n",
       "    </tr>\n",
       "    <tr>\n",
       "      <th>2019-08-03</th>\n",
       "      <td>38</td>\n",
       "      <td>179522</td>\n",
       "    </tr>\n",
       "    <tr>\n",
       "      <th>2019-08-04</th>\n",
       "      <td>25</td>\n",
       "      <td>138066</td>\n",
       "    </tr>\n",
       "    <tr>\n",
       "      <th>2019-08-05</th>\n",
       "      <td>43</td>\n",
       "      <td>176291</td>\n",
       "    </tr>\n",
       "    <tr>\n",
       "      <th>2019-08-06</th>\n",
       "      <td>38</td>\n",
       "      <td>255761</td>\n",
       "    </tr>\n",
       "    <tr>\n",
       "      <th>2019-08-07</th>\n",
       "      <td>39</td>\n",
       "      <td>342412</td>\n",
       "    </tr>\n",
       "    <tr>\n",
       "      <th>2019-08-08</th>\n",
       "      <td>36</td>\n",
       "      <td>238780</td>\n",
       "    </tr>\n",
       "    <tr>\n",
       "      <th>2019-08-09</th>\n",
       "      <td>30</td>\n",
       "      <td>237403</td>\n",
       "    </tr>\n",
       "    <tr>\n",
       "      <th>2019-08-10</th>\n",
       "      <td>37</td>\n",
       "      <td>257437</td>\n",
       "    </tr>\n",
       "    <tr>\n",
       "      <th>2019-08-11</th>\n",
       "      <td>23</td>\n",
       "      <td>113725</td>\n",
       "    </tr>\n",
       "    <tr>\n",
       "      <th>2019-08-12</th>\n",
       "      <td>38</td>\n",
       "      <td>324446</td>\n",
       "    </tr>\n",
       "    <tr>\n",
       "      <th>2019-08-13</th>\n",
       "      <td>34</td>\n",
       "      <td>381329</td>\n",
       "    </tr>\n",
       "    <tr>\n",
       "      <th>2019-08-14</th>\n",
       "      <td>31</td>\n",
       "      <td>150606</td>\n",
       "    </tr>\n",
       "    <tr>\n",
       "      <th>2019-08-15</th>\n",
       "      <td>36</td>\n",
       "      <td>391036</td>\n",
       "    </tr>\n",
       "    <tr>\n",
       "      <th>2019-08-16</th>\n",
       "      <td>36</td>\n",
       "      <td>214101</td>\n",
       "    </tr>\n",
       "    <tr>\n",
       "      <th>2019-08-17</th>\n",
       "      <td>19</td>\n",
       "      <td>115605</td>\n",
       "    </tr>\n",
       "    <tr>\n",
       "      <th>2019-08-18</th>\n",
       "      <td>20</td>\n",
       "      <td>94904</td>\n",
       "    </tr>\n",
       "    <tr>\n",
       "      <th>2019-08-19</th>\n",
       "      <td>42</td>\n",
       "      <td>1598113</td>\n",
       "    </tr>\n",
       "    <tr>\n",
       "      <th>2019-08-20</th>\n",
       "      <td>30</td>\n",
       "      <td>205953</td>\n",
       "    </tr>\n",
       "    <tr>\n",
       "      <th>2019-08-21</th>\n",
       "      <td>32</td>\n",
       "      <td>310516</td>\n",
       "    </tr>\n",
       "    <tr>\n",
       "      <th>2019-08-22</th>\n",
       "      <td>31</td>\n",
       "      <td>234093</td>\n",
       "    </tr>\n",
       "    <tr>\n",
       "      <th>2019-08-23</th>\n",
       "      <td>33</td>\n",
       "      <td>135132</td>\n",
       "    </tr>\n",
       "    <tr>\n",
       "      <th>2019-08-24</th>\n",
       "      <td>27</td>\n",
       "      <td>209879</td>\n",
       "    </tr>\n",
       "    <tr>\n",
       "      <th>2019-08-25</th>\n",
       "      <td>20</td>\n",
       "      <td>131141</td>\n",
       "    </tr>\n",
       "    <tr>\n",
       "      <th>2019-08-26</th>\n",
       "      <td>38</td>\n",
       "      <td>330653</td>\n",
       "    </tr>\n",
       "    <tr>\n",
       "      <th>2019-08-27</th>\n",
       "      <td>34</td>\n",
       "      <td>296697</td>\n",
       "    </tr>\n",
       "    <tr>\n",
       "      <th>2019-08-28</th>\n",
       "      <td>37</td>\n",
       "      <td>157660</td>\n",
       "    </tr>\n",
       "    <tr>\n",
       "      <th>2019-08-29</th>\n",
       "      <td>32</td>\n",
       "      <td>302400</td>\n",
       "    </tr>\n",
       "    <tr>\n",
       "      <th>2019-08-30</th>\n",
       "      <td>30</td>\n",
       "      <td>287403</td>\n",
       "    </tr>\n",
       "    <tr>\n",
       "      <th>2019-08-31</th>\n",
       "      <td>25</td>\n",
       "      <td>166382</td>\n",
       "    </tr>\n",
       "  </tbody>\n",
       "</table>\n",
       "</div>"
      ],
      "text/plain": [
       "            transaction_id  revenue\n",
       "date                               \n",
       "2019-08-01              40   202537\n",
       "2019-08-02              42   253645\n",
       "2019-08-03              38   179522\n",
       "2019-08-04              25   138066\n",
       "2019-08-05              43   176291\n",
       "2019-08-06              38   255761\n",
       "2019-08-07              39   342412\n",
       "2019-08-08              36   238780\n",
       "2019-08-09              30   237403\n",
       "2019-08-10              37   257437\n",
       "2019-08-11              23   113725\n",
       "2019-08-12              38   324446\n",
       "2019-08-13              34   381329\n",
       "2019-08-14              31   150606\n",
       "2019-08-15              36   391036\n",
       "2019-08-16              36   214101\n",
       "2019-08-17              19   115605\n",
       "2019-08-18              20    94904\n",
       "2019-08-19              42  1598113\n",
       "2019-08-20              30   205953\n",
       "2019-08-21              32   310516\n",
       "2019-08-22              31   234093\n",
       "2019-08-23              33   135132\n",
       "2019-08-24              27   209879\n",
       "2019-08-25              20   131141\n",
       "2019-08-26              38   330653\n",
       "2019-08-27              34   296697\n",
       "2019-08-28              37   157660\n",
       "2019-08-29              32   302400\n",
       "2019-08-30              30   287403\n",
       "2019-08-31              25   166382"
      ]
     },
     "execution_count": 38,
     "metadata": {},
     "output_type": "execute_result"
    }
   ],
   "source": [
    "orders.groupby('date').agg({'transaction_id':'count', 'revenue':'sum'})"
   ]
  },
  {
   "cell_type": "markdown",
   "id": "380783bf-cd65-47a6-aa16-51ee7974f3b3",
   "metadata": {},
   "source": [
    "19 августа наблюдается максимальная выручка за весь месяц, почти 1.6 млн ден. ед, количество заказов в этот день составило 42 при среднем количестве заказов в день ~ 33. Посмотри на данный день еще подробнее."
   ]
  },
  {
   "cell_type": "code",
   "execution_count": 39,
   "id": "59a62e62-acb3-4f67-adc7-bc983f126eb8",
   "metadata": {},
   "outputs": [
    {
     "data": {
      "text/html": [
       "<div>\n",
       "<style scoped>\n",
       "    .dataframe tbody tr th:only-of-type {\n",
       "        vertical-align: middle;\n",
       "    }\n",
       "\n",
       "    .dataframe tbody tr th {\n",
       "        vertical-align: top;\n",
       "    }\n",
       "\n",
       "    .dataframe thead th {\n",
       "        text-align: right;\n",
       "    }\n",
       "</style>\n",
       "<table border=\"1\" class=\"dataframe\">\n",
       "  <thead>\n",
       "    <tr style=\"text-align: right;\">\n",
       "      <th></th>\n",
       "      <th>transaction_id</th>\n",
       "      <th>visitor_id</th>\n",
       "      <th>date</th>\n",
       "      <th>revenue</th>\n",
       "      <th>group</th>\n",
       "    </tr>\n",
       "  </thead>\n",
       "  <tbody>\n",
       "    <tr>\n",
       "      <th>365</th>\n",
       "      <td>590470918</td>\n",
       "      <td>1920142716</td>\n",
       "      <td>2019-08-19</td>\n",
       "      <td>1294500</td>\n",
       "      <td>B</td>\n",
       "    </tr>\n",
       "    <tr>\n",
       "      <th>453</th>\n",
       "      <td>3970235543</td>\n",
       "      <td>2912540959</td>\n",
       "      <td>2019-08-19</td>\n",
       "      <td>43990</td>\n",
       "      <td>A</td>\n",
       "    </tr>\n",
       "    <tr>\n",
       "      <th>450</th>\n",
       "      <td>1570513684</td>\n",
       "      <td>2837914161</td>\n",
       "      <td>2019-08-19</td>\n",
       "      <td>33405</td>\n",
       "      <td>B</td>\n",
       "    </tr>\n",
       "    <tr>\n",
       "      <th>361</th>\n",
       "      <td>3765974140</td>\n",
       "      <td>1357170471</td>\n",
       "      <td>2019-08-19</td>\n",
       "      <td>31680</td>\n",
       "      <td>A</td>\n",
       "    </tr>\n",
       "    <tr>\n",
       "      <th>393</th>\n",
       "      <td>2683113224</td>\n",
       "      <td>154576532</td>\n",
       "      <td>2019-08-19</td>\n",
       "      <td>26550</td>\n",
       "      <td>B</td>\n",
       "    </tr>\n",
       "    <tr>\n",
       "      <th>316</th>\n",
       "      <td>3268879337</td>\n",
       "      <td>2536252163</td>\n",
       "      <td>2019-08-19</td>\n",
       "      <td>20026</td>\n",
       "      <td>B</td>\n",
       "    </tr>\n",
       "  </tbody>\n",
       "</table>\n",
       "</div>"
      ],
      "text/plain": [
       "     transaction_id  visitor_id       date  revenue group\n",
       "365       590470918  1920142716 2019-08-19  1294500     B\n",
       "453      3970235543  2912540959 2019-08-19    43990     A\n",
       "450      1570513684  2837914161 2019-08-19    33405     B\n",
       "361      3765974140  1357170471 2019-08-19    31680     A\n",
       "393      2683113224   154576532 2019-08-19    26550     B\n",
       "316      3268879337  2536252163 2019-08-19    20026     B"
      ]
     },
     "execution_count": 39,
     "metadata": {},
     "output_type": "execute_result"
    }
   ],
   "source": [
    "orders.query('date == \"2019-08-19\"').sort_values(by='revenue', ascending=False).head(6)"
   ]
  },
  {
   "cell_type": "markdown",
   "id": "f2f3f48b-4dc0-4d3a-b44a-64efa13a90d6",
   "metadata": {},
   "source": [
    "Т.об., мы видим, что имел место один заказ №365 на ~ 1,3 млн ден. ед. в группе \"B\" 19 августа 2021, который принес существенную часть дневной выручки в эту дату. Однако поскольку этот всего лишь один заказ, то его можно считать выбросом и при дальнейшем анализе это нужно будет учесть."
   ]
  },
  {
   "cell_type": "markdown",
   "id": "65f57af2-65f2-4af8-95c8-2ea03d4a6235",
   "metadata": {},
   "source": [
    "<a id=\"cum_avg_check\"></a>\n",
    "# График кумулятивного среднего чека по группам"
   ]
  },
  {
   "cell_type": "code",
   "execution_count": 40,
   "id": "1f476556-d841-420f-a821-94c43b5b30f4",
   "metadata": {},
   "outputs": [
    {
     "data": {
      "image/png": "[encoded data removed]",
      "text/plain": [
       "<Figure size 936x432 with 1 Axes>"
      ]
     },
     "metadata": {},
     "output_type": "display_data"
    }
   ],
   "source": [
    "#зададим размер фигуры\n",
    "plt.figure(figsize=(13,6))\n",
    "\n",
    "# построим линейные графики для групп А и В\n",
    "plt.plot(cumulative_revenue_a['date'], \n",
    "         cumulative_revenue_a['avg_check'],\n",
    "         label='A')\n",
    "\n",
    "plt.plot(cumulative_revenue_b['date'], \n",
    "         cumulative_revenue_b['avg_check'], \n",
    "         label='B')\n",
    "\n",
    "# зададим подписи на графике\n",
    "plt.title('График динамики кумулятивного среднего чека по группам А и В')\n",
    "plt.xlabel('Дата')\n",
    "plt.ylabel(\"Кумулятивный средний чек, ден. ед\")\n",
    "plt.legend()\n",
    "plt.show()"
   ]
  },
  {
   "cell_type": "markdown",
   "id": "86a647a1-83da-4171-9dc2-e0e65bf15cd2",
   "metadata": {},
   "source": [
    "<b> Графики кумулятивного среднего чека до середины теста нестабильны, имеется схожесть с графиком кумулятивной выручки. <b/>\n",
    "\n",
    "В начале проведения теста мы видим сильные перепады как в большую, так и в меньшую сторону по обеим группам. Снова наблюдается резкий рост в группе В 19 августа. Ближе к концу теста колебания графиков снизились, группа А показывает незначительную тенденцию к росту, у группы В, начиная с 19 августа, график снижается."
   ]
  },
  {
   "cell_type": "markdown",
   "id": "5c660416-b460-4ce0-9a77-3fd17dfc9b7c",
   "metadata": {},
   "source": [
    "# График относительного изменения кумулятивного среднего количества заказов на посетителя группы B к группе A. "
   ]
  },
  {
   "cell_type": "code",
   "execution_count": 46,
   "id": "d9fd7035-24c1-41c1-9e88-c614a0016bc5",
   "metadata": {},
   "outputs": [
    {
     "data": {
      "text/html": [
       "<div>\n",
       "<style scoped>\n",
       "    .dataframe tbody tr th:only-of-type {\n",
       "        vertical-align: middle;\n",
       "    }\n",
       "\n",
       "    .dataframe tbody tr th {\n",
       "        vertical-align: top;\n",
       "    }\n",
       "\n",
       "    .dataframe thead th {\n",
       "        text-align: right;\n",
       "    }\n",
       "</style>\n",
       "<table border=\"1\" class=\"dataframe\">\n",
       "  <thead>\n",
       "    <tr style=\"text-align: right;\">\n",
       "      <th></th>\n",
       "      <th>date</th>\n",
       "      <th>conversion_a</th>\n",
       "      <th>conversion_b</th>\n",
       "    </tr>\n",
       "  </thead>\n",
       "  <tbody>\n",
       "    <tr>\n",
       "      <th>0</th>\n",
       "      <td>2019-08-01</td>\n",
       "      <td>0.031989</td>\n",
       "      <td>0.023843</td>\n",
       "    </tr>\n",
       "    <tr>\n",
       "      <th>1</th>\n",
       "      <td>2019-08-02</td>\n",
       "      <td>0.031390</td>\n",
       "      <td>0.030912</td>\n",
       "    </tr>\n",
       "    <tr>\n",
       "      <th>2</th>\n",
       "      <td>2019-08-03</td>\n",
       "      <td>0.035772</td>\n",
       "      <td>0.029950</td>\n",
       "    </tr>\n",
       "    <tr>\n",
       "      <th>3</th>\n",
       "      <td>2019-08-04</td>\n",
       "      <td>0.030055</td>\n",
       "      <td>0.026428</td>\n",
       "    </tr>\n",
       "    <tr>\n",
       "      <th>4</th>\n",
       "      <td>2019-08-05</td>\n",
       "      <td>0.029837</td>\n",
       "      <td>0.027134</td>\n",
       "    </tr>\n",
       "  </tbody>\n",
       "</table>\n",
       "</div>"
      ],
      "text/plain": [
       "        date  conversion_a  conversion_b\n",
       "0 2019-08-01      0.031989      0.023843\n",
       "1 2019-08-02      0.031390      0.030912\n",
       "2 2019-08-03      0.035772      0.029950\n",
       "3 2019-08-04      0.030055      0.026428\n",
       "4 2019-08-05      0.029837      0.027134"
      ]
     },
     "execution_count": 46,
     "metadata": {},
     "output_type": "execute_result"
    }
   ],
   "source": [
    "cumulative_conversions_ab = (\n",
    "    cumulative_revenue_a\n",
    "    [['date','conversion']]\n",
    "    .merge(\n",
    "        cumulative_revenue_b[['date','conversion']], \n",
    "        left_on='date', \n",
    "        right_on='date', \n",
    "        how='left', \n",
    "        suffixes=['_a', '_b']\n",
    "    )\n",
    ")\n",
    "\n",
    "cumulative_conversions_ab.head()"
   ]
  },
  {
   "cell_type": "code",
   "execution_count": 47,
   "id": "8c81c7e1-97ec-4e56-a4ba-6cd4fb382aad",
   "metadata": {},
   "outputs": [
    {
     "data": {
      "image/png": "[encoded data removed]",
      "text/plain": [
       "<Figure size 936x432 with 1 Axes>"
      ]
     },
     "metadata": {},
     "output_type": "display_data"
    }
   ],
   "source": [
    "#зададим размер фигуры\n",
    "plt.figure(figsize=(13,6))\n",
    "\n",
    "# построим график относительного изменения кумулятивного среднего количества заказов на посетителя\n",
    "plt.plot(\n",
    "    cumulative_conversions_ab['date'], \n",
    "    cumulative_conversions_ab['conversion_b']/\n",
    "    cumulative_conversions_ab['conversion_a']-1\n",
    ")\n",
    "\n",
    "# добавляем ось X\n",
    "plt.axhline(y=0, color='black', linestyle='--')\n",
    "plt.axhline(y=0.12, color='grey', linestyle='--')\n",
    "plt.axhline(y=0.21, color='grey', linestyle=':')\n",
    "\n",
    "# добавляем ось X\n",
    "plt.title('Относительное изменение среднего количества заказов на посетителя группы B к A')\n",
    "plt.xlabel('Дата')\n",
    "plt.ylabel('отношение В к А', fontsize = 13)\n",
    "plt.show()"
   ]
  },
  {
   "cell_type": "markdown",
   "id": "7d9bada5-9e99-40ee-8f8b-9ee778ea3b55",
   "metadata": {},
   "source": [
    "В начале августа среднее количество заказов на посетителя группы А было больше, однако с 6-го августа наметилась обратная тенденция, конверсия группы В росла, и начиная с 9 августа опережала аналогичный показатель группы А не менее, чем на 12%. Количество заказов на посетителя группы В выше, чем у посетителей группы А.\n",
    "Однако не стоит забывать, что нами было установлено наличие выбросов в данных и необходим будет доп. анализ после очистки данных от выбросов."
   ]
  },
  {
   "cell_type": "markdown",
   "id": "01bec93d-b1ec-420b-8635-b0841afbae85",
   "metadata": {},
   "source": [
    "<a id=\"order_quantity\"></a>\n",
    "# Точечный график количества заказов по пользователям."
   ]
  },
  {
   "cell_type": "markdown",
   "id": "c0e72037-0036-4f8d-bdf0-4402ddc9c4d1",
   "metadata": {},
   "source": [
    "Посчитаем количество заказов в разрезе пользователей."
   ]
  },
  {
   "cell_type": "code",
   "execution_count": 48,
   "id": "f20e494e-7b5e-4b28-8f20-8bc5f4596122",
   "metadata": {},
   "outputs": [
    {
     "data": {
      "text/html": [
       "<div>\n",
       "<style scoped>\n",
       "    .dataframe tbody tr th:only-of-type {\n",
       "        vertical-align: middle;\n",
       "    }\n",
       "\n",
       "    .dataframe tbody tr th {\n",
       "        vertical-align: top;\n",
       "    }\n",
       "\n",
       "    .dataframe thead th {\n",
       "        text-align: right;\n",
       "    }\n",
       "</style>\n",
       "<table border=\"1\" class=\"dataframe\">\n",
       "  <thead>\n",
       "    <tr style=\"text-align: right;\">\n",
       "      <th></th>\n",
       "      <th>visitor_id</th>\n",
       "      <th>orders</th>\n",
       "    </tr>\n",
       "  </thead>\n",
       "  <tbody>\n",
       "    <tr>\n",
       "      <th>908</th>\n",
       "      <td>3967698036</td>\n",
       "      <td>3</td>\n",
       "    </tr>\n",
       "    <tr>\n",
       "      <th>55</th>\n",
       "      <td>249864742</td>\n",
       "      <td>3</td>\n",
       "    </tr>\n",
       "    <tr>\n",
       "      <th>478</th>\n",
       "      <td>2108163459</td>\n",
       "      <td>3</td>\n",
       "    </tr>\n",
       "    <tr>\n",
       "      <th>687</th>\n",
       "      <td>2988190573</td>\n",
       "      <td>3</td>\n",
       "    </tr>\n",
       "    <tr>\n",
       "      <th>890</th>\n",
       "      <td>3908431265</td>\n",
       "      <td>3</td>\n",
       "    </tr>\n",
       "    <tr>\n",
       "      <th>138</th>\n",
       "      <td>611059232</td>\n",
       "      <td>3</td>\n",
       "    </tr>\n",
       "    <tr>\n",
       "      <th>632</th>\n",
       "      <td>2742574263</td>\n",
       "      <td>3</td>\n",
       "    </tr>\n",
       "    <tr>\n",
       "      <th>157</th>\n",
       "      <td>678354126</td>\n",
       "      <td>2</td>\n",
       "    </tr>\n",
       "    <tr>\n",
       "      <th>323</th>\n",
       "      <td>1404560065</td>\n",
       "      <td>2</td>\n",
       "    </tr>\n",
       "    <tr>\n",
       "      <th>452</th>\n",
       "      <td>1985475298</td>\n",
       "      <td>2</td>\n",
       "    </tr>\n",
       "  </tbody>\n",
       "</table>\n",
       "</div>"
      ],
      "text/plain": [
       "     visitor_id  orders\n",
       "908  3967698036       3\n",
       "55    249864742       3\n",
       "478  2108163459       3\n",
       "687  2988190573       3\n",
       "890  3908431265       3\n",
       "138   611059232       3\n",
       "632  2742574263       3\n",
       "157   678354126       2\n",
       "323  1404560065       2\n",
       "452  1985475298       2"
      ]
     },
     "execution_count": 48,
     "metadata": {},
     "output_type": "execute_result"
    }
   ],
   "source": [
    "orders_by_users = orders.groupby('visitor_id', as_index=False).agg({'transaction_id':'nunique'})\n",
    "orders_by_users.columns = ['visitor_id', 'orders']\n",
    "orders_by_users.sort_values(by='orders', ascending=False).head(10)"
   ]
  },
  {
   "cell_type": "code",
   "execution_count": 49,
   "id": "7d86ff3e-25c9-4089-9467-c827587e7031",
   "metadata": {},
   "outputs": [
    {
     "data": {
      "image/png": "[encoded data removed]",
      "text/plain": [
       "<Figure size 936x360 with 1 Axes>"
      ]
     },
     "metadata": {},
     "output_type": "display_data"
    }
   ],
   "source": [
    "#настроим параметры фигуры\n",
    "plt.figure(figsize=(13, 5)) \n",
    "\n",
    "x_values = pd.Series(range(0,len(orders_by_users)))\n",
    "\n",
    "# строим точечную диаграмму\n",
    "plt.scatter(x_values, orders_by_users['orders'], alpha=0.5)\n",
    "\n",
    "# добавим подписи к графику\n",
    "plt.xlabel('Пользователи')\n",
    "plt.ylabel('Количество заказов')\n",
    "plt.title('Распределение количества заказов по пользователям')\n",
    "plt.grid(False)\n",
    "plt.show()"
   ]
  },
  {
   "cell_type": "markdown",
   "id": "ae5c1587-126c-4828-a825-3d6608d5af23",
   "metadata": {},
   "source": [
    "<b> Основная масса пользователей совершила одну покупку, существенно меньшее число - 2 покупки и единицы - 3 покупки. "
   ]
  },
  {
   "cell_type": "markdown",
   "id": "9e33cb72-1c21-4f57-93a4-44a2ec65e712",
   "metadata": {},
   "source": [
    "Примем за аномальных покупателей тех, кто совершил более 2х заказов"
   ]
  },
  {
   "cell_type": "markdown",
   "id": "c09af952-95c5-49ce-b8a2-a89eaeab5cf9",
   "metadata": {},
   "source": [
    "<a id=\"order_revenue\"></a>\n",
    "# Точечный график стоимостей заказов. <br>"
   ]
  },
  {
   "cell_type": "code",
   "execution_count": 51,
   "id": "19f06c1f-03a1-4609-9c4b-bb2e26645fa3",
   "metadata": {},
   "outputs": [
    {
     "data": {
      "image/png": "[encoded data removed]",
      "text/plain": [
       "<Figure size 936x360 with 1 Axes>"
      ]
     },
     "metadata": {},
     "output_type": "display_data"
    }
   ],
   "source": [
    "#настроим параметры фигуры\n",
    "plt.figure(figsize=(13, 5)) \n",
    "\n",
    "x_values = pd.Series(range(0,len(orders['revenue'])))\n",
    "\n",
    "# строим точечную диаграмму\n",
    "plt.scatter(x_values, orders['revenue'], alpha=0.5)\n",
    "\n",
    "# добавим подписи к графику\n",
    "plt.title('Распределение стоимости заказов')\n",
    "plt.xlabel('Заказы')\n",
    "plt.ylabel('Стоимость заказов, млн ден. ед.')\n",
    "plt.show()"
   ]
  },
  {
   "cell_type": "markdown",
   "id": "6d25cc62-d230-44d4-a407-3a70437d4dd4",
   "metadata": {},
   "source": [
    "На графике мы видим крупный аномальный заказ. И что большинство остальных заказов не превышает 100-150 тыс. ден. ед.\n",
    "Посмотрим на данные заказы поближе, задав ограничение значений по оси y, чтобы точки на графике не \"сливались\" настолько сильно."
   ]
  },
  {
   "cell_type": "code",
   "execution_count": 52,
   "id": "bb72a5b5-bfcc-429d-b876-87211d361784",
   "metadata": {},
   "outputs": [
    {
     "data": {
      "image/png": "[encoded data removed]",
      "text/plain": [
       "<Figure size 936x360 with 1 Axes>"
      ]
     },
     "metadata": {},
     "output_type": "display_data"
    }
   ],
   "source": [
    "#настроим параметры фигуры\n",
    "plt.figure(figsize=(13, 5)) \n",
    "\n",
    "x_values = pd.Series(range(0,len(orders['revenue'])))\n",
    "\n",
    "# строим точечную диаграмму\n",
    "plt.ylim(0, 100000)\n",
    "plt.scatter(x_values, orders['revenue'], alpha=0.5)\n",
    "\n",
    "# добавим подписи к графику\n",
    "plt.title('Распределение стоимости заказов')\n",
    "plt.xlabel('Заказы')\n",
    "plt.ylabel('Стоимость заказов, ден. ед.')\n",
    "plt.show()"
   ]
  },
  {
   "cell_type": "markdown",
   "id": "1fe1691a-8569-4bc8-a510-a832e36dfbdb",
   "metadata": {},
   "source": [
    "На последнем граифке мы видим, что основная часть заказов не превышает 20 тыс. ден. ед. <br>\n",
    "Посмотрим на 95 и 99 персентили, чтобы однозначно определить границу аномальной стоимости заказа."
   ]
  },
  {
   "cell_type": "markdown",
   "id": "e5fe85f2-0710-4090-9037-c83b23834d89",
   "metadata": {},
   "source": [
    "#### 95-й и 99-й перцентили стоимости заказов.<br>"
   ]
  },
  {
   "cell_type": "code",
   "execution_count": 53,
   "id": "92fc72e2-d251-4c28-88b8-95bcba356122",
   "metadata": {},
   "outputs": [
    {
     "name": "stdout",
     "output_type": "stream",
     "text": [
      "Не более 5% покупателей оформили заказ на суммы свыше 26785.0 ден. ед.\n",
      "Не более 1% покупателей оформили заказ на суммы свыше  53904.0 ден. ед.\n"
     ]
    }
   ],
   "source": [
    "perc_95 = np.percentile(orders['revenue'], 95)\n",
    "perc_99 = np.percentile(orders['revenue'], 99)\n",
    "print(f'Не более 5% покупателей оформили заказ на суммы свыше {perc_95} ден. ед.')\n",
    "print(f'Не более 1% покупателей оформили заказ на суммы свыше  {perc_99} ден. ед.')"
   ]
  },
  {
   "cell_type": "markdown",
   "id": "72d01174-157a-443c-9e52-4615e2a7d301",
   "metadata": {},
   "source": [
    "Учитывая, что мы сохранили пользователей с 1-2 заказами и взяли более \"мягкий\" персентиль для определения границы аномальных значений, в данном случае за верхнюю границу примем значение 95 персентиля и все заказы, стоимость которых превышает ~ 27 тысяч ден. ед., будем расценивать как аномальные."
   ]
  },
  {
   "cell_type": "markdown",
   "id": "3a85c568-45a1-42ef-b991-27e735bed6ab",
   "metadata": {},
   "source": [
    "<a id=\"aplha_filt\"></a>\n",
    "# Расчет статистической значимости различий в среднем количестве заказов на посетителя между группами по «очищенным» данным."
   ]
  },
  {
   "cell_type": "markdown",
   "id": "1208238c-a7af-42e2-989c-d4bbd7dd3144",
   "metadata": {},
   "source": [
    "Примем за аномальных пользователей тех, кто совершил более 2х заказов или совершил заказ дороже 26 785 ден. ед. Так мы исключим 1% пользователей с наибольшим числом заказов и порядка 5% пользователей с дорогими заказами.\n",
    "\n",
    "Сделаем срезы пользователей с числом заказов больше 2 — users_with_many_orders и пользователей, совершивших заказы дороже 27 тысяч ден. ед., — users_with_expensive_orders. Объединим их в таблице abnormal_users и узнаем, сколько всего аномальных пользователей."
   ]
  },
  {
   "cell_type": "code",
   "execution_count": 66,
   "id": "d8845a6c-59dd-469d-8480-d4bbcae4e220",
   "metadata": {},
   "outputs": [],
   "source": [
    "abnormal_orders = np.percentile(orders_by_users['orders'], 99)\n",
    "abnormal_revenue = np.percentile(orders['revenue'], 95)"
   ]
  },
  {
   "cell_type": "code",
   "execution_count": 67,
   "id": "561b5d5c-831d-4412-a0fe-1c2f36909163",
   "metadata": {},
   "outputs": [
    {
     "data": {
      "text/plain": [
       "487    113298937\n",
       "937    148427295\n",
       "792    204675465\n",
       "33     249864742\n",
       "586    358944393\n",
       "dtype: int64"
      ]
     },
     "metadata": {},
     "output_type": "display_data"
    },
    {
     "data": {
      "text/plain": [
       "58"
      ]
     },
     "execution_count": 67,
     "metadata": {},
     "output_type": "execute_result"
    }
   ],
   "source": [
    "users_with_many_orders = (pd\n",
    "               .concat([orders_a[orders_a['orders'] > abnormal_orders]['visitors_id'], \n",
    "                        orders_b[orders_b['orders'] > abnormal_orders]['visitors_id']], \n",
    "                       axis=0)\n",
    "              )\n",
    "\n",
    "users_with_expensive_orders = orders[orders['revenue'] > abnormal_revenue]['visitor_id']\n",
    "\n",
    "abnormal_users = pd.concat([users_with_many_orders, users_with_expensive_orders], axis=0).drop_duplicates().sort_values()\n",
    "\n",
    "display(abnormal_users.head())\n",
    "abnormal_users.shape[0]"
   ]
  },
  {
   "cell_type": "markdown",
   "id": "9016adb5-6aaa-4faf-9939-ed2dfcc4937e",
   "metadata": {},
   "source": [
    "С учетом заданных границ в наших данных имеется 58 пользователей, совершивших аномальные заказы. <br> Посчитаем статистическую значимость различий в среднем количестве заказов на посетителя между группами по очищенным данным."
   ]
  },
  {
   "cell_type": "markdown",
   "id": "bcb1da02-9419-4d13-a6df-e4d785c22e64",
   "metadata": {},
   "source": [
    "Сформулируем гипотезы:\n",
    "\n",
    "- Нулевая гипотеза (Н0) - различий в среднем количестве заказов между отфильтрованными группами нет. <br>\n",
    "- \n",
    "Альтернативная (Н1) -различия в среднем между отфильтрованными группами естьь."
   ]
  },
  {
   "cell_type": "code",
   "execution_count": 68,
   "id": "2ddb134a-6f5f-4284-bc81-b0023c632f80",
   "metadata": {},
   "outputs": [],
   "source": [
    "sample_a_filtered = (pd\n",
    "            .concat([orders_a[np.logical_not(orders_a['visitors_id'].isin(abnormal_users))]['orders'], \n",
    "                     pd.Series(0, index=np.arange(visitors_a['visitors'].sum() - len(orders_a['orders'])), \n",
    "                               name='orders')],axis=0))\n",
    "\n",
    "sample_b_filtered = (pd\n",
    "            .concat([orders_b[np.logical_not(orders_b['visitors_id'].isin(abnormal_users))]['orders'], \n",
    "                     pd.Series(0, index=np.arange(visitors_b['visitors'].sum() - len(orders_b['orders'])), \n",
    "                               name='orders')],axis=0))"
   ]
  },
  {
   "cell_type": "code",
   "execution_count": 69,
   "id": "3b8d1f39-3985-4f1b-8ca5-e264e7493910",
   "metadata": {},
   "outputs": [
    {
     "name": "stdout",
     "output_type": "stream",
     "text": [
      "P-value: 0.012\n",
      "Отвергаем нулевую гипотезу: между группами есть разница\n",
      "Относительная разница В к А: 18.190%\n"
     ]
    }
   ],
   "source": [
    "stat_significance(sample_a_filtered, sample_b_filtered)"
   ]
  },
  {
   "cell_type": "markdown",
   "id": "a40a163e-eb7b-4178-87c3-ba0e23cae815",
   "metadata": {},
   "source": [
    "Как и в случае с сырыми данными p-value меньше уровня стат.значимости, а значит мы отвергаем нулевую гипотезу о равенстве в среднем количестве заказов на посетителя. Относительная разница группы В к группе А составила 18.2 %, при этом по \"сырым\" данным разница составляла 15,98%. Также в случае установления стат. значимости в 1% мы бы не отвергали нулевую гипотезу и отмечали бы, что оснований для того, чтобы отвергнуть нулевую гипотезу у нас недостаточно."
   ]
  },
  {
   "cell_type": "markdown",
   "id": "c0c38343-0b52-43f4-a858-a18e1ccd4e37",
   "metadata": {},
   "source": [
    "<b> Расчет статистической значимости различий в среднем чеке заказа между группами по «очищенным» данным."
   ]
  },
  {
   "cell_type": "markdown",
   "id": "0354bf2d-abe9-44fe-828b-647e8e11449e",
   "metadata": {},
   "source": [
    "Подсчитаем статистическую значимость различий в среднем чеке после удаления аномальных пользователей."
   ]
  },
  {
   "cell_type": "markdown",
   "id": "cad91adb-783a-425b-81aa-707c5177de09",
   "metadata": {},
   "source": [
    "Сформулируем гипотезы:\n",
    "\n",
    "- Нулевая гипотеза (Н0) - различий в среднем чеке заказов между отфильтрованными группами нет.\n",
    "- Альтернативная (Н1) - различия в среднем чеке между отфильтрованными группами есть."
   ]
  },
  {
   "cell_type": "code",
   "execution_count": 70,
   "id": "e037c52b-f417-4a0f-bb19-9f2e982e3076",
   "metadata": {},
   "outputs": [
    {
     "name": "stdout",
     "output_type": "stream",
     "text": [
      "P-value: 0.646\n",
      "Не удалось отвергнуть нулевую гипотезу, нет оснований считать группы разными\n",
      "Относительная разница В к А: -4.847%\n"
     ]
    }
   ],
   "source": [
    "stat_significance(\n",
    "    orders[np.logical_and(orders['group'] == 'A', np.logical_not(orders['visitor_id'].isin(abnormal_users)))]['revenue'], \n",
    "    orders[np.logical_and(orders['group'] == 'B', np.logical_not(orders['visitor_id'].isin(abnormal_users)))]['revenue']\n",
    "                  )"
   ]
  },
  {
   "cell_type": "markdown",
   "id": "add65351-4a32-4060-b092-285e55a5d19e",
   "metadata": {},
   "source": [
    "P-value как и в случае с сырыми данными значительно больше 0.05 (уровень стат. значимости), причин отвергать нулевую гипотезу и считать, что в среднем чеке есть различия, нет. Hо при этом относительная разница в пользу группы А составила почти 5%, в то время как по сырым данныи разница была почти 29% в пользу группы В."
   ]
  },
  {
   "cell_type": "markdown",
   "id": "09a38840-7b37-49dc-9197-2dc598737454",
   "metadata": {},
   "source": [
    "<a id=\"filt_vis\"></a>\n",
    "# Построение графиков по «очищенным» данным"
   ]
  },
  {
   "cell_type": "markdown",
   "id": "6eb59810-baad-4448-a19c-26ce2bdfd101",
   "metadata": {},
   "source": [
    "Подготовим данные и сформируем датафреймы по очищенным данным аналогично действиям, совершенным в начале исследовательского анализа. "
   ]
  },
  {
   "cell_type": "code",
   "execution_count": 71,
   "id": "ab96b9df-db18-4bc5-816d-108becc50f63",
   "metadata": {},
   "outputs": [],
   "source": [
    "# исключим из датафрейма с заказами покупателей, входящих в список аномальных посетителей\n",
    "orders_filtered = orders[np.logical_not(orders['visitor_id'].isin(abnormal_users))]\n",
    "\n",
    "# создадим массив уникальных пар значений дат и групп теста\n",
    "date_groups_filtered = orders_filtered[['date','group']].drop_duplicates() \n",
    "\n",
    "# получим агрегированные кумулятивные данные по дням о заказах \n",
    "agg_orders_filtered = (date_groups_filtered\n",
    "                    .apply(lambda x: orders_filtered[np.logical_and(orders_filtered['date'] <= x['date'], \n",
    "                                                                    orders_filtered['group'] == x['group'])]\n",
    "                           .agg({'date' : 'max', \n",
    "                                 'group' : 'max', \n",
    "                                 'transaction_id' : 'nunique', \n",
    "                                 'visitor_id' : 'nunique', \n",
    "                                 'revenue' : 'sum'}), axis=1)\n",
    "                    .sort_values(by=['date','group'])\n",
    "                   )\n",
    "\n",
    "# получаем агрегированные кумулятивные данные по дням о посетителях \n",
    "agg_visitors_filtered = (date_groups_filtered\n",
    "                      .apply(lambda x: visitors[np.logical_and(visitors['date'] <= x['date'], visitors['group'] == x['group'])]\n",
    "                             .agg({'date' : 'max', 'group' : 'max', 'visitors' : 'sum'}), axis=1)\n",
    "                      .sort_values(by=['date','group'])\n",
    "                     )\n",
    "\n",
    "# объединяем кумулятивные данные в одной таблице и присвоим ее столбцам более понятные названия\n",
    "cum_data_filtered = agg_orders_filtered.merge(agg_visitors_filtered, left_on=['date', 'group'], right_on=['date', 'group'])\n",
    "cum_data_filtered.columns = ['date', 'group', 'orders', 'buyers', 'revenue', 'visitors']\n",
    "\n",
    "# добавим столбец со средним чеком заказа\n",
    "cum_data_filtered['avg_check'] = cum_data_filtered['revenue'] / cum_data_filtered['orders']\n",
    "\n",
    "# добавим столбец с отношением заказов к количеству посетителей\n",
    "cum_data_filtered['conversion'] = cum_data_filtered['orders']/cum_data_filtered['visitors']\n",
    "\n",
    "# создадим датафрейм с кумулятивным количеством заказов и кумулятивной выручкой по дням в группе А\n",
    "cum_rev_a_filtr = cum_data_filtered[cum_data_filtered['group']=='A'][['date','revenue', 'orders', 'avg_check', 'conversion']]\n",
    "\n",
    "# создадим датафрейм с кумулятивным количеством заказов и кумулятивной выручкой по дням в группе В\n",
    "cum_rev_b_filtr = cum_data_filtered[cum_data_filtered['group']=='B'][['date','revenue', 'orders', 'avg_check', 'conversion']]"
   ]
  },
  {
   "cell_type": "markdown",
   "id": "8f220097-463d-4499-b2c9-e0a63a918590",
   "metadata": {},
   "source": [
    "**Построим графики кумулятивной выручки по дням и группам A/B-тестирования:**"
   ]
  },
  {
   "cell_type": "code",
   "execution_count": 72,
   "id": "0a164b69-57ba-415e-960f-4dd5a8a73a00",
   "metadata": {},
   "outputs": [
    {
     "data": {
      "image/png": "[encoded data removed]",
      "text/plain": [
       "<Figure size 936x432 with 1 Axes>"
      ]
     },
     "metadata": {},
     "output_type": "display_data"
    }
   ],
   "source": [
    "#зададим размер фигуры\n",
    "plt.figure(figsize=(13,6))\n",
    "\n",
    "# построим линейные графики для групп А и В\n",
    "plt.plot(cum_rev_a_filtr['date'], cum_rev_a_filtr['revenue'], label='A')\n",
    "plt.plot(cum_rev_b_filtr['date'], cum_rev_b_filtr['revenue'], label='B')\n",
    "\n",
    "# зададим подписи на графике\n",
    "plt.title('Кумулятивная выручка по группам A/B-теста по \"очищенным\" данным')\n",
    "plt.xlabel('Дата')\n",
    "plt.ylabel('Выручка, млн ден. ед.')\n",
    "plt.legend()\n",
    "plt.show()"
   ]
  },
  {
   "cell_type": "markdown",
   "id": "1b7ec9d4-43f2-4937-99b8-e49e0c8dbc8f",
   "metadata": {},
   "source": [
    "Кумулятивная выручка на всем протяжении теста также растет, но более плавно по обеим группам. <br>\n",
    "По очищенным данным кумулятивная выручка группы В стабильно превышает показатели группы А после первой недели теста."
   ]
  },
  {
   "cell_type": "markdown",
   "id": "427819b7-30f5-49ff-9ba8-b43565505b8a",
   "metadata": {},
   "source": [
    "**Оценим относительное изменение кумулятивного среднего чека группы B к группе A по \"очищенным\" данным**"
   ]
  },
  {
   "cell_type": "code",
   "execution_count": 73,
   "id": "645f21fc-89e2-49ce-8af7-12d26a651fbc",
   "metadata": {},
   "outputs": [
    {
     "data": {
      "text/html": [
       "<div>\n",
       "<style scoped>\n",
       "    .dataframe tbody tr th:only-of-type {\n",
       "        vertical-align: middle;\n",
       "    }\n",
       "\n",
       "    .dataframe tbody tr th {\n",
       "        vertical-align: top;\n",
       "    }\n",
       "\n",
       "    .dataframe thead th {\n",
       "        text-align: right;\n",
       "    }\n",
       "</style>\n",
       "<table border=\"1\" class=\"dataframe\">\n",
       "  <thead>\n",
       "    <tr style=\"text-align: right;\">\n",
       "      <th></th>\n",
       "      <th>date</th>\n",
       "      <th>revenue_a</th>\n",
       "      <th>orders_a</th>\n",
       "      <th>avg_check_a</th>\n",
       "      <th>conversion_a</th>\n",
       "      <th>revenue_b</th>\n",
       "      <th>orders_b</th>\n",
       "      <th>avg_check_b</th>\n",
       "      <th>conversion_b</th>\n",
       "    </tr>\n",
       "  </thead>\n",
       "  <tbody>\n",
       "    <tr>\n",
       "      <th>9</th>\n",
       "      <td>2019-08-10</td>\n",
       "      <td>696233</td>\n",
       "      <td>151</td>\n",
       "      <td>4610.814570</td>\n",
       "      <td>0.024114</td>\n",
       "      <td>811072</td>\n",
       "      <td>185</td>\n",
       "      <td>4384.172973</td>\n",
       "      <td>0.029473</td>\n",
       "    </tr>\n",
       "    <tr>\n",
       "      <th>26</th>\n",
       "      <td>2019-08-27</td>\n",
       "      <td>1893270</td>\n",
       "      <td>385</td>\n",
       "      <td>4917.584416</td>\n",
       "      <td>0.023510</td>\n",
       "      <td>2143759</td>\n",
       "      <td>442</td>\n",
       "      <td>4850.133484</td>\n",
       "      <td>0.026751</td>\n",
       "    </tr>\n",
       "  </tbody>\n",
       "</table>\n",
       "</div>"
      ],
      "text/plain": [
       "         date  revenue_a  orders_a  avg_check_a  conversion_a  revenue_b  \\\n",
       "9  2019-08-10     696233       151  4610.814570      0.024114     811072   \n",
       "26 2019-08-27    1893270       385  4917.584416      0.023510    2143759   \n",
       "\n",
       "    orders_b  avg_check_b  conversion_b  \n",
       "9        185  4384.172973      0.029473  \n",
       "26       442  4850.133484      0.026751  "
      ]
     },
     "execution_count": 73,
     "metadata": {},
     "output_type": "execute_result"
    }
   ],
   "source": [
    "# соберем данные в один датафрейм\n",
    "cum_rev_ab_filtr = cum_rev_a_filtr.merge(\n",
    "    cum_rev_b_filtr, \n",
    "    left_on='date', \n",
    "    right_on='date', \n",
    "    how='left', \n",
    "    suffixes=['_a', '_b']\n",
    ")\n",
    "\n",
    "# выведем на экран 2 случайные строки датафрейма\n",
    "cum_rev_ab_filtr.sample(2)"
   ]
  },
  {
   "cell_type": "code",
   "execution_count": 74,
   "id": "55ae8a43-837f-42b8-b6e6-72ebe36e9405",
   "metadata": {},
   "outputs": [
    {
     "data": {
      "image/png": "[encoded data removed]",
      "text/plain": [
       "<Figure size 936x432 with 1 Axes>"
      ]
     },
     "metadata": {},
     "output_type": "display_data"
    }
   ],
   "source": [
    "#зададим размер фигуры\n",
    "plt.figure(figsize=(13,6))\n",
    "\n",
    "# построим график соотношения средних чеков\n",
    "plt.plot(cum_rev_ab_filtr['date'], \n",
    "        (cum_rev_ab_filtr['avg_check_b']) / (cum_rev_ab_filtr['avg_check_a'])-1)\n",
    "\n",
    "# добавляем ось X\n",
    "plt.axhline(y=0, color='black', linestyle='--')\n",
    "\n",
    "# добавляем подписи данных\n",
    "plt.title('График относительного изменения кумулятивного среднего чека группы B к группе A по \"очищенным\" данным')\n",
    "plt.xlabel('Дата')\n",
    "plt.ylabel('Отношение среднего чека')\n",
    "plt.show()"
   ]
  },
  {
   "cell_type": "markdown",
   "id": "3283b975-c027-4a00-8d8f-3dad5d97b820",
   "metadata": {},
   "source": [
    "График среднего чека нестабилен и показывает фактически противоположную картину относительно графика по \"сырым\" данным. В данном случае большее количество дней теста значение кумулятивного среднего чека группы А было больше чем у группы В. Как мы выяснили ранее относительная разница группы А к группе В составляет 4.85% (4,847% при округлении до 3-х знаков после запятой)."
   ]
  },
  {
   "cell_type": "markdown",
   "id": "83a974d7-0ff3-461d-ae4b-4e236738fdba",
   "metadata": {},
   "source": [
    "**Оценим относительное изменение среднего количества заказов на посетителя группы B к группе A по \"очищенным\" данным**"
   ]
  },
  {
   "cell_type": "code",
   "execution_count": 75,
   "id": "77ae4c13-9cb3-45f1-8dc5-abb914f5084a",
   "metadata": {},
   "outputs": [
    {
     "data": {
      "text/html": [
       "<div>\n",
       "<style scoped>\n",
       "    .dataframe tbody tr th:only-of-type {\n",
       "        vertical-align: middle;\n",
       "    }\n",
       "\n",
       "    .dataframe tbody tr th {\n",
       "        vertical-align: top;\n",
       "    }\n",
       "\n",
       "    .dataframe thead th {\n",
       "        text-align: right;\n",
       "    }\n",
       "</style>\n",
       "<table border=\"1\" class=\"dataframe\">\n",
       "  <thead>\n",
       "    <tr style=\"text-align: right;\">\n",
       "      <th></th>\n",
       "      <th>date</th>\n",
       "      <th>conversion_a</th>\n",
       "      <th>conversion_b</th>\n",
       "    </tr>\n",
       "  </thead>\n",
       "  <tbody>\n",
       "    <tr>\n",
       "      <th>0</th>\n",
       "      <td>2019-08-01</td>\n",
       "      <td>0.022253</td>\n",
       "      <td>0.023843</td>\n",
       "    </tr>\n",
       "    <tr>\n",
       "      <th>1</th>\n",
       "      <td>2019-08-02</td>\n",
       "      <td>0.025411</td>\n",
       "      <td>0.029366</td>\n",
       "    </tr>\n",
       "    <tr>\n",
       "      <th>2</th>\n",
       "      <td>2019-08-03</td>\n",
       "      <td>0.031436</td>\n",
       "      <td>0.028841</td>\n",
       "    </tr>\n",
       "  </tbody>\n",
       "</table>\n",
       "</div>"
      ],
      "text/plain": [
       "        date  conversion_a  conversion_b\n",
       "0 2019-08-01      0.022253      0.023843\n",
       "1 2019-08-02      0.025411      0.029366\n",
       "2 2019-08-03      0.031436      0.028841"
      ]
     },
     "execution_count": 75,
     "metadata": {},
     "output_type": "execute_result"
    }
   ],
   "source": [
    "cumulative_conversions_filt_ab = (\n",
    "    cum_rev_a_filtr\n",
    "    [['date','conversion']]\n",
    "    .merge(\n",
    "        cum_rev_b_filtr[['date','conversion']], \n",
    "        left_on='date', \n",
    "        right_on='date', \n",
    "        how='left', \n",
    "        suffixes=['_a', '_b']\n",
    "    )\n",
    ")\n",
    "\n",
    "cumulative_conversions_filt_ab.head(3)"
   ]
  },
  {
   "cell_type": "code",
   "execution_count": 76,
   "id": "b7b2047b-1475-45b3-bb5c-ce8d6e766661",
   "metadata": {},
   "outputs": [
    {
     "data": {
      "image/png": "[encoded data removed]",
      "text/plain": [
       "<Figure size 936x432 with 1 Axes>"
      ]
     },
     "metadata": {},
     "output_type": "display_data"
    }
   ],
   "source": [
    "#зададим размер фигуры\n",
    "plt.figure(figsize=(13,6))\n",
    "\n",
    "# построим график относительного изменения кумулятивного среднего количества заказов на посетителя\n",
    "plt.plot(\n",
    "    cumulative_conversions_filt_ab['date'], \n",
    "    cumulative_conversions_filt_ab['conversion_b']/\n",
    "    cumulative_conversions_filt_ab['conversion_a']-1\n",
    ")\n",
    "\n",
    "# добавляем ось X\n",
    "plt.axhline(y=0, color='black', linestyle='--')\n",
    "plt.axhline(y=0.138, color='grey', linestyle='--')\n",
    "plt.axhline(y=0.265, color='grey', linestyle=':')\n",
    "\n",
    "# добавляем ось X\n",
    "plt.title('Относительное изменение количества заказов на посетителя группы B к A по \"очищенным\" данным')\n",
    "plt.xlabel('Дата')\n",
    "plt.ylabel('отношение В к А')\n",
    "plt.show()"
   ]
  },
  {
   "cell_type": "markdown",
   "id": "6dde19d1-f9d2-42b3-bd6d-6f838f758a07",
   "metadata": {},
   "source": [
    "По \"сырым\" данным среднее количество заказов на посетителя группы А превышало группу В приблизительно первую неделю теста, по \"очищенным\" данным превышает только пару дней в начале теста, также примерно с 6-го августа заказы на посетителя группы В опередили данный показатель группы А и больше ниже нулевой отметки не опускалась. Приблизительно с 9-го августа метрика группы В не опускалась ниже порядка 14% (по \"сырым\" данным не ниже 12%)."
   ]
  },
  {
   "cell_type": "markdown",
   "id": "4050fd8d-32ea-44d9-8044-fde6535f2cea",
   "metadata": {},
   "source": [
    "<a id=\"conclusions\"></a>\n",
    "# Общие выводы по итогам проекта:"
   ]
  },
  {
   "cell_type": "markdown",
   "id": "01bd66dd-471e-49ce-b3b0-bd943cb9c56a",
   "metadata": {},
   "source": [
    "- в части предоставленных нам данных явные пропуски и дубликаты отсутствовали, при этом в рамках предобработки мы исправили тип данных в столбцах с датой с object на datetime, скорректировали стиль наименования столбцов, где было необходимо;\n",
    "- длительность теста составила 1 месяц - август 2019 года, в таблице `orders` был выявлен дисбаланс в количестве пользователей между группами, кроме того, 58 уникальных покупателей были включены в обе группы тестирования, с целью получения более объективных показателей тестирования данные покупатели были исключены из теста;\n",
    "- для стоимости заказа (выручки от 1 заказа для интернет-магазина) характерен существенный разброс значений: минимальная стоимость заказа составила 50 ден. ед., максимальная же ~ 1.3 млн ден. ед., средняя стоимость заказа составила около 8348 ден. ед, медианная же стоимость заказа составила 2978 ден. ед., а чек 75% заказов не превышает 8290 ден. ед.;\n",
    "- с помощью методов ICE и RICE были приоритезированы гипотезы, особое внимание стоит обратить на гипотезы №7 (Добавить форму подписки на все основные страницы, чтобы собрать базу клиентов для email-рассылок) и №0 (Добавить два новых канала привлечения трафика, что позволит привлекать на 30% больше пользователей), которые оказались в топ-3 в рамках приоритезации с помощью обоих фреймворков. Стоит учитывать что фреймворк RICE, усиливает ICE параметром охвата - на сколько пользователей повлияет изменение, которое мы хотим внести;\n",
    "- в качестве аномальных пользователей и размера выручки с заказа (на основании графиков и 95/99-персентилей) признаны покупатели, оформившие более двух заказов, а также заказы стоимость более ~27 тыс. ден. ед.;\n",
    "- по результатам А/В теста было принято решение о его завершении и признании победы группы В: среднее количество заказов на посетителя группы В выше, как и показатель кумулятивной выручки (как по очищенным, так и по сырым данные). Показатели же среднего чека нестабильны на протяжении всего теста и разнонаправленны по \"сырым\" и \"очищенным\" данным (в т.ч. в связи с их очисткой от аномальных значений, в частиности заказа №365 на ~ 1,3 млн ден. ед. в группе \"B\" 19 августа 2021), по ним затруднительно сделать однозначные выводы, а продолжение тестирования может лишь привести к его существенному удорожанию."
   ]
  }
 ],
 "metadata": {
  "ExecuteTimeLog": [
   {
    "duration": 1763,
    "start_time": "2024-07-03T15:06:29.282Z"
   },
   {
    "duration": 1534,
    "start_time": "2024-07-03T15:06:31.047Z"
   },
   {
    "duration": 3,
    "start_time": "2024-07-03T15:06:32.584Z"
   },
   {
    "duration": 13,
    "start_time": "2024-07-03T15:06:32.590Z"
   },
   {
    "duration": 246,
    "start_time": "2024-07-03T15:06:32.605Z"
   },
   {
    "duration": 4,
    "start_time": "2024-07-03T15:06:32.853Z"
   },
   {
    "duration": 128,
    "start_time": "2024-07-03T15:06:32.859Z"
   },
   {
    "duration": 9,
    "start_time": "2024-07-03T15:06:32.989Z"
   },
   {
    "duration": 14,
    "start_time": "2024-07-03T15:06:32.999Z"
   },
   {
    "duration": 56,
    "start_time": "2024-07-03T15:06:33.016Z"
   },
   {
    "duration": 13,
    "start_time": "2024-07-03T15:06:33.074Z"
   },
   {
    "duration": 8,
    "start_time": "2024-07-03T15:06:33.089Z"
   },
   {
    "duration": 6,
    "start_time": "2024-07-03T15:06:33.098Z"
   },
   {
    "duration": 8,
    "start_time": "2024-07-03T15:06:33.106Z"
   },
   {
    "duration": 10,
    "start_time": "2024-07-03T15:06:33.116Z"
   },
   {
    "duration": 43,
    "start_time": "2024-07-03T15:06:33.129Z"
   },
   {
    "duration": 19,
    "start_time": "2024-07-03T15:06:33.174Z"
   },
   {
    "duration": 5,
    "start_time": "2024-07-03T15:06:33.195Z"
   },
   {
    "duration": 16,
    "start_time": "2024-07-03T15:06:33.202Z"
   },
   {
    "duration": 9,
    "start_time": "2024-07-03T15:06:33.220Z"
   },
   {
    "duration": 47,
    "start_time": "2024-07-03T15:06:33.231Z"
   },
   {
    "duration": 13,
    "start_time": "2024-07-03T15:06:33.280Z"
   },
   {
    "duration": 9,
    "start_time": "2024-07-03T15:06:33.294Z"
   },
   {
    "duration": 8,
    "start_time": "2024-07-03T15:06:33.305Z"
   },
   {
    "duration": 16,
    "start_time": "2024-07-03T15:06:33.314Z"
   },
   {
    "duration": 20,
    "start_time": "2024-07-03T15:06:33.331Z"
   },
   {
    "duration": 13,
    "start_time": "2024-07-03T15:06:33.353Z"
   },
   {
    "duration": 363,
    "start_time": "2024-07-03T15:06:33.377Z"
   },
   {
    "duration": 18,
    "start_time": "2024-07-03T15:06:33.743Z"
   },
   {
    "duration": 320,
    "start_time": "2024-07-03T15:06:33.763Z"
   },
   {
    "duration": 241,
    "start_time": "2024-07-03T15:06:34.085Z"
   },
   {
    "duration": 11,
    "start_time": "2024-07-03T15:06:34.328Z"
   },
   {
    "duration": 200,
    "start_time": "2024-07-03T15:06:34.340Z"
   },
   {
    "duration": 140,
    "start_time": "2024-07-03T15:06:34.542Z"
   },
   {
    "duration": 13,
    "start_time": "2024-07-03T15:06:34.684Z"
   },
   {
    "duration": 13,
    "start_time": "2024-07-03T15:06:34.699Z"
   },
   {
    "duration": 405,
    "start_time": "2024-07-03T15:06:34.715Z"
   },
   {
    "duration": 12,
    "start_time": "2024-07-03T15:06:35.123Z"
   },
   {
    "duration": 22,
    "start_time": "2024-07-03T15:06:35.136Z"
   },
   {
    "duration": 317,
    "start_time": "2024-07-03T15:06:35.169Z"
   },
   {
    "duration": 15,
    "start_time": "2024-07-03T15:06:35.488Z"
   },
   {
    "duration": 472,
    "start_time": "2024-07-03T15:06:35.504Z"
   },
   {
    "duration": 324,
    "start_time": "2024-07-03T15:06:35.984Z"
   },
   {
    "duration": 17,
    "start_time": "2024-07-03T15:06:36.310Z"
   },
   {
    "duration": 457,
    "start_time": "2024-07-03T15:06:36.329Z"
   },
   {
    "duration": 13,
    "start_time": "2024-07-03T15:06:36.787Z"
   },
   {
    "duration": 317,
    "start_time": "2024-07-03T15:06:36.802Z"
   },
   {
    "duration": 6,
    "start_time": "2024-07-03T15:06:37.120Z"
   },
   {
    "duration": 230,
    "start_time": "2024-07-03T15:06:37.128Z"
   },
   {
    "duration": 242,
    "start_time": "2024-07-03T15:06:37.359Z"
   },
   {
    "duration": 5,
    "start_time": "2024-07-03T15:06:37.603Z"
   },
   {
    "duration": 39,
    "start_time": "2024-07-03T15:06:37.610Z"
   },
   {
    "duration": 187,
    "start_time": "2024-07-03T15:06:37.654Z"
   },
   {
    "duration": 7,
    "start_time": "2024-07-03T15:06:37.844Z"
   },
   {
    "duration": 14,
    "start_time": "2024-07-03T15:06:37.853Z"
   },
   {
    "duration": 87,
    "start_time": "2024-07-03T15:06:37.869Z"
   },
   {
    "duration": 19,
    "start_time": "2024-07-03T15:06:37.958Z"
   },
   {
    "duration": 4,
    "start_time": "2024-07-03T15:06:37.979Z"
   },
   {
    "duration": 13,
    "start_time": "2024-07-03T15:06:37.985Z"
   },
   {
    "duration": 10,
    "start_time": "2024-07-03T15:06:38.000Z"
   },
   {
    "duration": 67,
    "start_time": "2024-07-03T15:06:38.012Z"
   },
   {
    "duration": 11,
    "start_time": "2024-07-03T15:06:38.083Z"
   },
   {
    "duration": 312,
    "start_time": "2024-07-03T15:06:38.096Z"
   },
   {
    "duration": 341,
    "start_time": "2024-07-03T15:06:38.409Z"
   },
   {
    "duration": 28,
    "start_time": "2024-07-03T15:06:38.752Z"
   },
   {
    "duration": 458,
    "start_time": "2024-07-03T15:06:38.783Z"
   },
   {
    "duration": 23,
    "start_time": "2024-07-03T15:06:39.243Z"
   },
   {
    "duration": 463,
    "start_time": "2024-07-03T15:06:39.267Z"
   },
   {
    "duration": 1327,
    "start_time": "2024-07-03T15:26:59.071Z"
   },
   {
    "duration": 1195,
    "start_time": "2024-07-03T15:27:00.400Z"
   },
   {
    "duration": 4,
    "start_time": "2024-07-03T15:27:01.597Z"
   },
   {
    "duration": 41,
    "start_time": "2024-07-03T15:27:01.603Z"
   },
   {
    "duration": 169,
    "start_time": "2024-07-03T15:27:01.646Z"
   },
   {
    "duration": 11,
    "start_time": "2024-07-03T15:27:01.817Z"
   },
   {
    "duration": 155,
    "start_time": "2024-07-03T15:27:01.830Z"
   },
   {
    "duration": 10,
    "start_time": "2024-07-03T15:27:01.987Z"
   },
   {
    "duration": 126,
    "start_time": "2024-07-03T15:27:01.999Z"
   },
   {
    "duration": 70,
    "start_time": "2024-07-03T15:27:02.127Z"
   },
   {
    "duration": 22,
    "start_time": "2024-07-03T15:27:02.198Z"
   },
   {
    "duration": 28,
    "start_time": "2024-07-03T15:27:02.221Z"
   },
   {
    "duration": 159,
    "start_time": "2024-07-03T15:27:02.251Z"
   },
   {
    "duration": 23,
    "start_time": "2024-07-03T15:27:02.412Z"
   },
   {
    "duration": 56,
    "start_time": "2024-07-03T15:27:02.436Z"
   },
   {
    "duration": 22,
    "start_time": "2024-07-03T15:27:02.493Z"
   },
   {
    "duration": 21,
    "start_time": "2024-07-03T15:27:02.517Z"
   },
   {
    "duration": 24,
    "start_time": "2024-07-03T15:27:02.540Z"
   },
   {
    "duration": 35,
    "start_time": "2024-07-03T15:27:02.567Z"
   },
   {
    "duration": 26,
    "start_time": "2024-07-03T15:27:02.604Z"
   },
   {
    "duration": 64,
    "start_time": "2024-07-03T15:27:02.632Z"
   },
   {
    "duration": 34,
    "start_time": "2024-07-03T15:27:02.698Z"
   },
   {
    "duration": 47,
    "start_time": "2024-07-03T15:27:02.735Z"
   },
   {
    "duration": 27,
    "start_time": "2024-07-03T15:27:02.784Z"
   },
   {
    "duration": 66,
    "start_time": "2024-07-03T15:27:02.813Z"
   },
   {
    "duration": 35,
    "start_time": "2024-07-03T15:27:02.881Z"
   },
   {
    "duration": 32,
    "start_time": "2024-07-03T15:27:02.918Z"
   },
   {
    "duration": 354,
    "start_time": "2024-07-03T15:27:02.954Z"
   },
   {
    "duration": 12,
    "start_time": "2024-07-03T15:27:03.310Z"
   },
   {
    "duration": 287,
    "start_time": "2024-07-03T15:27:03.324Z"
   },
   {
    "duration": 241,
    "start_time": "2024-07-03T15:27:03.613Z"
   },
   {
    "duration": 24,
    "start_time": "2024-07-03T15:27:03.856Z"
   },
   {
    "duration": 195,
    "start_time": "2024-07-03T15:27:03.883Z"
   },
   {
    "duration": 131,
    "start_time": "2024-07-03T15:27:04.080Z"
   },
   {
    "duration": 12,
    "start_time": "2024-07-03T15:27:04.212Z"
   },
   {
    "duration": 12,
    "start_time": "2024-07-03T15:27:04.225Z"
   },
   {
    "duration": 379,
    "start_time": "2024-07-03T15:27:04.239Z"
   },
   {
    "duration": 11,
    "start_time": "2024-07-03T15:27:04.620Z"
   },
   {
    "duration": 18,
    "start_time": "2024-07-03T15:27:04.632Z"
   },
   {
    "duration": 302,
    "start_time": "2024-07-03T15:27:04.652Z"
   },
   {
    "duration": 26,
    "start_time": "2024-07-03T15:27:04.956Z"
   },
   {
    "duration": 398,
    "start_time": "2024-07-03T15:27:04.984Z"
   },
   {
    "duration": 339,
    "start_time": "2024-07-03T15:27:05.384Z"
   },
   {
    "duration": 14,
    "start_time": "2024-07-03T15:27:05.724Z"
   },
   {
    "duration": 428,
    "start_time": "2024-07-03T15:27:05.739Z"
   },
   {
    "duration": 13,
    "start_time": "2024-07-03T15:27:06.175Z"
   },
   {
    "duration": 269,
    "start_time": "2024-07-03T15:27:06.189Z"
   },
   {
    "duration": 15,
    "start_time": "2024-07-03T15:27:06.459Z"
   },
   {
    "duration": 202,
    "start_time": "2024-07-03T15:27:06.476Z"
   },
   {
    "duration": 204,
    "start_time": "2024-07-03T15:27:06.680Z"
   },
   {
    "duration": 6,
    "start_time": "2024-07-03T15:27:06.885Z"
   },
   {
    "duration": 11,
    "start_time": "2024-07-03T15:27:06.893Z"
   },
   {
    "duration": 140,
    "start_time": "2024-07-03T15:27:06.905Z"
   },
   {
    "duration": 6,
    "start_time": "2024-07-03T15:27:07.046Z"
   },
   {
    "duration": 16,
    "start_time": "2024-07-03T15:27:07.054Z"
   },
   {
    "duration": 33,
    "start_time": "2024-07-03T15:27:07.072Z"
   },
   {
    "duration": 9,
    "start_time": "2024-07-03T15:27:07.106Z"
   },
   {
    "duration": 5,
    "start_time": "2024-07-03T15:27:07.116Z"
   },
   {
    "duration": 13,
    "start_time": "2024-07-03T15:27:07.123Z"
   },
   {
    "duration": 39,
    "start_time": "2024-07-03T15:27:07.138Z"
   },
   {
    "duration": 39,
    "start_time": "2024-07-03T15:27:07.181Z"
   },
   {
    "duration": 10,
    "start_time": "2024-07-03T15:27:07.222Z"
   },
   {
    "duration": 309,
    "start_time": "2024-07-03T15:27:07.233Z"
   },
   {
    "duration": 312,
    "start_time": "2024-07-03T15:27:07.544Z"
   },
   {
    "duration": 35,
    "start_time": "2024-07-03T15:27:07.858Z"
   },
   {
    "duration": 383,
    "start_time": "2024-07-03T15:27:07.895Z"
   },
   {
    "duration": 13,
    "start_time": "2024-07-03T15:27:08.280Z"
   },
   {
    "duration": 397,
    "start_time": "2024-07-03T15:27:08.294Z"
   },
   {
    "duration": 63,
    "start_time": "2024-07-03T15:36:08.613Z"
   },
   {
    "duration": 6,
    "start_time": "2024-07-03T15:37:51.477Z"
   },
   {
    "duration": 1751,
    "start_time": "2024-07-03T15:37:55.605Z"
   },
   {
    "duration": 1431,
    "start_time": "2024-07-03T15:37:57.359Z"
   },
   {
    "duration": 3,
    "start_time": "2024-07-03T15:37:58.792Z"
   },
   {
    "duration": 11,
    "start_time": "2024-07-03T15:37:58.797Z"
   },
   {
    "duration": 215,
    "start_time": "2024-07-03T15:37:58.809Z"
   },
   {
    "duration": 4,
    "start_time": "2024-07-03T15:37:59.026Z"
   },
   {
    "duration": 131,
    "start_time": "2024-07-03T15:37:59.031Z"
   },
   {
    "duration": 11,
    "start_time": "2024-07-03T15:37:59.191Z"
   },
   {
    "duration": 45,
    "start_time": "2024-07-03T15:37:59.204Z"
   },
   {
    "duration": 33,
    "start_time": "2024-07-03T15:37:59.252Z"
   },
   {
    "duration": 11,
    "start_time": "2024-07-03T15:37:59.286Z"
   },
   {
    "duration": 27,
    "start_time": "2024-07-03T15:37:59.299Z"
   },
   {
    "duration": 5,
    "start_time": "2024-07-03T15:37:59.328Z"
   },
   {
    "duration": 17,
    "start_time": "2024-07-03T15:37:59.335Z"
   },
   {
    "duration": 13,
    "start_time": "2024-07-03T15:37:59.353Z"
   },
   {
    "duration": 10,
    "start_time": "2024-07-03T15:37:59.367Z"
   },
   {
    "duration": 28,
    "start_time": "2024-07-03T15:37:59.378Z"
   },
   {
    "duration": 3,
    "start_time": "2024-07-03T15:37:59.408Z"
   },
   {
    "duration": 13,
    "start_time": "2024-07-03T15:37:59.413Z"
   },
   {
    "duration": 8,
    "start_time": "2024-07-03T15:37:59.428Z"
   },
   {
    "duration": 10,
    "start_time": "2024-07-03T15:37:59.438Z"
   },
   {
    "duration": 42,
    "start_time": "2024-07-03T15:37:59.451Z"
   },
   {
    "duration": 19,
    "start_time": "2024-07-03T15:37:59.495Z"
   },
   {
    "duration": 18,
    "start_time": "2024-07-03T15:37:59.516Z"
   },
   {
    "duration": 151,
    "start_time": "2024-07-03T15:37:59.536Z"
   },
   {
    "duration": 140,
    "start_time": "2024-07-03T15:37:59.689Z"
   },
   {
    "duration": 33,
    "start_time": "2024-07-03T15:37:59.831Z"
   },
   {
    "duration": 416,
    "start_time": "2024-07-03T15:37:59.868Z"
   },
   {
    "duration": 14,
    "start_time": "2024-07-03T15:38:00.286Z"
   },
   {
    "duration": 395,
    "start_time": "2024-07-03T15:38:00.301Z"
   },
   {
    "duration": 238,
    "start_time": "2024-07-03T15:38:00.698Z"
   },
   {
    "duration": 12,
    "start_time": "2024-07-03T15:38:00.938Z"
   },
   {
    "duration": 317,
    "start_time": "2024-07-03T15:38:00.951Z"
   },
   {
    "duration": 159,
    "start_time": "2024-07-03T15:38:01.270Z"
   },
   {
    "duration": 17,
    "start_time": "2024-07-03T15:38:01.430Z"
   },
   {
    "duration": 53,
    "start_time": "2024-07-03T15:38:01.450Z"
   },
   {
    "duration": 493,
    "start_time": "2024-07-03T15:38:01.505Z"
   },
   {
    "duration": 17,
    "start_time": "2024-07-03T15:38:02.001Z"
   },
   {
    "duration": 80,
    "start_time": "2024-07-03T15:38:02.020Z"
   },
   {
    "duration": 349,
    "start_time": "2024-07-03T15:38:02.101Z"
   },
   {
    "duration": 16,
    "start_time": "2024-07-03T15:38:02.452Z"
   },
   {
    "duration": 501,
    "start_time": "2024-07-03T15:38:02.470Z"
   },
   {
    "duration": 20,
    "start_time": "2024-07-03T15:38:02.973Z"
   },
   {
    "duration": 21,
    "start_time": "2024-07-03T15:38:02.994Z"
   },
   {
    "duration": 371,
    "start_time": "2024-07-03T15:38:03.017Z"
   },
   {
    "duration": 15,
    "start_time": "2024-07-03T15:38:03.391Z"
   },
   {
    "duration": 422,
    "start_time": "2024-07-03T15:38:03.409Z"
   },
   {
    "duration": 11,
    "start_time": "2024-07-03T15:38:03.833Z"
   },
   {
    "duration": 306,
    "start_time": "2024-07-03T15:38:03.846Z"
   },
   {
    "duration": 5,
    "start_time": "2024-07-03T15:38:04.154Z"
   },
   {
    "duration": 206,
    "start_time": "2024-07-03T15:38:04.161Z"
   },
   {
    "duration": 201,
    "start_time": "2024-07-03T15:38:04.369Z"
   },
   {
    "duration": 6,
    "start_time": "2024-07-03T15:38:04.571Z"
   },
   {
    "duration": 29,
    "start_time": "2024-07-03T15:38:04.579Z"
   },
   {
    "duration": 164,
    "start_time": "2024-07-03T15:38:04.609Z"
   },
   {
    "duration": 6,
    "start_time": "2024-07-03T15:38:04.775Z"
   },
   {
    "duration": 13,
    "start_time": "2024-07-03T15:38:04.792Z"
   },
   {
    "duration": 30,
    "start_time": "2024-07-03T15:38:04.807Z"
   },
   {
    "duration": 9,
    "start_time": "2024-07-03T15:38:04.839Z"
   },
   {
    "duration": 16,
    "start_time": "2024-07-03T15:38:04.849Z"
   },
   {
    "duration": 38,
    "start_time": "2024-07-03T15:38:04.868Z"
   },
   {
    "duration": 21,
    "start_time": "2024-07-03T15:38:04.908Z"
   },
   {
    "duration": 35,
    "start_time": "2024-07-03T15:38:04.931Z"
   },
   {
    "duration": 10,
    "start_time": "2024-07-03T15:38:04.968Z"
   },
   {
    "duration": 329,
    "start_time": "2024-07-03T15:38:04.980Z"
   },
   {
    "duration": 331,
    "start_time": "2024-07-03T15:38:05.311Z"
   },
   {
    "duration": 17,
    "start_time": "2024-07-03T15:38:05.644Z"
   },
   {
    "duration": 555,
    "start_time": "2024-07-03T15:38:05.663Z"
   },
   {
    "duration": 15,
    "start_time": "2024-07-03T15:38:06.220Z"
   },
   {
    "duration": 410,
    "start_time": "2024-07-03T15:38:06.237Z"
   },
   {
    "duration": 26,
    "start_time": "2024-07-03T15:40:17.507Z"
   },
   {
    "duration": 55,
    "start_time": "2024-07-03T15:41:24.371Z"
   },
   {
    "duration": 15,
    "start_time": "2024-07-03T15:41:36.934Z"
   },
   {
    "duration": 16,
    "start_time": "2024-07-03T15:48:56.700Z"
   },
   {
    "duration": 16,
    "start_time": "2024-07-03T15:49:05.608Z"
   },
   {
    "duration": 1677,
    "start_time": "2024-07-04T10:21:36.226Z"
   },
   {
    "duration": 1155,
    "start_time": "2024-07-04T10:21:37.905Z"
   },
   {
    "duration": 3,
    "start_time": "2024-07-04T10:21:39.062Z"
   },
   {
    "duration": 11,
    "start_time": "2024-07-04T10:21:39.067Z"
   },
   {
    "duration": 79,
    "start_time": "2024-07-04T10:21:39.080Z"
   },
   {
    "duration": 6,
    "start_time": "2024-07-04T10:21:39.161Z"
   },
   {
    "duration": 114,
    "start_time": "2024-07-04T10:21:39.170Z"
   },
   {
    "duration": 10,
    "start_time": "2024-07-04T10:21:39.286Z"
   },
   {
    "duration": 50,
    "start_time": "2024-07-04T10:21:39.298Z"
   },
   {
    "duration": 23,
    "start_time": "2024-07-04T10:21:39.351Z"
   },
   {
    "duration": 9,
    "start_time": "2024-07-04T10:21:39.376Z"
   },
   {
    "duration": 8,
    "start_time": "2024-07-04T10:21:39.387Z"
   },
   {
    "duration": 8,
    "start_time": "2024-07-04T10:21:39.397Z"
   },
   {
    "duration": 40,
    "start_time": "2024-07-04T10:21:39.407Z"
   },
   {
    "duration": 7,
    "start_time": "2024-07-04T10:21:39.449Z"
   },
   {
    "duration": 7,
    "start_time": "2024-07-04T10:21:39.457Z"
   },
   {
    "duration": 20,
    "start_time": "2024-07-04T10:21:39.466Z"
   },
   {
    "duration": 6,
    "start_time": "2024-07-04T10:21:39.487Z"
   },
   {
    "duration": 17,
    "start_time": "2024-07-04T10:21:39.495Z"
   },
   {
    "duration": 6,
    "start_time": "2024-07-04T10:21:39.514Z"
   },
   {
    "duration": 6,
    "start_time": "2024-07-04T10:21:39.546Z"
   },
   {
    "duration": 34,
    "start_time": "2024-07-04T10:21:39.554Z"
   },
   {
    "duration": 4,
    "start_time": "2024-07-04T10:21:39.590Z"
   },
   {
    "duration": 7,
    "start_time": "2024-07-04T10:21:39.595Z"
   },
   {
    "duration": 5,
    "start_time": "2024-07-04T10:21:39.604Z"
   },
   {
    "duration": 8,
    "start_time": "2024-07-04T10:21:39.611Z"
   },
   {
    "duration": 13,
    "start_time": "2024-07-04T10:21:39.621Z"
   },
   {
    "duration": 349,
    "start_time": "2024-07-04T10:21:39.648Z"
   },
   {
    "duration": 13,
    "start_time": "2024-07-04T10:21:39.998Z"
   },
   {
    "duration": 281,
    "start_time": "2024-07-04T10:21:40.013Z"
   },
   {
    "duration": 243,
    "start_time": "2024-07-04T10:21:40.296Z"
   },
   {
    "duration": 17,
    "start_time": "2024-07-04T10:21:40.541Z"
   },
   {
    "duration": 218,
    "start_time": "2024-07-04T10:21:40.560Z"
   },
   {
    "duration": 131,
    "start_time": "2024-07-04T10:21:40.780Z"
   },
   {
    "duration": 16,
    "start_time": "2024-07-04T10:21:40.912Z"
   },
   {
    "duration": 27,
    "start_time": "2024-07-04T10:21:40.930Z"
   },
   {
    "duration": 377,
    "start_time": "2024-07-04T10:21:40.959Z"
   },
   {
    "duration": 13,
    "start_time": "2024-07-04T10:21:41.339Z"
   },
   {
    "duration": 15,
    "start_time": "2024-07-04T10:21:41.354Z"
   },
   {
    "duration": 313,
    "start_time": "2024-07-04T10:21:41.371Z"
   },
   {
    "duration": 19,
    "start_time": "2024-07-04T10:21:41.686Z"
   },
   {
    "duration": 510,
    "start_time": "2024-07-04T10:21:41.707Z"
   },
   {
    "duration": 29,
    "start_time": "2024-07-04T10:21:42.219Z"
   },
   {
    "duration": 14,
    "start_time": "2024-07-04T10:21:42.250Z"
   },
   {
    "duration": 426,
    "start_time": "2024-07-04T10:21:42.268Z"
   },
   {
    "duration": 15,
    "start_time": "2024-07-04T10:21:42.696Z"
   },
   {
    "duration": 415,
    "start_time": "2024-07-04T10:21:42.713Z"
   },
   {
    "duration": 20,
    "start_time": "2024-07-04T10:21:43.130Z"
   },
   {
    "duration": 270,
    "start_time": "2024-07-04T10:21:43.152Z"
   },
   {
    "duration": 5,
    "start_time": "2024-07-04T10:21:43.424Z"
   },
   {
    "duration": 189,
    "start_time": "2024-07-04T10:21:43.430Z"
   },
   {
    "duration": 200,
    "start_time": "2024-07-04T10:21:43.621Z"
   },
   {
    "duration": 6,
    "start_time": "2024-07-04T10:21:43.822Z"
   },
   {
    "duration": 18,
    "start_time": "2024-07-04T10:21:43.830Z"
   },
   {
    "duration": 157,
    "start_time": "2024-07-04T10:21:43.850Z"
   },
   {
    "duration": 7,
    "start_time": "2024-07-04T10:21:44.008Z"
   },
   {
    "duration": 4,
    "start_time": "2024-07-04T10:21:44.017Z"
   },
   {
    "duration": 39,
    "start_time": "2024-07-04T10:21:44.023Z"
   },
   {
    "duration": 8,
    "start_time": "2024-07-04T10:21:44.063Z"
   },
   {
    "duration": 4,
    "start_time": "2024-07-04T10:21:44.073Z"
   },
   {
    "duration": 12,
    "start_time": "2024-07-04T10:21:44.078Z"
   },
   {
    "duration": 17,
    "start_time": "2024-07-04T10:21:44.091Z"
   },
   {
    "duration": 46,
    "start_time": "2024-07-04T10:21:44.110Z"
   },
   {
    "duration": 11,
    "start_time": "2024-07-04T10:21:44.157Z"
   },
   {
    "duration": 308,
    "start_time": "2024-07-04T10:21:44.169Z"
   },
   {
    "duration": 309,
    "start_time": "2024-07-04T10:21:44.478Z"
   },
   {
    "duration": 15,
    "start_time": "2024-07-04T10:21:44.788Z"
   },
   {
    "duration": 387,
    "start_time": "2024-07-04T10:21:44.804Z"
   },
   {
    "duration": 14,
    "start_time": "2024-07-04T10:21:45.193Z"
   },
   {
    "duration": 440,
    "start_time": "2024-07-04T10:21:45.209Z"
   },
   {
    "duration": 1370,
    "start_time": "2024-07-04T10:38:15.359Z"
   },
   {
    "duration": 1216,
    "start_time": "2024-07-04T10:38:16.731Z"
   },
   {
    "duration": 3,
    "start_time": "2024-07-04T10:38:17.948Z"
   },
   {
    "duration": 9,
    "start_time": "2024-07-04T10:38:17.953Z"
   },
   {
    "duration": 113,
    "start_time": "2024-07-04T10:38:17.964Z"
   },
   {
    "duration": 4,
    "start_time": "2024-07-04T10:38:18.078Z"
   },
   {
    "duration": 119,
    "start_time": "2024-07-04T10:38:18.084Z"
   },
   {
    "duration": 10,
    "start_time": "2024-07-04T10:38:18.204Z"
   },
   {
    "duration": 45,
    "start_time": "2024-07-04T10:38:18.246Z"
   },
   {
    "duration": 20,
    "start_time": "2024-07-04T10:38:18.294Z"
   },
   {
    "duration": 11,
    "start_time": "2024-07-04T10:38:18.316Z"
   },
   {
    "duration": 8,
    "start_time": "2024-07-04T10:38:18.329Z"
   },
   {
    "duration": 15,
    "start_time": "2024-07-04T10:38:18.338Z"
   },
   {
    "duration": 32,
    "start_time": "2024-07-04T10:38:18.354Z"
   },
   {
    "duration": 8,
    "start_time": "2024-07-04T10:38:18.388Z"
   },
   {
    "duration": 9,
    "start_time": "2024-07-04T10:38:18.398Z"
   },
   {
    "duration": 16,
    "start_time": "2024-07-04T10:38:18.408Z"
   },
   {
    "duration": 4,
    "start_time": "2024-07-04T10:38:18.425Z"
   },
   {
    "duration": 16,
    "start_time": "2024-07-04T10:38:18.431Z"
   },
   {
    "duration": 6,
    "start_time": "2024-07-04T10:38:18.449Z"
   },
   {
    "duration": 8,
    "start_time": "2024-07-04T10:38:18.457Z"
   },
   {
    "duration": 13,
    "start_time": "2024-07-04T10:38:18.466Z"
   },
   {
    "duration": 13,
    "start_time": "2024-07-04T10:38:18.480Z"
   },
   {
    "duration": 13,
    "start_time": "2024-07-04T10:38:18.494Z"
   },
   {
    "duration": 7,
    "start_time": "2024-07-04T10:38:18.508Z"
   },
   {
    "duration": 30,
    "start_time": "2024-07-04T10:38:18.517Z"
   },
   {
    "duration": 13,
    "start_time": "2024-07-04T10:38:18.549Z"
   },
   {
    "duration": 338,
    "start_time": "2024-07-04T10:38:18.567Z"
   },
   {
    "duration": 11,
    "start_time": "2024-07-04T10:38:18.907Z"
   },
   {
    "duration": 287,
    "start_time": "2024-07-04T10:38:18.920Z"
   },
   {
    "duration": 273,
    "start_time": "2024-07-04T10:38:19.209Z"
   },
   {
    "duration": 11,
    "start_time": "2024-07-04T10:38:19.487Z"
   },
   {
    "duration": 193,
    "start_time": "2024-07-04T10:38:19.500Z"
   },
   {
    "duration": 155,
    "start_time": "2024-07-04T10:38:19.694Z"
   },
   {
    "duration": 14,
    "start_time": "2024-07-04T10:38:19.851Z"
   },
   {
    "duration": 15,
    "start_time": "2024-07-04T10:38:19.867Z"
   },
   {
    "duration": 405,
    "start_time": "2024-07-04T10:38:19.884Z"
   },
   {
    "duration": 12,
    "start_time": "2024-07-04T10:38:20.291Z"
   },
   {
    "duration": 19,
    "start_time": "2024-07-04T10:38:20.304Z"
   },
   {
    "duration": 323,
    "start_time": "2024-07-04T10:38:20.325Z"
   },
   {
    "duration": 17,
    "start_time": "2024-07-04T10:38:20.650Z"
   },
   {
    "duration": 399,
    "start_time": "2024-07-04T10:38:20.669Z"
   },
   {
    "duration": 18,
    "start_time": "2024-07-04T10:38:21.071Z"
   },
   {
    "duration": 26,
    "start_time": "2024-07-04T10:38:21.091Z"
   },
   {
    "duration": 329,
    "start_time": "2024-07-04T10:38:21.119Z"
   },
   {
    "duration": 14,
    "start_time": "2024-07-04T10:38:21.451Z"
   },
   {
    "duration": 413,
    "start_time": "2024-07-04T10:38:21.473Z"
   },
   {
    "duration": 10,
    "start_time": "2024-07-04T10:38:21.888Z"
   },
   {
    "duration": 288,
    "start_time": "2024-07-04T10:38:21.899Z"
   },
   {
    "duration": 6,
    "start_time": "2024-07-04T10:38:22.189Z"
   },
   {
    "duration": 203,
    "start_time": "2024-07-04T10:38:22.196Z"
   },
   {
    "duration": 203,
    "start_time": "2024-07-04T10:38:22.400Z"
   },
   {
    "duration": 6,
    "start_time": "2024-07-04T10:38:22.605Z"
   },
   {
    "duration": 7,
    "start_time": "2024-07-04T10:38:22.613Z"
   },
   {
    "duration": 177,
    "start_time": "2024-07-04T10:38:22.621Z"
   },
   {
    "duration": 6,
    "start_time": "2024-07-04T10:38:22.800Z"
   },
   {
    "duration": 13,
    "start_time": "2024-07-04T10:38:22.808Z"
   },
   {
    "duration": 32,
    "start_time": "2024-07-04T10:38:22.823Z"
   },
   {
    "duration": 10,
    "start_time": "2024-07-04T10:38:22.856Z"
   },
   {
    "duration": 4,
    "start_time": "2024-07-04T10:38:22.868Z"
   },
   {
    "duration": 13,
    "start_time": "2024-07-04T10:38:22.874Z"
   },
   {
    "duration": 26,
    "start_time": "2024-07-04T10:38:22.889Z"
   },
   {
    "duration": 46,
    "start_time": "2024-07-04T10:38:22.917Z"
   },
   {
    "duration": 12,
    "start_time": "2024-07-04T10:38:22.965Z"
   },
   {
    "duration": 324,
    "start_time": "2024-07-04T10:38:22.979Z"
   },
   {
    "duration": 305,
    "start_time": "2024-07-04T10:38:23.305Z"
   },
   {
    "duration": 17,
    "start_time": "2024-07-04T10:38:23.611Z"
   },
   {
    "duration": 431,
    "start_time": "2024-07-04T10:38:23.629Z"
   },
   {
    "duration": 16,
    "start_time": "2024-07-04T10:38:24.062Z"
   },
   {
    "duration": 415,
    "start_time": "2024-07-04T10:38:24.080Z"
   },
   {
    "duration": 1378,
    "start_time": "2024-07-04T10:38:54.135Z"
   },
   {
    "duration": 1291,
    "start_time": "2024-07-04T10:38:55.516Z"
   },
   {
    "duration": 3,
    "start_time": "2024-07-04T10:38:56.808Z"
   },
   {
    "duration": 4,
    "start_time": "2024-07-04T10:38:56.813Z"
   },
   {
    "duration": 76,
    "start_time": "2024-07-04T10:38:56.818Z"
   },
   {
    "duration": 4,
    "start_time": "2024-07-04T10:38:56.896Z"
   },
   {
    "duration": 151,
    "start_time": "2024-07-04T10:38:56.902Z"
   },
   {
    "duration": 9,
    "start_time": "2024-07-04T10:38:57.054Z"
   },
   {
    "duration": 16,
    "start_time": "2024-07-04T10:38:57.064Z"
   },
   {
    "duration": 23,
    "start_time": "2024-07-04T10:38:57.083Z"
   },
   {
    "duration": 38,
    "start_time": "2024-07-04T10:38:57.108Z"
   },
   {
    "duration": 8,
    "start_time": "2024-07-04T10:38:57.148Z"
   },
   {
    "duration": 16,
    "start_time": "2024-07-04T10:38:57.158Z"
   },
   {
    "duration": 30,
    "start_time": "2024-07-04T10:38:57.176Z"
   },
   {
    "duration": 7,
    "start_time": "2024-07-04T10:38:57.207Z"
   },
   {
    "duration": 7,
    "start_time": "2024-07-04T10:38:57.216Z"
   },
   {
    "duration": 16,
    "start_time": "2024-07-04T10:38:57.224Z"
   },
   {
    "duration": 5,
    "start_time": "2024-07-04T10:38:57.242Z"
   },
   {
    "duration": 12,
    "start_time": "2024-07-04T10:38:57.248Z"
   },
   {
    "duration": 7,
    "start_time": "2024-07-04T10:38:57.261Z"
   },
   {
    "duration": 6,
    "start_time": "2024-07-04T10:38:57.270Z"
   },
   {
    "duration": 25,
    "start_time": "2024-07-04T10:38:57.278Z"
   },
   {
    "duration": 18,
    "start_time": "2024-07-04T10:38:57.305Z"
   },
   {
    "duration": 22,
    "start_time": "2024-07-04T10:38:57.324Z"
   },
   {
    "duration": 7,
    "start_time": "2024-07-04T10:38:57.348Z"
   },
   {
    "duration": 23,
    "start_time": "2024-07-04T10:38:57.357Z"
   },
   {
    "duration": 16,
    "start_time": "2024-07-04T10:38:57.382Z"
   },
   {
    "duration": 357,
    "start_time": "2024-07-04T10:38:57.404Z"
   },
   {
    "duration": 12,
    "start_time": "2024-07-04T10:38:57.762Z"
   },
   {
    "duration": 315,
    "start_time": "2024-07-04T10:38:57.776Z"
   },
   {
    "duration": 220,
    "start_time": "2024-07-04T10:38:58.093Z"
   },
   {
    "duration": 10,
    "start_time": "2024-07-04T10:38:58.315Z"
   },
   {
    "duration": 191,
    "start_time": "2024-07-04T10:38:58.326Z"
   },
   {
    "duration": 152,
    "start_time": "2024-07-04T10:38:58.519Z"
   },
   {
    "duration": 12,
    "start_time": "2024-07-04T10:38:58.673Z"
   },
   {
    "duration": 14,
    "start_time": "2024-07-04T10:38:58.687Z"
   },
   {
    "duration": 397,
    "start_time": "2024-07-04T10:38:58.703Z"
   },
   {
    "duration": 11,
    "start_time": "2024-07-04T10:38:59.101Z"
   },
   {
    "duration": 14,
    "start_time": "2024-07-04T10:38:59.114Z"
   },
   {
    "duration": 331,
    "start_time": "2024-07-04T10:38:59.147Z"
   },
   {
    "duration": 15,
    "start_time": "2024-07-04T10:38:59.480Z"
   },
   {
    "duration": 400,
    "start_time": "2024-07-04T10:38:59.497Z"
   },
   {
    "duration": 14,
    "start_time": "2024-07-04T10:38:59.899Z"
   },
   {
    "duration": 37,
    "start_time": "2024-07-04T10:38:59.914Z"
   },
   {
    "duration": 322,
    "start_time": "2024-07-04T10:38:59.952Z"
   },
   {
    "duration": 15,
    "start_time": "2024-07-04T10:39:00.276Z"
   },
   {
    "duration": 953,
    "start_time": "2024-07-04T10:39:00.293Z"
   },
   {
    "duration": 12,
    "start_time": "2024-07-04T10:39:01.248Z"
   },
   {
    "duration": 371,
    "start_time": "2024-07-04T10:39:01.263Z"
   },
   {
    "duration": 14,
    "start_time": "2024-07-04T10:39:01.636Z"
   },
   {
    "duration": 326,
    "start_time": "2024-07-04T10:39:01.651Z"
   },
   {
    "duration": 201,
    "start_time": "2024-07-04T10:39:01.978Z"
   },
   {
    "duration": 5,
    "start_time": "2024-07-04T10:39:02.181Z"
   },
   {
    "duration": 189,
    "start_time": "2024-07-04T10:39:02.187Z"
   },
   {
    "duration": 191,
    "start_time": "2024-07-04T10:39:02.378Z"
   },
   {
    "duration": 7,
    "start_time": "2024-07-04T10:39:02.570Z"
   },
   {
    "duration": 20,
    "start_time": "2024-07-04T10:39:02.579Z"
   },
   {
    "duration": 28,
    "start_time": "2024-07-04T10:39:02.600Z"
   },
   {
    "duration": 25,
    "start_time": "2024-07-04T10:39:02.629Z"
   },
   {
    "duration": 23,
    "start_time": "2024-07-04T10:39:02.656Z"
   },
   {
    "duration": 15,
    "start_time": "2024-07-04T10:39:02.681Z"
   },
   {
    "duration": 11,
    "start_time": "2024-07-04T10:39:02.698Z"
   },
   {
    "duration": 40,
    "start_time": "2024-07-04T10:39:02.711Z"
   },
   {
    "duration": 10,
    "start_time": "2024-07-04T10:39:02.753Z"
   },
   {
    "duration": 321,
    "start_time": "2024-07-04T10:39:02.765Z"
   },
   {
    "duration": 303,
    "start_time": "2024-07-04T10:39:03.088Z"
   },
   {
    "duration": 15,
    "start_time": "2024-07-04T10:39:03.393Z"
   },
   {
    "duration": 437,
    "start_time": "2024-07-04T10:39:03.409Z"
   },
   {
    "duration": 14,
    "start_time": "2024-07-04T10:39:03.848Z"
   },
   {
    "duration": 398,
    "start_time": "2024-07-04T10:39:03.863Z"
   },
   {
    "duration": 1598,
    "start_time": "2024-09-04T11:06:59.424Z"
   },
   {
    "duration": 1350,
    "start_time": "2024-09-04T11:07:01.024Z"
   },
   {
    "duration": 3,
    "start_time": "2024-09-04T11:07:02.376Z"
   },
   {
    "duration": 16,
    "start_time": "2024-09-04T11:07:02.381Z"
   },
   {
    "duration": 284,
    "start_time": "2024-09-04T11:07:02.398Z"
   },
   {
    "duration": 4,
    "start_time": "2024-09-04T11:07:02.684Z"
   },
   {
    "duration": 181,
    "start_time": "2024-09-04T11:07:02.690Z"
   },
   {
    "duration": 9,
    "start_time": "2024-09-04T11:07:02.873Z"
   },
   {
    "duration": 16,
    "start_time": "2024-09-04T11:07:02.883Z"
   },
   {
    "duration": 51,
    "start_time": "2024-09-04T11:07:02.901Z"
   },
   {
    "duration": 9,
    "start_time": "2024-09-04T11:07:02.954Z"
   },
   {
    "duration": 27,
    "start_time": "2024-09-04T11:07:02.965Z"
   },
   {
    "duration": 7,
    "start_time": "2024-09-04T11:07:02.994Z"
   },
   {
    "duration": 10,
    "start_time": "2024-09-04T11:07:03.003Z"
   },
   {
    "duration": 11,
    "start_time": "2024-09-04T11:07:03.014Z"
   },
   {
    "duration": 5,
    "start_time": "2024-09-04T11:07:03.027Z"
   },
   {
    "duration": 18,
    "start_time": "2024-09-04T11:07:03.034Z"
   },
   {
    "duration": 7,
    "start_time": "2024-09-04T11:07:03.054Z"
   },
   {
    "duration": 13,
    "start_time": "2024-09-04T11:07:03.064Z"
   },
   {
    "duration": 6,
    "start_time": "2024-09-04T11:07:03.079Z"
   },
   {
    "duration": 6,
    "start_time": "2024-09-04T11:07:03.086Z"
   },
   {
    "duration": 17,
    "start_time": "2024-09-04T11:07:03.093Z"
   },
   {
    "duration": 15,
    "start_time": "2024-09-04T11:07:03.111Z"
   },
   {
    "duration": 25,
    "start_time": "2024-09-04T11:07:03.127Z"
   },
   {
    "duration": 7,
    "start_time": "2024-09-04T11:07:03.154Z"
   },
   {
    "duration": 8,
    "start_time": "2024-09-04T11:07:03.162Z"
   },
   {
    "duration": 67,
    "start_time": "2024-09-04T11:07:03.171Z"
   },
   {
    "duration": 330,
    "start_time": "2024-09-04T11:07:03.242Z"
   },
   {
    "duration": 11,
    "start_time": "2024-09-04T11:07:03.574Z"
   },
   {
    "duration": 267,
    "start_time": "2024-09-04T11:07:03.588Z"
   },
   {
    "duration": 261,
    "start_time": "2024-09-04T11:07:03.857Z"
   },
   {
    "duration": 10,
    "start_time": "2024-09-04T11:07:04.120Z"
   },
   {
    "duration": 171,
    "start_time": "2024-09-04T11:07:04.131Z"
   },
   {
    "duration": 126,
    "start_time": "2024-09-04T11:07:04.303Z"
   },
   {
    "duration": 12,
    "start_time": "2024-09-04T11:07:04.430Z"
   },
   {
    "duration": 22,
    "start_time": "2024-09-04T11:07:04.452Z"
   },
   {
    "duration": 363,
    "start_time": "2024-09-04T11:07:04.475Z"
   },
   {
    "duration": 16,
    "start_time": "2024-09-04T11:07:04.839Z"
   },
   {
    "duration": 11,
    "start_time": "2024-09-04T11:07:04.856Z"
   },
   {
    "duration": 302,
    "start_time": "2024-09-04T11:07:04.868Z"
   },
   {
    "duration": 14,
    "start_time": "2024-09-04T11:07:05.172Z"
   },
   {
    "duration": 508,
    "start_time": "2024-09-04T11:07:05.188Z"
   },
   {
    "duration": 13,
    "start_time": "2024-09-04T11:07:05.697Z"
   },
   {
    "duration": 18,
    "start_time": "2024-09-04T11:07:05.712Z"
   },
   {
    "duration": 327,
    "start_time": "2024-09-04T11:07:05.732Z"
   },
   {
    "duration": 14,
    "start_time": "2024-09-04T11:07:06.060Z"
   },
   {
    "duration": 386,
    "start_time": "2024-09-04T11:07:06.076Z"
   },
   {
    "duration": 10,
    "start_time": "2024-09-04T11:07:06.464Z"
   },
   {
    "duration": 274,
    "start_time": "2024-09-04T11:07:06.476Z"
   },
   {
    "duration": 4,
    "start_time": "2024-09-04T11:07:06.752Z"
   },
   {
    "duration": 194,
    "start_time": "2024-09-04T11:07:06.758Z"
   },
   {
    "duration": 190,
    "start_time": "2024-09-04T11:07:06.953Z"
   },
   {
    "duration": 10,
    "start_time": "2024-09-04T11:07:07.144Z"
   },
   {
    "duration": 9,
    "start_time": "2024-09-04T11:07:07.155Z"
   },
   {
    "duration": 126,
    "start_time": "2024-09-04T11:07:07.165Z"
   },
   {
    "duration": 5,
    "start_time": "2024-09-04T11:07:07.293Z"
   },
   {
    "duration": 26,
    "start_time": "2024-09-04T11:07:07.300Z"
   },
   {
    "duration": 25,
    "start_time": "2024-09-04T11:07:07.328Z"
   },
   {
    "duration": 8,
    "start_time": "2024-09-04T11:07:07.355Z"
   },
   {
    "duration": 4,
    "start_time": "2024-09-04T11:07:07.364Z"
   },
   {
    "duration": 11,
    "start_time": "2024-09-04T11:07:07.370Z"
   },
   {
    "duration": 11,
    "start_time": "2024-09-04T11:07:07.383Z"
   },
   {
    "duration": 25,
    "start_time": "2024-09-04T11:07:07.396Z"
   },
   {
    "duration": 36,
    "start_time": "2024-09-04T11:07:07.422Z"
   },
   {
    "duration": 285,
    "start_time": "2024-09-04T11:07:07.460Z"
   },
   {
    "duration": 295,
    "start_time": "2024-09-04T11:07:07.747Z"
   },
   {
    "duration": 18,
    "start_time": "2024-09-04T11:07:08.043Z"
   },
   {
    "duration": 383,
    "start_time": "2024-09-04T11:07:08.062Z"
   },
   {
    "duration": 12,
    "start_time": "2024-09-04T11:07:08.447Z"
   },
   {
    "duration": 395,
    "start_time": "2024-09-04T11:07:08.461Z"
   },
   {
    "duration": 6,
    "start_time": "2024-09-04T11:07:30.152Z"
   },
   {
    "duration": 118,
    "start_time": "2024-09-04T11:07:30.568Z"
   },
   {
    "duration": 9,
    "start_time": "2024-09-04T11:07:31.398Z"
   },
   {
    "duration": 10,
    "start_time": "2024-09-04T11:07:35.463Z"
   },
   {
    "duration": 9,
    "start_time": "2024-09-04T11:07:39.527Z"
   },
   {
    "duration": 6,
    "start_time": "2024-09-04T11:08:01.205Z"
   },
   {
    "duration": 5,
    "start_time": "2024-09-04T11:08:01.601Z"
   },
   {
    "duration": 6,
    "start_time": "2024-09-04T11:08:02.907Z"
   },
   {
    "duration": 1288,
    "start_time": "2024-09-04T11:08:39.547Z"
   },
   {
    "duration": 1118,
    "start_time": "2024-09-04T11:08:40.837Z"
   },
   {
    "duration": 4,
    "start_time": "2024-09-04T11:08:41.956Z"
   },
   {
    "duration": 10,
    "start_time": "2024-09-04T11:08:41.962Z"
   },
   {
    "duration": 106,
    "start_time": "2024-09-04T11:08:41.974Z"
   },
   {
    "duration": 4,
    "start_time": "2024-09-04T11:08:42.081Z"
   },
   {
    "duration": 94,
    "start_time": "2024-09-04T11:08:42.086Z"
   },
   {
    "duration": 9,
    "start_time": "2024-09-04T11:08:42.181Z"
   },
   {
    "duration": 16,
    "start_time": "2024-09-04T11:08:42.191Z"
   },
   {
    "duration": 47,
    "start_time": "2024-09-04T11:08:42.210Z"
   },
   {
    "duration": 9,
    "start_time": "2024-09-04T11:08:42.258Z"
   },
   {
    "duration": 11,
    "start_time": "2024-09-04T11:08:42.269Z"
   },
   {
    "duration": 9,
    "start_time": "2024-09-04T11:08:42.281Z"
   },
   {
    "duration": 5,
    "start_time": "2024-09-04T11:08:42.291Z"
   },
   {
    "duration": 11,
    "start_time": "2024-09-04T11:08:42.297Z"
   },
   {
    "duration": 19,
    "start_time": "2024-09-04T11:08:42.309Z"
   },
   {
    "duration": 12,
    "start_time": "2024-09-04T11:08:42.329Z"
   },
   {
    "duration": 11,
    "start_time": "2024-09-04T11:08:42.342Z"
   },
   {
    "duration": 18,
    "start_time": "2024-09-04T11:08:42.355Z"
   },
   {
    "duration": 5,
    "start_time": "2024-09-04T11:08:42.375Z"
   },
   {
    "duration": 5,
    "start_time": "2024-09-04T11:08:42.381Z"
   },
   {
    "duration": 11,
    "start_time": "2024-09-04T11:08:42.387Z"
   },
   {
    "duration": 17,
    "start_time": "2024-09-04T11:08:42.399Z"
   },
   {
    "duration": 6,
    "start_time": "2024-09-04T11:08:42.418Z"
   },
   {
    "duration": 5,
    "start_time": "2024-09-04T11:08:42.425Z"
   },
   {
    "duration": 26,
    "start_time": "2024-09-04T11:08:42.431Z"
   },
   {
    "duration": 13,
    "start_time": "2024-09-04T11:08:42.459Z"
   },
   {
    "duration": 328,
    "start_time": "2024-09-04T11:08:42.476Z"
   },
   {
    "duration": 12,
    "start_time": "2024-09-04T11:08:42.806Z"
   },
   {
    "duration": 262,
    "start_time": "2024-09-04T11:08:42.820Z"
   },
   {
    "duration": 213,
    "start_time": "2024-09-04T11:08:43.083Z"
   },
   {
    "duration": 10,
    "start_time": "2024-09-04T11:08:43.298Z"
   },
   {
    "duration": 188,
    "start_time": "2024-09-04T11:08:43.310Z"
   },
   {
    "duration": 141,
    "start_time": "2024-09-04T11:08:43.501Z"
   },
   {
    "duration": 19,
    "start_time": "2024-09-04T11:08:43.643Z"
   },
   {
    "duration": 19,
    "start_time": "2024-09-04T11:08:43.664Z"
   },
   {
    "duration": 412,
    "start_time": "2024-09-04T11:08:43.685Z"
   },
   {
    "duration": 11,
    "start_time": "2024-09-04T11:08:44.099Z"
   },
   {
    "duration": 36,
    "start_time": "2024-09-04T11:08:44.112Z"
   },
   {
    "duration": 285,
    "start_time": "2024-09-04T11:08:44.149Z"
   },
   {
    "duration": 19,
    "start_time": "2024-09-04T11:08:44.436Z"
   },
   {
    "duration": 386,
    "start_time": "2024-09-04T11:08:44.456Z"
   },
   {
    "duration": 18,
    "start_time": "2024-09-04T11:08:44.844Z"
   },
   {
    "duration": 11,
    "start_time": "2024-09-04T11:08:44.864Z"
   },
   {
    "duration": 322,
    "start_time": "2024-09-04T11:08:44.877Z"
   },
   {
    "duration": 15,
    "start_time": "2024-09-04T11:08:45.201Z"
   },
   {
    "duration": 428,
    "start_time": "2024-09-04T11:08:45.218Z"
   },
   {
    "duration": 12,
    "start_time": "2024-09-04T11:08:45.651Z"
   },
   {
    "duration": 274,
    "start_time": "2024-09-04T11:08:45.664Z"
   },
   {
    "duration": 5,
    "start_time": "2024-09-04T11:08:45.940Z"
   },
   {
    "duration": 211,
    "start_time": "2024-09-04T11:08:45.951Z"
   },
   {
    "duration": 194,
    "start_time": "2024-09-04T11:08:46.164Z"
   },
   {
    "duration": 4,
    "start_time": "2024-09-04T11:08:46.360Z"
   },
   {
    "duration": 10,
    "start_time": "2024-09-04T11:08:46.366Z"
   },
   {
    "duration": 11,
    "start_time": "2024-09-04T11:08:46.377Z"
   },
   {
    "duration": 11,
    "start_time": "2024-09-04T11:08:46.390Z"
   },
   {
    "duration": 138,
    "start_time": "2024-09-04T11:08:46.403Z"
   },
   {
    "duration": 15,
    "start_time": "2024-09-04T11:08:46.542Z"
   },
   {
    "duration": 9,
    "start_time": "2024-09-04T11:08:46.559Z"
   },
   {
    "duration": 6,
    "start_time": "2024-09-04T11:08:46.569Z"
   },
   {
    "duration": 4,
    "start_time": "2024-09-04T11:08:46.577Z"
   },
   {
    "duration": 5,
    "start_time": "2024-09-04T11:08:46.583Z"
   },
   {
    "duration": 3,
    "start_time": "2024-09-04T11:08:46.590Z"
   },
   {
    "duration": 60,
    "start_time": "2024-09-04T11:08:46.595Z"
   },
   {
    "duration": 8,
    "start_time": "2024-09-04T11:08:46.656Z"
   },
   {
    "duration": 80,
    "start_time": "2024-09-04T11:08:46.666Z"
   },
   {
    "duration": 24,
    "start_time": "2024-09-04T11:08:46.747Z"
   },
   {
    "duration": 7,
    "start_time": "2024-09-04T11:08:46.772Z"
   },
   {
    "duration": 26,
    "start_time": "2024-09-04T11:08:46.781Z"
   },
   {
    "duration": 10,
    "start_time": "2024-09-04T11:08:46.809Z"
   },
   {
    "duration": 285,
    "start_time": "2024-09-04T11:08:46.821Z"
   },
   {
    "duration": 296,
    "start_time": "2024-09-04T11:08:47.107Z"
   },
   {
    "duration": 15,
    "start_time": "2024-09-04T11:08:47.404Z"
   },
   {
    "duration": 414,
    "start_time": "2024-09-04T11:08:47.421Z"
   },
   {
    "duration": 17,
    "start_time": "2024-09-04T11:08:47.836Z"
   },
   {
    "duration": 391,
    "start_time": "2024-09-04T11:08:47.855Z"
   }
  ],
  "kernelspec": {
   "display_name": "Python 3 (ipykernel)",
   "language": "python",
   "name": "python3"
  },
  "language_info": {
   "codemirror_mode": {
    "name": "ipython",
    "version": 3
   },
   "file_extension": ".py",
   "mimetype": "text/x-python",
   "name": "python",
   "nbconvert_exporter": "python",
   "pygments_lexer": "ipython3",
   "version": "3.9.5"
  },
  "toc": {
   "base_numbering": 1,
   "nav_menu": {},
   "number_sections": true,
   "sideBar": true,
   "skip_h1_title": true,
   "title_cell": "Table of Contents",
   "title_sidebar": "Contents",
   "toc_cell": false,
   "toc_position": {},
   "toc_section_display": true,
   "toc_window_display": false
  }
 },
 "nbformat": 4,
 "nbformat_minor": 5
}
