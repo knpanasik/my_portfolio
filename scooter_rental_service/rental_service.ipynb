{
 "cells": [
  {
   "cell_type": "markdown",
   "id": "b82d98d8-b0d9-48eb-99fd-18c946c24a00",
   "metadata": {},
   "source": [
    "# Анализ сервиса аренды самокатов GoFast "
   ]
  },
  {
   "cell_type": "markdown",
   "id": "bf9a0d3e-b32f-491f-a80e-e586deb94fc2",
   "metadata": {},
   "source": [
    "# Описание проекта"
   ]
  },
  {
   "cell_type": "markdown",
   "id": "3b68790d-1afc-47ba-ab9b-92c9904be338",
   "metadata": {},
   "source": [
    "GoFast - популярный сервис аренды самокатов. \n",
    "Сервисом можно пользоваться либо с подпиской Ultra, либо без подписки.\n",
    "\n",
    "Продакт-менеджеры хотят увеличить количество пользователей с подпиской. \n",
    "Наша задача - провести исследовательский анализ и проверить ряд гипотез:\n",
    "\n",
    "1. Тратят ли пользователи с подпиской больше времени на поездки?\n",
    "2. Расстояние одной поездки в 3130 метров — оптимальное с точки зрения износа самоката. Можно ли сказать, что среднее расстояние, которое проезжают пользователи с подпиской за одну поездку, не превышает 3130 метров?\n",
    "3. Превышает ли помесячная выручка от пользователей с подпиской выручку от пользователей без подписки."
   ]
  },
  {
   "cell_type": "markdown",
   "id": "9a121e5b-ce32-495d-98ee-d7823bdcedee",
   "metadata": {},
   "source": [
    "# План работы:\n",
    "1. [Загрузка данных](#load_data)\n",
    "2. [Предобработка данных](#preprocessing)\n",
    "3. [Исследовательский анализ данных](#analysis)\n",
    "4. [Объединение данных](#merge)\n",
    "5. [Подсчет выручки](#revenue)\n",
    "6. [Проверка гипотез](#hypotheses)\n",
    "7. [Общие выводы](#conclusions)"
   ]
  },
  {
   "cell_type": "markdown",
   "id": "6c623d42-b235-4014-8a3e-ce61dea10b25",
   "metadata": {},
   "source": [
    "# Описание данных\n",
    "\n",
    "Для проведения анализа нам предоставлены три csv-файла с информацией о пользователях, их поездках и подписках.\n",
    "\n",
    "Информация о пользователях хранится в файле `users_go.csv`\n",
    "\n",
    "- `user_id` - уникальный идентификатор пользователя\n",
    "- `name` - имя пользователя\n",
    "- `age` - возраст\n",
    "- `city` - \tгород\n",
    "- `subscription_type` - тип подписки (free, ultra)\n",
    "\n",
    "Информация о поездках хранится в файле `rides_go.csv`\n",
    "\n",
    "- `user_id` - уникальный идентификатор пользователя\n",
    "- `distance` - расстояние, которое пользователь проехал в текущей сессии (в метрах)\n",
    "- `duration` - продолжительность сессии (в минутах) — время с того момента, как пользователь нажал кнопку «Начать поездку» до момента, как он нажал кнопку «Завершить поездку»\n",
    "- `date` - дата совершения поездки\n",
    "\n",
    "Информация о подписках хранится в файле `subscriptions_go.csv`\n",
    "\n",
    "- `subscription_type` - тип подписки\n",
    "- `minute_price` - стоимость одной минуты поездки по данной подписке\n",
    "- `start_ride_price` - стоимость начала поездки\n",
    "- `subscription_fee` - стоимость ежемесячного платежа"
   ]
  },
  {
   "cell_type": "markdown",
   "id": "99758c19-eda5-4ef7-ab99-757dae0d8c07",
   "metadata": {},
   "source": [
    "<a id=\"load_data\"></a>\n",
    "# Загрузка данных"
   ]
  },
  {
   "cell_type": "markdown",
   "id": "3ff22254-059d-4bab-964e-1c7df5054d8d",
   "metadata": {},
   "source": [
    "Импортируем библиотеки и установим цветовую палитру по умолчанию"
   ]
  },
  {
   "cell_type": "code",
   "execution_count": 2,
   "id": "41b94d6a-d35d-4b8c-80db-cb10b337b042",
   "metadata": {},
   "outputs": [],
   "source": [
    "from math import factorial\n",
    "import pandas as pd\n",
    "import numpy as np\n",
    "from matplotlib import pyplot as plt\n",
    "import matplotlib.patches as mpatches\n",
    "import seaborn as sns\n",
    "from scipy import stats as st\n",
    "#from decimal import Decimal"
   ]
  },
  {
   "cell_type": "code",
   "execution_count": 3,
   "id": "1e0ff7c1-bfca-4155-8f1f-6fdada40509d",
   "metadata": {},
   "outputs": [],
   "source": [
    "sns.set_theme(style=\"whitegrid\", palette=\"pastel\")"
   ]
  },
  {
   "cell_type": "markdown",
   "id": "56208dee-61aa-4832-80d3-55dbd99fc548",
   "metadata": {},
   "source": [
    "Загрузим данные из файлов и проанализируем общую информацию о них."
   ]
  },
  {
   "cell_type": "code",
   "execution_count": 4,
   "id": "7302c796-c6a6-48f4-84df-4fe95ad266b9",
   "metadata": {},
   "outputs": [
    {
     "data": {
      "text/html": [
       "<div>\n",
       "<style scoped>\n",
       "    .dataframe tbody tr th:only-of-type {\n",
       "        vertical-align: middle;\n",
       "    }\n",
       "\n",
       "    .dataframe tbody tr th {\n",
       "        vertical-align: top;\n",
       "    }\n",
       "\n",
       "    .dataframe thead th {\n",
       "        text-align: right;\n",
       "    }\n",
       "</style>\n",
       "<table border=\"1\" class=\"dataframe\">\n",
       "  <thead>\n",
       "    <tr style=\"text-align: right;\">\n",
       "      <th></th>\n",
       "      <th>user_id</th>\n",
       "      <th>name</th>\n",
       "      <th>age</th>\n",
       "      <th>city</th>\n",
       "      <th>subscription_type</th>\n",
       "    </tr>\n",
       "  </thead>\n",
       "  <tbody>\n",
       "    <tr>\n",
       "      <th>0</th>\n",
       "      <td>1</td>\n",
       "      <td>Кира</td>\n",
       "      <td>22</td>\n",
       "      <td>Тюмень</td>\n",
       "      <td>ultra</td>\n",
       "    </tr>\n",
       "    <tr>\n",
       "      <th>1</th>\n",
       "      <td>2</td>\n",
       "      <td>Станислав</td>\n",
       "      <td>31</td>\n",
       "      <td>Омск</td>\n",
       "      <td>ultra</td>\n",
       "    </tr>\n",
       "    <tr>\n",
       "      <th>2</th>\n",
       "      <td>3</td>\n",
       "      <td>Алексей</td>\n",
       "      <td>20</td>\n",
       "      <td>Москва</td>\n",
       "      <td>ultra</td>\n",
       "    </tr>\n",
       "    <tr>\n",
       "      <th>3</th>\n",
       "      <td>4</td>\n",
       "      <td>Константин</td>\n",
       "      <td>26</td>\n",
       "      <td>Ростов-на-Дону</td>\n",
       "      <td>ultra</td>\n",
       "    </tr>\n",
       "    <tr>\n",
       "      <th>4</th>\n",
       "      <td>5</td>\n",
       "      <td>Адель</td>\n",
       "      <td>28</td>\n",
       "      <td>Омск</td>\n",
       "      <td>ultra</td>\n",
       "    </tr>\n",
       "  </tbody>\n",
       "</table>\n",
       "</div>"
      ],
      "text/plain": [
       "   user_id        name  age            city subscription_type\n",
       "0        1        Кира   22          Тюмень             ultra\n",
       "1        2   Станислав   31            Омск             ultra\n",
       "2        3     Алексей   20          Москва             ultra\n",
       "3        4  Константин   26  Ростов-на-Дону             ultra\n",
       "4        5       Адель   28            Омск             ultra"
      ]
     },
     "execution_count": 4,
     "metadata": {},
     "output_type": "execute_result"
    }
   ],
   "source": [
    "try:\n",
    "    users = pd.read_csv('D:/Работа, курсы, обучение+книги/Курсы, самообучение/!DA Plus Yandex/9th sprint/Проект/users_go.csv')\n",
    "except:\n",
    "    users = pd.read_csv('/datasets/users_go.csv')\n",
    "    \n",
    "users.head()"
   ]
  },
  {
   "cell_type": "code",
   "execution_count": 5,
   "id": "fc987a2f-8840-4ab1-89ea-8976575cb6c7",
   "metadata": {},
   "outputs": [
    {
     "data": {
      "text/html": [
       "<div>\n",
       "<style scoped>\n",
       "    .dataframe tbody tr th:only-of-type {\n",
       "        vertical-align: middle;\n",
       "    }\n",
       "\n",
       "    .dataframe tbody tr th {\n",
       "        vertical-align: top;\n",
       "    }\n",
       "\n",
       "    .dataframe thead th {\n",
       "        text-align: right;\n",
       "    }\n",
       "</style>\n",
       "<table border=\"1\" class=\"dataframe\">\n",
       "  <thead>\n",
       "    <tr style=\"text-align: right;\">\n",
       "      <th></th>\n",
       "      <th>user_id</th>\n",
       "      <th>name</th>\n",
       "      <th>age</th>\n",
       "      <th>city</th>\n",
       "      <th>subscription_type</th>\n",
       "    </tr>\n",
       "  </thead>\n",
       "  <tbody>\n",
       "    <tr>\n",
       "      <th>1395</th>\n",
       "      <td>1396</td>\n",
       "      <td>Георгий</td>\n",
       "      <td>24</td>\n",
       "      <td>Краснодар</td>\n",
       "      <td>free</td>\n",
       "    </tr>\n",
       "    <tr>\n",
       "      <th>506</th>\n",
       "      <td>507</td>\n",
       "      <td>Эвелина</td>\n",
       "      <td>27</td>\n",
       "      <td>Пятигорск</td>\n",
       "      <td>ultra</td>\n",
       "    </tr>\n",
       "    <tr>\n",
       "      <th>822</th>\n",
       "      <td>823</td>\n",
       "      <td>Евгения</td>\n",
       "      <td>21</td>\n",
       "      <td>Ростов-на-Дону</td>\n",
       "      <td>free</td>\n",
       "    </tr>\n",
       "    <tr>\n",
       "      <th>363</th>\n",
       "      <td>364</td>\n",
       "      <td>Зарина</td>\n",
       "      <td>25</td>\n",
       "      <td>Тюмень</td>\n",
       "      <td>ultra</td>\n",
       "    </tr>\n",
       "    <tr>\n",
       "      <th>1313</th>\n",
       "      <td>1314</td>\n",
       "      <td>Злата</td>\n",
       "      <td>26</td>\n",
       "      <td>Пятигорск</td>\n",
       "      <td>free</td>\n",
       "    </tr>\n",
       "  </tbody>\n",
       "</table>\n",
       "</div>"
      ],
      "text/plain": [
       "      user_id     name  age            city subscription_type\n",
       "1395     1396  Георгий   24       Краснодар              free\n",
       "506       507  Эвелина   27       Пятигорск             ultra\n",
       "822       823  Евгения   21  Ростов-на-Дону              free\n",
       "363       364   Зарина   25          Тюмень             ultra\n",
       "1313     1314    Злата   26       Пятигорск              free"
      ]
     },
     "execution_count": 5,
     "metadata": {},
     "output_type": "execute_result"
    }
   ],
   "source": [
    "users.sample(5)"
   ]
  },
  {
   "cell_type": "code",
   "execution_count": 6,
   "id": "dd1738a7-1ab6-4ce5-b0fe-0f12c8a44097",
   "metadata": {
    "scrolled": true
   },
   "outputs": [
    {
     "name": "stdout",
     "output_type": "stream",
     "text": [
      "<class 'pandas.core.frame.DataFrame'>\n",
      "RangeIndex: 1565 entries, 0 to 1564\n",
      "Data columns (total 5 columns):\n",
      " #   Column             Non-Null Count  Dtype \n",
      "---  ------             --------------  ----- \n",
      " 0   user_id            1565 non-null   int64 \n",
      " 1   name               1565 non-null   object\n",
      " 2   age                1565 non-null   int64 \n",
      " 3   city               1565 non-null   object\n",
      " 4   subscription_type  1565 non-null   object\n",
      "dtypes: int64(2), object(3)\n",
      "memory usage: 61.3+ KB\n"
     ]
    }
   ],
   "source": [
    "users.info()"
   ]
  },
  {
   "cell_type": "markdown",
   "id": "d7aa44ac-c7af-4f5d-8003-6d187950059f",
   "metadata": {},
   "source": [
    "По предварительной оценке пропуски в данных в таблице с информацией о пользователях отсутствуют, типы данных соответствуют сути содержащейся информации."
   ]
  },
  {
   "cell_type": "code",
   "execution_count": 7,
   "id": "87291ffa-697a-4899-b220-83a88ccfc65e",
   "metadata": {},
   "outputs": [
    {
     "data": {
      "text/html": [
       "<div>\n",
       "<style scoped>\n",
       "    .dataframe tbody tr th:only-of-type {\n",
       "        vertical-align: middle;\n",
       "    }\n",
       "\n",
       "    .dataframe tbody tr th {\n",
       "        vertical-align: top;\n",
       "    }\n",
       "\n",
       "    .dataframe thead th {\n",
       "        text-align: right;\n",
       "    }\n",
       "</style>\n",
       "<table border=\"1\" class=\"dataframe\">\n",
       "  <thead>\n",
       "    <tr style=\"text-align: right;\">\n",
       "      <th></th>\n",
       "      <th>user_id</th>\n",
       "      <th>distance</th>\n",
       "      <th>duration</th>\n",
       "      <th>date</th>\n",
       "    </tr>\n",
       "  </thead>\n",
       "  <tbody>\n",
       "    <tr>\n",
       "      <th>0</th>\n",
       "      <td>1</td>\n",
       "      <td>4409.919140</td>\n",
       "      <td>25.599769</td>\n",
       "      <td>2021-01-01</td>\n",
       "    </tr>\n",
       "    <tr>\n",
       "      <th>1</th>\n",
       "      <td>1</td>\n",
       "      <td>2617.592153</td>\n",
       "      <td>15.816871</td>\n",
       "      <td>2021-01-18</td>\n",
       "    </tr>\n",
       "    <tr>\n",
       "      <th>2</th>\n",
       "      <td>1</td>\n",
       "      <td>754.159807</td>\n",
       "      <td>6.232113</td>\n",
       "      <td>2021-04-20</td>\n",
       "    </tr>\n",
       "    <tr>\n",
       "      <th>3</th>\n",
       "      <td>1</td>\n",
       "      <td>2694.783254</td>\n",
       "      <td>18.511000</td>\n",
       "      <td>2021-08-11</td>\n",
       "    </tr>\n",
       "    <tr>\n",
       "      <th>4</th>\n",
       "      <td>1</td>\n",
       "      <td>4028.687306</td>\n",
       "      <td>26.265803</td>\n",
       "      <td>2021-08-28</td>\n",
       "    </tr>\n",
       "  </tbody>\n",
       "</table>\n",
       "</div>"
      ],
      "text/plain": [
       "   user_id     distance   duration        date\n",
       "0        1  4409.919140  25.599769  2021-01-01\n",
       "1        1  2617.592153  15.816871  2021-01-18\n",
       "2        1   754.159807   6.232113  2021-04-20\n",
       "3        1  2694.783254  18.511000  2021-08-11\n",
       "4        1  4028.687306  26.265803  2021-08-28"
      ]
     },
     "execution_count": 7,
     "metadata": {},
     "output_type": "execute_result"
    }
   ],
   "source": [
    "try:\n",
    "    rides = pd.read_csv('D:/Работа, курсы, обучение+книги/Курсы, самообучение/!DA Plus Yandex/9th sprint/Проект/rides_go.csv')\n",
    "except:\n",
    "    rides = pd.read_csv('/datasets/rides_go.csv')\n",
    "    \n",
    "rides.head()"
   ]
  },
  {
   "cell_type": "code",
   "execution_count": 8,
   "id": "07a97926-34ab-4a59-a1e9-91ff7bfaf5ed",
   "metadata": {},
   "outputs": [
    {
     "data": {
      "text/html": [
       "<div>\n",
       "<style scoped>\n",
       "    .dataframe tbody tr th:only-of-type {\n",
       "        vertical-align: middle;\n",
       "    }\n",
       "\n",
       "    .dataframe tbody tr th {\n",
       "        vertical-align: top;\n",
       "    }\n",
       "\n",
       "    .dataframe thead th {\n",
       "        text-align: right;\n",
       "    }\n",
       "</style>\n",
       "<table border=\"1\" class=\"dataframe\">\n",
       "  <thead>\n",
       "    <tr style=\"text-align: right;\">\n",
       "      <th></th>\n",
       "      <th>user_id</th>\n",
       "      <th>distance</th>\n",
       "      <th>duration</th>\n",
       "      <th>date</th>\n",
       "    </tr>\n",
       "  </thead>\n",
       "  <tbody>\n",
       "    <tr>\n",
       "      <th>14436</th>\n",
       "      <td>1275</td>\n",
       "      <td>3031.533445</td>\n",
       "      <td>20.126134</td>\n",
       "      <td>2021-01-22</td>\n",
       "    </tr>\n",
       "    <tr>\n",
       "      <th>3986</th>\n",
       "      <td>430</td>\n",
       "      <td>3078.720379</td>\n",
       "      <td>12.104739</td>\n",
       "      <td>2021-07-07</td>\n",
       "    </tr>\n",
       "    <tr>\n",
       "      <th>16548</th>\n",
       "      <td>1425</td>\n",
       "      <td>4074.302012</td>\n",
       "      <td>14.866217</td>\n",
       "      <td>2021-10-06</td>\n",
       "    </tr>\n",
       "    <tr>\n",
       "      <th>2533</th>\n",
       "      <td>268</td>\n",
       "      <td>2532.578492</td>\n",
       "      <td>12.235939</td>\n",
       "      <td>2021-10-04</td>\n",
       "    </tr>\n",
       "    <tr>\n",
       "      <th>681</th>\n",
       "      <td>75</td>\n",
       "      <td>3625.144090</td>\n",
       "      <td>21.083814</td>\n",
       "      <td>2021-11-13</td>\n",
       "    </tr>\n",
       "  </tbody>\n",
       "</table>\n",
       "</div>"
      ],
      "text/plain": [
       "       user_id     distance   duration        date\n",
       "14436     1275  3031.533445  20.126134  2021-01-22\n",
       "3986       430  3078.720379  12.104739  2021-07-07\n",
       "16548     1425  4074.302012  14.866217  2021-10-06\n",
       "2533       268  2532.578492  12.235939  2021-10-04\n",
       "681         75  3625.144090  21.083814  2021-11-13"
      ]
     },
     "execution_count": 8,
     "metadata": {},
     "output_type": "execute_result"
    }
   ],
   "source": [
    "rides.sample(5)"
   ]
  },
  {
   "cell_type": "code",
   "execution_count": 9,
   "id": "f56be23a-692d-4384-845a-5792db750721",
   "metadata": {},
   "outputs": [
    {
     "name": "stdout",
     "output_type": "stream",
     "text": [
      "<class 'pandas.core.frame.DataFrame'>\n",
      "RangeIndex: 18068 entries, 0 to 18067\n",
      "Data columns (total 4 columns):\n",
      " #   Column    Non-Null Count  Dtype  \n",
      "---  ------    --------------  -----  \n",
      " 0   user_id   18068 non-null  int64  \n",
      " 1   distance  18068 non-null  float64\n",
      " 2   duration  18068 non-null  float64\n",
      " 3   date      18068 non-null  object \n",
      "dtypes: float64(2), int64(1), object(1)\n",
      "memory usage: 564.8+ KB\n"
     ]
    }
   ],
   "source": [
    "rides.info()"
   ]
  },
  {
   "cell_type": "markdown",
   "id": "b59e16e6-283f-4afe-9482-abce0d9a595c",
   "metadata": {},
   "source": [
    "Пропущенные значения в данных с поездками также отсутствуют, однако в столбце date тип данных следует привести к типу, отвечающему за дату."
   ]
  },
  {
   "cell_type": "code",
   "execution_count": 10,
   "id": "d0cfefda-ff0d-45fb-ba3a-c3f161aa8079",
   "metadata": {},
   "outputs": [
    {
     "data": {
      "text/html": [
       "<div>\n",
       "<style scoped>\n",
       "    .dataframe tbody tr th:only-of-type {\n",
       "        vertical-align: middle;\n",
       "    }\n",
       "\n",
       "    .dataframe tbody tr th {\n",
       "        vertical-align: top;\n",
       "    }\n",
       "\n",
       "    .dataframe thead th {\n",
       "        text-align: right;\n",
       "    }\n",
       "</style>\n",
       "<table border=\"1\" class=\"dataframe\">\n",
       "  <thead>\n",
       "    <tr style=\"text-align: right;\">\n",
       "      <th></th>\n",
       "      <th>subscription_type</th>\n",
       "      <th>minute_price</th>\n",
       "      <th>start_ride_price</th>\n",
       "      <th>subscription_fee</th>\n",
       "    </tr>\n",
       "  </thead>\n",
       "  <tbody>\n",
       "    <tr>\n",
       "      <th>0</th>\n",
       "      <td>free</td>\n",
       "      <td>8</td>\n",
       "      <td>50</td>\n",
       "      <td>0</td>\n",
       "    </tr>\n",
       "    <tr>\n",
       "      <th>1</th>\n",
       "      <td>ultra</td>\n",
       "      <td>6</td>\n",
       "      <td>0</td>\n",
       "      <td>199</td>\n",
       "    </tr>\n",
       "  </tbody>\n",
       "</table>\n",
       "</div>"
      ],
      "text/plain": [
       "  subscription_type  minute_price  start_ride_price  subscription_fee\n",
       "0              free             8                50                 0\n",
       "1             ultra             6                 0               199"
      ]
     },
     "execution_count": 10,
     "metadata": {},
     "output_type": "execute_result"
    }
   ],
   "source": [
    "try:\n",
    "    subcriptions = pd.read_csv('D:/Работа, курсы, обучение+книги/Курсы, самообучение/!DA Plus Yandex/9th sprint/Проект/subscriptions_go.csv')\n",
    "except:\n",
    "    subcriptions = pd.read_csv('/datasets/subscriptions_go.csv')\n",
    "    \n",
    "subcriptions.head()"
   ]
  },
  {
   "cell_type": "code",
   "execution_count": 11,
   "id": "363421ac-c1bd-491a-87ab-6f5f899f281e",
   "metadata": {},
   "outputs": [
    {
     "name": "stdout",
     "output_type": "stream",
     "text": [
      "<class 'pandas.core.frame.DataFrame'>\n",
      "RangeIndex: 2 entries, 0 to 1\n",
      "Data columns (total 4 columns):\n",
      " #   Column             Non-Null Count  Dtype \n",
      "---  ------             --------------  ----- \n",
      " 0   subscription_type  2 non-null      object\n",
      " 1   minute_price       2 non-null      int64 \n",
      " 2   start_ride_price   2 non-null      int64 \n",
      " 3   subscription_fee   2 non-null      int64 \n",
      "dtypes: int64(3), object(1)\n",
      "memory usage: 192.0+ bytes\n"
     ]
    }
   ],
   "source": [
    "subcriptions.info()"
   ]
  },
  {
   "cell_type": "markdown",
   "id": "d69e5a5d-98dc-4998-b90c-1478630004a7",
   "metadata": {},
   "source": [
    "В предоставленных данных присутствуют только 2 вида подписок:\n",
    "\n",
    "free: стоимость одной минуты - 8 рублей, стоимость старта - 50 рублей, абонплата 0 рублей. <br>\n",
    "ultra: стоимость одной минуты - 6 рублей, стоимость старта - 0 рублей, абонплата 199 рублей.\n",
    "\n",
    "Данные в таблице о подписках соответствуют данным, обозначенным нам со стороны заказчика."
   ]
  },
  {
   "cell_type": "markdown",
   "id": "a7601cf9",
   "metadata": {},
   "source": [
    "<b> Вывод по загрузке данных"
   ]
  },
  {
   "cell_type": "markdown",
   "id": "0d9c4c6c-d1ce-4ee5-9b5b-eeeb469b44d7",
   "metadata": {},
   "source": [
    "Предварительно пропуски в данных отсутствуют. \n",
    "Таблица с информацией о пользователях содержит чуть более 1,5 тыс. строк.\n",
    "В таблице с поездками число строк составляет около 18 тыс. \n",
    "В данных могут иметься дубликаты (что по сути подтверждает выгрузка первых 5 строк таблицы с поездками, которые относятся к одному пользователю). Проверку на дубликаты мы проведем на следующем этапе (предобработка данных).\n",
    "Кроме того, в таблице с информацией о поездках тип данных в столбце date необходимо привести к формату datetime."
   ]
  },
  {
   "cell_type": "markdown",
   "id": "b6c70dc1-1cf8-40c2-940f-199de20e0d7d",
   "metadata": {},
   "source": [
    "<a id=\"preprocessing\"></a>\n",
    "# Предобработка данных"
   ]
  },
  {
   "cell_type": "code",
   "execution_count": 12,
   "id": "890f3599-dfa4-4b8d-865e-5313143ee1e3",
   "metadata": {},
   "outputs": [],
   "source": [
    "# приведем столбец date к типу даты pandas\n",
    "rides['date'] = pd.to_datetime(rides['date'])"
   ]
  },
  {
   "cell_type": "code",
   "execution_count": 13,
   "id": "edc70cbb",
   "metadata": {},
   "outputs": [
    {
     "name": "stdout",
     "output_type": "stream",
     "text": [
      "Минимальная дата в таблице rides - 2021-01-01 00:00:00, максимальная дата - 2021-12-30 00:00:00\n"
     ]
    }
   ],
   "source": [
    "# посмотрим каким временным промужетком представлены данные в таблице rides:\n",
    "print(f'Минимальная дата в таблице rides - {rides.date.min()}, максимальная дата - {rides.date.max()}')"
   ]
  },
  {
   "cell_type": "code",
   "execution_count": 14,
   "id": "4e78db70-7de0-4dbe-9ce3-dd029ea00e7b",
   "metadata": {},
   "outputs": [],
   "source": [
    "# создадим новый столбец с номером месяца\n",
    "rides['month'] = rides['date'].dt.month"
   ]
  },
  {
   "cell_type": "code",
   "execution_count": 15,
   "id": "a8a091a9-96df-4274-81d0-2c85897f5d02",
   "metadata": {},
   "outputs": [
    {
     "name": "stdout",
     "output_type": "stream",
     "text": [
      "Количество полных дубликатов в таблице users - 31\n"
     ]
    }
   ],
   "source": [
    "# проверим число полных дубликатов в таблице users\n",
    "print(f'Количество полных дубликатов в таблице users - {users.duplicated().sum()}')"
   ]
  },
  {
   "cell_type": "code",
   "execution_count": 16,
   "id": "3be7adc6-d38e-4785-aff3-965cba186323",
   "metadata": {},
   "outputs": [],
   "source": [
    "# создадим переменную для сопоставления числа удаленных строк к первоначальной таблице в рамках исключения дубликатов\n",
    "users_before = users.shape[0]"
   ]
  },
  {
   "cell_type": "code",
   "execution_count": 17,
   "id": "3dcac139-68ed-4812-a358-e9f7e243485d",
   "metadata": {},
   "outputs": [],
   "source": [
    "# удалим полные дубликаты из таблицы users\n",
    "users.drop_duplicates(keep='first', inplace=True)"
   ]
  },
  {
   "cell_type": "code",
   "execution_count": 18,
   "id": "6bf97c69-dd89-42ab-945d-22f7368236e7",
   "metadata": {
    "scrolled": true
   },
   "outputs": [
    {
     "name": "stdout",
     "output_type": "stream",
     "text": [
      "Число удаленных дубликатов составило 1.98% первоначальных данных.\n"
     ]
    }
   ],
   "source": [
    "print(f'Число удаленных дубликатов составило {1 - users.shape[0] / users_before:.2%} первоначальных данных.')"
   ]
  },
  {
   "cell_type": "code",
   "execution_count": 19,
   "id": "0dfa8d2b-32bb-4cbd-9129-7dd268d36213",
   "metadata": {},
   "outputs": [
    {
     "name": "stdout",
     "output_type": "stream",
     "text": [
      "Количество дубликатов по user_id - 0\n"
     ]
    }
   ],
   "source": [
    "# проверим число дубликатов по user_id  в таблице users (в остальных столбцах могут быть дубликаты, учитывая их суть)\n",
    "print('Количество дубликатов по user_id -', users.duplicated(subset='user_id').sum())"
   ]
  },
  {
   "cell_type": "markdown",
   "id": "f8b9b66f-eaa6-4cec-b54d-2961a00f530a",
   "metadata": {},
   "source": [
    "Проверим датафрейм rides на наличие дубликатов.\n",
    "Один пользователь может совершать несколько поездок в один и тот же день.\n",
    "Однако вероятность того, что один и тот же пользователь в один и тот же день совершил поездки на одинаковое расстояние и время маловероятны.\n",
    "Поэтому сочтем такие строки за дубликаты."
   ]
  },
  {
   "cell_type": "code",
   "execution_count": 20,
   "id": "48baed80-e59b-4d8b-a208-5c5a86ff5f98",
   "metadata": {},
   "outputs": [
    {
     "name": "stdout",
     "output_type": "stream",
     "text": [
      "Количество полных дубликатов в таблице rides - 0\n"
     ]
    }
   ],
   "source": [
    "# проверим количество полных дубликатов в датафрейме rides\n",
    "print('Количество полных дубликатов в таблице rides -', rides.duplicated().sum())"
   ]
  },
  {
   "cell_type": "markdown",
   "id": "aedb0c77-b3ef-41dd-8bb6-ef4ba3a293e0",
   "metadata": {},
   "source": [
    "Дубликаты в таблице subcriptions отсутствуют. Чему свидетельствует сама таблица, выведенная нами в предыдущем разделе:"
   ]
  },
  {
   "cell_type": "markdown",
   "id": "a3ee8924-91e7-42b8-9574-9c577b17fb5c",
   "metadata": {},
   "source": [
    "<a id=\"analysis\"></a>\n",
    "# Исследовательский анализ данных"
   ]
  },
  {
   "cell_type": "markdown",
   "id": "bf3371d1-a906-4b05-ac9d-caf2eb246770",
   "metadata": {},
   "source": [
    "Для начала посмотрим на уникальные категории и число значений в рамках данных категорий в разрезе столбцов таблицы users"
   ]
  },
  {
   "cell_type": "code",
   "execution_count": 22,
   "id": "3f870adf-a9a8-40c9-8d59-b960bf6e6e9a",
   "metadata": {},
   "outputs": [
    {
     "data": {
      "text/plain": [
       "1       1\n",
       "1020    1\n",
       "1029    1\n",
       "1028    1\n",
       "1027    1\n",
       "1026    1\n",
       "1025    1\n",
       "1024    1\n",
       "1023    1\n",
       "1022    1\n",
       "Name: user_id, dtype: int64"
      ]
     },
     "metadata": {},
     "output_type": "display_data"
    },
    {
     "data": {
      "text/plain": [
       "Анна         22\n",
       "Мария        22\n",
       "Александр    17\n",
       "Дмитрий      17\n",
       "Никита       16\n",
       "Иван         15\n",
       "Кира         15\n",
       "Ксения       14\n",
       "Регина       13\n",
       "Вячеслав     13\n",
       "Name: name, dtype: int64"
      ]
     },
     "metadata": {},
     "output_type": "display_data"
    },
    {
     "data": {
      "text/plain": [
       "25    145\n",
       "24    132\n",
       "26    131\n",
       "23    129\n",
       "27    119\n",
       "22    119\n",
       "28    112\n",
       "21     93\n",
       "20     71\n",
       "30     68\n",
       "Name: age, dtype: int64"
      ]
     },
     "metadata": {},
     "output_type": "display_data"
    },
    {
     "data": {
      "text/plain": [
       "Пятигорск         219\n",
       "Екатеринбург      204\n",
       "Ростов-на-Дону    198\n",
       "Краснодар         193\n",
       "Сочи              189\n",
       "Омск              183\n",
       "Тюмень            180\n",
       "Москва            168\n",
       "Name: city, dtype: int64"
      ]
     },
     "metadata": {},
     "output_type": "display_data"
    },
    {
     "data": {
      "text/plain": [
       "free     835\n",
       "ultra    699\n",
       "Name: subscription_type, dtype: int64"
      ]
     },
     "metadata": {},
     "output_type": "display_data"
    }
   ],
   "source": [
    "for column in users.columns:\n",
    "    display(users[column].value_counts().head(10))"
   ]
  },
  {
   "cell_type": "markdown",
   "id": "bd329429-9216-4587-a3ee-3fad5f24e595",
   "metadata": {},
   "source": [
    "По данным таблицы users основная категория пользователей это лица 20 лет (от 20 до 30)."
   ]
  },
  {
   "cell_type": "markdown",
   "id": "b82a932d-25d9-4f1b-a01e-35fd5645e20a",
   "metadata": {},
   "source": [
    "Перейдем к анализу таблицы rides и посмотрим периодичность использования самокатов пользователями."
   ]
  },
  {
   "cell_type": "code",
   "execution_count": 23,
   "id": "d1316248-6d8b-40c7-98bb-f8c209f9cee7",
   "metadata": {},
   "outputs": [
    {
     "data": {
      "image/png": "[encoded data removed]",
      "text/plain": [
       "<Figure size 1152x576 with 1 Axes>"
      ]
     },
     "metadata": {},
     "output_type": "display_data"
    }
   ],
   "source": [
    "# Создание фигуры с заданным размером\n",
    "fig = plt.subplots(figsize=(16, 8))\n",
    "\n",
    "# Группировка данных по дате и подсчет числа поездок в разрезе дат\n",
    "rides_dated = rides.groupby('date')['user_id'].count()\n",
    "\n",
    "# Построение линейного графика количества поездок в день\n",
    "sns.lineplot(x=rides_dated.index, y=rides_dated)\n",
    "\n",
    "# Добавление заголовка с заданными параметрами шрифта\n",
    "plt.title('Динамика поездок в разрезе дней', fontsize=14, fontweight='bold', pad=30)\n",
    "\n",
    "# Добавление названия осей и легенды\n",
    "plt.xlabel('Дата')\n",
    "plt.ylabel('Число поездок')\n",
    "plt.legend(['Количество поездок в день'])\n",
    "\n",
    "# Отображение графика\n",
    "plt.show()"
   ]
  },
  {
   "cell_type": "markdown",
   "id": "b1d0c670-0c4e-4f40-8f2e-8e5069b55ae3",
   "metadata": {},
   "source": [
    "Данные представлены за 2021 год.\n",
    "С учетом специфики использования самокатов, а также присутствии в списке топ-городов северных городов РФ, потенциально должна быть просадка в использовании самокатов в зимний период.\n",
    "Однако такой динамики на графике мы не наблюдает.\n",
    "Необходимо будет провести доп. анализ данных."
   ]
  },
  {
   "cell_type": "markdown",
   "id": "fc19b96d-e21f-46fc-aaee-9f8c694423d6",
   "metadata": {},
   "source": [
    "Учитывая выявленные нюансы выше и запрос на оценку частоты встречаемости городов в рамках аренды самокатов в сервисе посмотрим на распределение данных по городам."
   ]
  },
  {
   "cell_type": "code",
   "execution_count": 24,
   "id": "02ede3eb-c9ee-422f-bff7-ac4db4ad126f",
   "metadata": {},
   "outputs": [
    {
     "data": {
      "image/png": "[encoded data removed]",
      "text/plain": [
       "<Figure size 1152x576 with 1 Axes>"
      ]
     },
     "metadata": {},
     "output_type": "display_data"
    }
   ],
   "source": [
    "# Создаем фигуру и оси для графика\n",
    "fig, ax = plt.subplots(figsize=(16, 8))\n",
    "\n",
    "# Получаем данные о количестве пользователей в каждом городе\n",
    "users_city = users['city'].value_counts()\n",
    "\n",
    "# Стоим горизонтальную столбчатую диаграмму\n",
    "sns.barplot(x=users_city, y=users_city.index, color = '#abcdef', ax=ax)\n",
    "\n",
    "# добавим подписи долей в процентах\n",
    "for i, val in enumerate(users_city.values / users_city.sum()):\n",
    "    ax.text(users_city.values[i]*0.97, i, f'{round(val*100, 1)}%', \n",
    "                         horizontalalignment='center', \n",
    "                         verticalalignment='center', \n",
    "                         fontdict={'fontweight':500, 'size': 12})\n",
    "\n",
    "# Устанавливаем название графика и осей\n",
    "plt.xlabel('Число пользователей')\n",
    "plt.title('Распределение пользователей по городам', fontsize=14, fontweight='bold', pad=30)\n",
    "\n",
    "# Отображаем график\n",
    "plt.show()"
   ]
  },
  {
   "cell_type": "markdown",
   "id": "79086f3e",
   "metadata": {},
   "source": [
    "Наибольшее число пользователей приходится на Пятигорск.\n",
    "Наименьшее - на Москву.\n",
    "В целом разброс пользователей по городам умеренный."
   ]
  },
  {
   "cell_type": "markdown",
   "id": "971b0b1d-010f-4e82-99eb-5e9358e2669b",
   "metadata": {},
   "source": [
    "<b> Оценим соотношение числа пользователей с подпиской и без."
   ]
  },
  {
   "cell_type": "code",
   "execution_count": 25,
   "id": "01fb2632-d11b-4c98-82b9-6368bc975f56",
   "metadata": {},
   "outputs": [
    {
     "data": {
      "image/png": "[encoded data removed]",
      "text/plain": [
       "<Figure size 720x432 with 1 Axes>"
      ]
     },
     "metadata": {},
     "output_type": "display_data"
    },
    {
     "name": "stdout",
     "output_type": "stream",
     "text": [
      "Общее число пользователей - 1534\n"
     ]
    }
   ],
   "source": [
    "# Получим данные о пользователях с подпиской (ultra) и без (free)\n",
    "users_subtype = users['subscription_type'].value_counts().reset_index()\n",
    "    \n",
    "# Создаем круговую диаграмму с заданным размером\n",
    "plt.figure(figsize=(10, 6)) \n",
    "plt.pie(\n",
    "    users_subtype['subscription_type'], \n",
    "    labels=users_subtype['index'],  \n",
    "    autopct='%1.1f%%' \n",
    "    )\n",
    "\n",
    "# Зададим заголовок круговой диаграммы\n",
    "plt.title('Соотношение пользователей с подпиской (ultra) и без (free) подписки', fontsize=14, fontweight=\"bold\")\n",
    "\n",
    "# Отобразим диаграмму\n",
    "plt.show()\n",
    "\n",
    "# Дополнительно отобразим общее число пользователей\n",
    "print(f'Общее число пользователей - {users.shape[0]}')"
   ]
  },
  {
   "cell_type": "markdown",
   "id": "b39508e7",
   "metadata": {},
   "source": [
    "Число пользователей без подписки незначительно превышает число пользователей с подпиской."
   ]
  },
  {
   "cell_type": "markdown",
   "id": "c2cf40f3-8b1e-4fd1-ad40-19267f38b303",
   "metadata": {},
   "source": [
    "<b> По предварительной оценке наибольшее число пользователей это лица от 20 до 30 лет. <br>\n",
    "Посмотрим на распределение возраста пользователей внимательнее."
   ]
  },
  {
   "cell_type": "code",
   "execution_count": 26,
   "id": "40e555d8-f236-4523-921d-72b7559dced6",
   "metadata": {},
   "outputs": [
    {
     "data": {
      "image/png": "[encoded data removed]",
      "text/plain": [
       "<Figure size 1152x576 with 1 Axes>"
      ]
     },
     "metadata": {},
     "output_type": "display_data"
    }
   ],
   "source": [
    "# Создаем стобчатую диаграмму с заданным размером\n",
    "fig = plt.subplots(figsize=(16, 8))\n",
    "\n",
    "# столбчатая диаграмма (countplot) возраста пользователей\n",
    "sns.countplot(data=users, x='age', color = '#abcdef')\n",
    "\n",
    "# Зададим подписи осей и легенды\n",
    "plt.tick_params(labelsize=12)\n",
    "plt.title(\"Распределение пользователей самокатов по возрасту\", fontsize=14)\n",
    "plt.ylabel('Число пользователей', fontsize=14)\n",
    "plt.xlabel('Возраст пользователя (лет)', fontsize=14)\n",
    "\n",
    "# Отобразим график\n",
    "plt.show()"
   ]
  },
  {
   "cell_type": "code",
   "execution_count": 27,
   "id": "420ace28-6074-4bf1-a3cc-59ca9f24a527",
   "metadata": {},
   "outputs": [
    {
     "data": {
      "text/plain": [
       "Text(0.5, 0, 'Возраст пользователя (лет)')"
      ]
     },
     "execution_count": 27,
     "metadata": {},
     "output_type": "execute_result"
    },
    {
     "data": {
      "image/png": "[encoded data removed]",
      "text/plain": [
       "<Figure size 1152x144 with 1 Axes>"
      ]
     },
     "metadata": {},
     "output_type": "display_data"
    }
   ],
   "source": [
    "# Создаем boxplot с заданным размером\n",
    "fig = plt.subplots(figsize=(16, 2))\n",
    "\n",
    "# boxplot возраста пользователей\n",
    "sns.boxplot(data=users, x='age', orient='h')\n",
    "\n",
    "plt.title('Распределение пользователей самокатов по возрасту', fontsize=14)\n",
    "plt.xlabel('Возраст пользователя (лет)', fontsize=14)"
   ]
  },
  {
   "cell_type": "markdown",
   "id": "59597039-b0b0-4bcd-9e69-7f96d7f5cc38",
   "metadata": {},
   "source": [
    "Данные графика подтверждают ранее сделанные наблюдения. В целом, распределение возраста пользователей похоже на нормальное, следовательно мы будем чаще встречать значения близкие к 25 годам, данное значение является медианным. Максимальный возраст пользователя - 43 года, минимальный - 12 лет."
   ]
  },
  {
   "cell_type": "markdown",
   "id": "7d562066-3d27-46bf-991e-305e4cec6875",
   "metadata": {},
   "source": [
    "<b> Оценим распределение поездок по их расстоянию"
   ]
  },
  {
   "cell_type": "code",
   "execution_count": 28,
   "id": "22a5db12-17c0-4074-82c3-cef8ebdf8471",
   "metadata": {},
   "outputs": [
    {
     "data": {
      "image/png": "[encoded data removed]",
      "text/plain": [
       "<Figure size 1152x576 with 1 Axes>"
      ]
     },
     "metadata": {},
     "output_type": "display_data"
    }
   ],
   "source": [
    "# Создаем стобчатую диаграмму с заданным размером\n",
    "fig = plt.subplots(figsize=(16, 8))\n",
    "\n",
    "# столбчатая диаграмма (countplot) возраста пользователей\n",
    "sns.histplot(data=rides, x='distance')\n",
    "\n",
    "# Зададим подписи осей и легенды\n",
    "plt.tick_params(labelsize=12)\n",
    "plt.title('Распределение поездок в разрезе расстояния', fontsize=14)\n",
    "plt.ylabel('Частота наблюдений', fontsize=14)\n",
    "plt.xlabel('Дистанция поездки (в метрах)', fontsize=14)\n",
    "\n",
    "# Отобразим график\n",
    "plt.show()"
   ]
  },
  {
   "cell_type": "code",
   "execution_count": 29,
   "id": "a3aba1a7-c2f0-4768-8459-e93bb3c08be4",
   "metadata": {},
   "outputs": [
    {
     "data": {
      "text/plain": [
       "Text(0.5, 0, 'Дистанция поездки (в метрах)')"
      ]
     },
     "execution_count": 29,
     "metadata": {},
     "output_type": "execute_result"
    },
    {
     "data": {
      "image/png": "[encoded data removed]",
      "text/plain": [
       "<Figure size 1152x144 with 1 Axes>"
      ]
     },
     "metadata": {},
     "output_type": "display_data"
    }
   ],
   "source": [
    "# Создаем boxplot с заданным размером\n",
    "fig = plt.subplots(figsize=(16, 2))\n",
    "\n",
    "# boxplot возраста пользователей\n",
    "sns.boxplot(data=rides, x='distance', orient='h')\n",
    "\n",
    "plt.title(\"Распределение поездок по расстоянию\", fontsize=14)\n",
    "plt.xlabel('Дистанция поездки (в метрах)', fontsize=14)"
   ]
  },
  {
   "cell_type": "markdown",
   "id": "efe78ed6-feb1-476d-b2d7-bae5626825d6",
   "metadata": {},
   "source": [
    "Медианной поездкой с точки зрения дистанции является поездка на чуть более, чем 3000 метров, что близко к заявленному заказчиком оптимальному расстоянию (3130 метров).\n",
    "Распределение является похожим на нормальное, однако присутствует всплеск поездок с дистанцией около 1 километра, порядка 500-800 метров.\n",
    "Данные значения могут быть как аномальными, так и указывать на пользователей, предпочитающих поездки на короткое расстояние."
   ]
  },
  {
   "cell_type": "markdown",
   "id": "4463d5d3-0d6e-42b3-8e2e-29696c463ca3",
   "metadata": {},
   "source": [
    "<b> Перейдем к распределению поездок по их продолжительности"
   ]
  },
  {
   "cell_type": "code",
   "execution_count": 30,
   "id": "73be46c2-00cb-4e78-b3c7-7f7d0f7a8e25",
   "metadata": {},
   "outputs": [
    {
     "data": {
      "image/png": "[encoded data removed]",
      "text/plain": [
       "<Figure size 1152x576 with 1 Axes>"
      ]
     },
     "metadata": {},
     "output_type": "display_data"
    }
   ],
   "source": [
    "# Создаем стобчатую диаграмму с заданным размером\n",
    "fig = plt.subplots(figsize=(16, 8))\n",
    "\n",
    "# столбчатая диаграмма (countplot) возраста пользователей\n",
    "sns.histplot(data=rides, x='duration')\n",
    "\n",
    "# Зададим подписи осей и легенды\n",
    "plt.tick_params(labelsize=12)\n",
    "plt.title('Распределение поездок по их продолжительности', fontsize=14)\n",
    "plt.ylabel('Частота наблюдений', fontsize=14)\n",
    "plt.xlabel('Длительность поездки (в минутах)', fontsize=14)\n",
    "\n",
    "# Отобразим график\n",
    "plt.show()"
   ]
  },
  {
   "cell_type": "code",
   "execution_count": 31,
   "id": "d296cca1-f092-46fe-a8ac-073b0929a9c4",
   "metadata": {},
   "outputs": [
    {
     "data": {
      "text/plain": [
       "Text(0.5, 0, 'Длительность поездки (в минутах)')"
      ]
     },
     "execution_count": 31,
     "metadata": {},
     "output_type": "execute_result"
    },
    {
     "data": {
      "image/png": "[encoded data removed]",
      "text/plain": [
       "<Figure size 1152x144 with 1 Axes>"
      ]
     },
     "metadata": {},
     "output_type": "display_data"
    }
   ],
   "source": [
    "# Создаем boxplot с заданным размером\n",
    "fig = plt.subplots(figsize=(16, 2))\n",
    "\n",
    "# boxplot возраста пользователей\n",
    "sns.boxplot(data=rides, x='duration', orient='h')\n",
    "\n",
    "plt.title('Распределение поездок по их продолжительности', fontsize=14)\n",
    "plt.xlabel('Длительность поездки (в минутах)', fontsize=14)"
   ]
  },
  {
   "cell_type": "markdown",
   "id": "eedd555d-4b5f-4579-ab86-dbe90c8667f9",
   "metadata": {},
   "source": [
    "Медианным значением с точки зрения продолжительности является поездка длительностью 17.5 минут. <br> Распределение также похоже на нормальное, однако здесь также присутствует сплеск в районе одной минуты, что может свидетельствовать о технических проблемах при аренде самоката или же о какой-то специфике работы сервиса."
   ]
  },
  {
   "cell_type": "markdown",
   "id": "7c29deb0-2c8a-48a5-8498-712bb0df594f",
   "metadata": {},
   "source": [
    "<a id=\"merge\"></a>\n",
    "# Объединение данных"
   ]
  },
  {
   "cell_type": "code",
   "execution_count": 32,
   "id": "9c536d6a-86dc-4647-ab9a-ff9c253e85c8",
   "metadata": {},
   "outputs": [
    {
     "data": {
      "text/html": [
       "<div>\n",
       "<style scoped>\n",
       "    .dataframe tbody tr th:only-of-type {\n",
       "        vertical-align: middle;\n",
       "    }\n",
       "\n",
       "    .dataframe tbody tr th {\n",
       "        vertical-align: top;\n",
       "    }\n",
       "\n",
       "    .dataframe thead th {\n",
       "        text-align: right;\n",
       "    }\n",
       "</style>\n",
       "<table border=\"1\" class=\"dataframe\">\n",
       "  <thead>\n",
       "    <tr style=\"text-align: right;\">\n",
       "      <th></th>\n",
       "      <th>user_id</th>\n",
       "      <th>name</th>\n",
       "      <th>age</th>\n",
       "      <th>city</th>\n",
       "      <th>subscription_type</th>\n",
       "      <th>distance</th>\n",
       "      <th>duration</th>\n",
       "      <th>date</th>\n",
       "      <th>month</th>\n",
       "      <th>minute_price</th>\n",
       "      <th>start_ride_price</th>\n",
       "      <th>subscription_fee</th>\n",
       "    </tr>\n",
       "  </thead>\n",
       "  <tbody>\n",
       "    <tr>\n",
       "      <th>396</th>\n",
       "      <td>42</td>\n",
       "      <td>Нина</td>\n",
       "      <td>18</td>\n",
       "      <td>Екатеринбург</td>\n",
       "      <td>ultra</td>\n",
       "      <td>2641.845629</td>\n",
       "      <td>25.851074</td>\n",
       "      <td>2021-07-13</td>\n",
       "      <td>7</td>\n",
       "      <td>6</td>\n",
       "      <td>0</td>\n",
       "      <td>199</td>\n",
       "    </tr>\n",
       "    <tr>\n",
       "      <th>8109</th>\n",
       "      <td>818</td>\n",
       "      <td>Антонина</td>\n",
       "      <td>24</td>\n",
       "      <td>Пятигорск</td>\n",
       "      <td>free</td>\n",
       "      <td>4058.926750</td>\n",
       "      <td>19.697700</td>\n",
       "      <td>2021-12-28</td>\n",
       "      <td>12</td>\n",
       "      <td>8</td>\n",
       "      <td>50</td>\n",
       "      <td>0</td>\n",
       "    </tr>\n",
       "    <tr>\n",
       "      <th>17320</th>\n",
       "      <td>1483</td>\n",
       "      <td>Роберт</td>\n",
       "      <td>26</td>\n",
       "      <td>Екатеринбург</td>\n",
       "      <td>free</td>\n",
       "      <td>3380.996815</td>\n",
       "      <td>17.244993</td>\n",
       "      <td>2021-11-13</td>\n",
       "      <td>11</td>\n",
       "      <td>8</td>\n",
       "      <td>50</td>\n",
       "      <td>0</td>\n",
       "    </tr>\n",
       "    <tr>\n",
       "      <th>4034</th>\n",
       "      <td>435</td>\n",
       "      <td>Игнат</td>\n",
       "      <td>23</td>\n",
       "      <td>Ростов-на-Дону</td>\n",
       "      <td>ultra</td>\n",
       "      <td>3018.519902</td>\n",
       "      <td>12.546300</td>\n",
       "      <td>2021-01-24</td>\n",
       "      <td>1</td>\n",
       "      <td>6</td>\n",
       "      <td>0</td>\n",
       "      <td>199</td>\n",
       "    </tr>\n",
       "    <tr>\n",
       "      <th>13390</th>\n",
       "      <td>1204</td>\n",
       "      <td>Марк</td>\n",
       "      <td>23</td>\n",
       "      <td>Ростов-на-Дону</td>\n",
       "      <td>free</td>\n",
       "      <td>2194.993843</td>\n",
       "      <td>12.130741</td>\n",
       "      <td>2021-01-02</td>\n",
       "      <td>1</td>\n",
       "      <td>8</td>\n",
       "      <td>50</td>\n",
       "      <td>0</td>\n",
       "    </tr>\n",
       "  </tbody>\n",
       "</table>\n",
       "</div>"
      ],
      "text/plain": [
       "       user_id      name  age            city subscription_type     distance  \\\n",
       "396         42      Нина   18    Екатеринбург             ultra  2641.845629   \n",
       "8109       818  Антонина   24       Пятигорск              free  4058.926750   \n",
       "17320     1483    Роберт   26    Екатеринбург              free  3380.996815   \n",
       "4034       435     Игнат   23  Ростов-на-Дону             ultra  3018.519902   \n",
       "13390     1204      Марк   23  Ростов-на-Дону              free  2194.993843   \n",
       "\n",
       "        duration       date  month  minute_price  start_ride_price  \\\n",
       "396    25.851074 2021-07-13      7             6                 0   \n",
       "8109   19.697700 2021-12-28     12             8                50   \n",
       "17320  17.244993 2021-11-13     11             8                50   \n",
       "4034   12.546300 2021-01-24      1             6                 0   \n",
       "13390  12.130741 2021-01-02      1             8                50   \n",
       "\n",
       "       subscription_fee  \n",
       "396                 199  \n",
       "8109                  0  \n",
       "17320                 0  \n",
       "4034                199  \n",
       "13390                 0  "
      ]
     },
     "execution_count": 32,
     "metadata": {},
     "output_type": "execute_result"
    }
   ],
   "source": [
    "#объединим таблицы с данными о пользователях, поездках  и подписках в одну таблицу\n",
    "dfmerged = users.merge(rides, how='inner', on='user_id').merge(subcriptions, how='inner', on='subscription_type')\n",
    "dfmerged.sample(5)"
   ]
  },
  {
   "cell_type": "markdown",
   "id": "11635bc0",
   "metadata": {},
   "source": [
    "Проверим не были ли утеряны какие-либо данные при \"внутреннем\" объединении таблиц:"
   ]
  },
  {
   "cell_type": "code",
   "execution_count": 33,
   "id": "e7f10bc0",
   "metadata": {},
   "outputs": [
    {
     "data": {
      "text/plain": [
       "'Число строк в таблице users - 1534'"
      ]
     },
     "metadata": {},
     "output_type": "display_data"
    },
    {
     "data": {
      "text/plain": [
       "'Число строк в таблице rides - 18068'"
      ]
     },
     "metadata": {},
     "output_type": "display_data"
    },
    {
     "data": {
      "text/plain": [
       "'Число строк в таблице subcriptions - 2'"
      ]
     },
     "metadata": {},
     "output_type": "display_data"
    }
   ],
   "source": [
    "# посмотрим на размерность таблиц после удаления дубликатов:\n",
    "display(f'Число строк в таблице users - {users.shape[0]}')\n",
    "display(f'Число строк в таблице rides - {rides.shape[0]}')\n",
    "display(f'Число строк в таблице subcriptions - {subcriptions.shape[0]}')"
   ]
  },
  {
   "cell_type": "markdown",
   "id": "cf416d44",
   "metadata": {},
   "source": [
    "Учитывая, что мы использовали внутреннее объединение сопоставим число строк в объединенной таблице с таблицей с максимальным числом строк - rides."
   ]
  },
  {
   "cell_type": "code",
   "execution_count": 34,
   "id": "6e945619",
   "metadata": {},
   "outputs": [
    {
     "data": {
      "text/plain": [
       "'В объединенную таблицу попало 100.00% данных таблицы rides'"
      ]
     },
     "metadata": {},
     "output_type": "display_data"
    }
   ],
   "source": [
    "display(f'В объединенную таблицу попало {dfmerged.shape[0] / rides.shape[0]:.2%} данных таблицы rides')"
   ]
  },
  {
   "cell_type": "markdown",
   "id": "51a5f6b1-12ce-4c49-9b82-29aa19757f41",
   "metadata": {},
   "source": [
    "На основании таблицы выше создадим еще два датафрейма, которые содержат:\n",
    "- данные о пользователях без подписки;\n",
    "- данные о пользователях с подпиской."
   ]
  },
  {
   "cell_type": "code",
   "execution_count": 35,
   "id": "8d331458-2c77-4b77-a866-58d130e668d7",
   "metadata": {},
   "outputs": [],
   "source": [
    "dfm_wout_sub = dfmerged[dfmerged['subscription_type'] == 'free']\n",
    "dfm_with_sub = dfmerged[dfmerged['subscription_type'] == 'ultra']"
   ]
  },
  {
   "cell_type": "markdown",
   "id": "ba7b0f78-8bbc-44e5-9b0d-e3763c271ec3",
   "metadata": {},
   "source": [
    "<b> Дополнительно </b> посмотрим на распределение поездок по месяцам, к примеру, в Москве, чтобы детальнее взглянуть имеется ли просадка использования самокатов в зимние месяцы, т.к. на общем объеме данных существенной тенденции к снижению поездок не было выявлено."
   ]
  },
  {
   "cell_type": "code",
   "execution_count": 38,
   "id": "f190b5a0-6288-466b-8853-010612401901",
   "metadata": {},
   "outputs": [
    {
     "data": {
      "image/png": "[encoded data removed]",
      "text/plain": [
       "<Figure size 1152x576 with 1 Axes>"
      ]
     },
     "metadata": {},
     "output_type": "display_data"
    }
   ],
   "source": [
    "# выберем из объединенной таблицы записи, относящиеся к Москве и посчитаем число поездок в разрезе месяцев\n",
    "moscow_data = dfmerged[dfmerged.city == 'Москва'].groupby('month')['user_id'].count()\n",
    "\n",
    "# создаем фигуру и оси для графика\n",
    "fig, ax = plt.subplots(figsize=(16, 8))\n",
    "\n",
    "# Стоим горизонтальную столбчатую диаграмму\n",
    "sns.barplot(x=moscow_data, y=moscow_data.index, ax=ax, color = '#abcdef', orient='h')\n",
    "\n",
    "# добавим подписи числа поездок в разрезе месяцев\n",
    "for i, val in enumerate(moscow_data.values):\n",
    "    ax.text(moscow_data.values[i]*0.97, i, f'{val}', \n",
    "                         horizontalalignment='center', \n",
    "                         verticalalignment='center', \n",
    "                         fontdict={'fontweight':500, 'size': 12})\n",
    "\n",
    "# Добавим название графика и осей\n",
    "plt.xlabel('Число поездок')\n",
    "plt.ylabel('Порядковый номер месяца')\n",
    "plt.title('Распределение поездок в г. Москва в разрезе месяцев', fontsize=14, fontweight='bold', pad=30)\n",
    "\n",
    "# Отображаем график\n",
    "plt.show()"
   ]
  },
  {
   "cell_type": "markdown",
   "id": "524b15c4-c48e-44f7-ad44-b1efc9795b1e",
   "metadata": {},
   "source": [
    "По имеющимся данным можно сделать, что число поездок на самокатах в Москве в декабре-феврале, а также июле фактически идентично, что маловероятно, учитывая климат города.\n",
    "С нашей точки зрения с большой долей вероятности имеется ошибка в сборе данных и следует сделать запрос инжинеру данных, чтобы уточнить данный нюанс, а также потенциально уточнить у заказчика нет ли какой-то специфики использования самокатов (например, короткие поездки в рамках техобслуживания в закрытом помещении или т.п.)."
   ]
  },
  {
   "cell_type": "markdown",
   "id": "008ab304-104f-48fa-bf32-53ff32cfb856",
   "metadata": {},
   "source": [
    "<b> Детализируем через визуализацию информацию о расстоянии и времени поездок для пользователей с и без подписки."
   ]
  },
  {
   "cell_type": "code",
   "execution_count": 39,
   "id": "0a952ca7-1f85-4704-8af0-2a27c94e5faf",
   "metadata": {},
   "outputs": [],
   "source": [
    "# зададим словарь цветов из цветовой палитры Set2 seaborn для определения цвета при построении графика ниже\n",
    "COLORS ={'subscription': {'free': '#fc8d62', 'ultra': '#66c2a5'}}"
   ]
  },
  {
   "cell_type": "code",
   "execution_count": 40,
   "id": "1e35befb-f1ae-4019-a889-c90c913c3f21",
   "metadata": {},
   "outputs": [
    {
     "data": {
      "image/png": "[encoded data removed]",
      "text/plain": [
       "<Figure size 1152x1152 with 2 Axes>"
      ]
     },
     "metadata": {},
     "output_type": "display_data"
    }
   ],
   "source": [
    "sns.set_theme(style=\"whitegrid\", palette=\"Set2\")\n",
    "\n",
    "# Создаем фигуру с 2 подграфиками\n",
    "fig, axes = plt.subplots(nrows=2, ncols=1, sharex=False, figsize=(16, 16))\n",
    "\n",
    "# Верхний график: гистограмма распределения поездок по расстоянию\n",
    "sns.histplot(data=dfmerged, x='distance',\n",
    "             ax=axes[0], alpha=0.5,\n",
    "             hue='subscription_type')\n",
    "\n",
    "# Нижний график: гистограмма распределения поездок по длительности\n",
    "sns.histplot(data=dfmerged, x='duration', \n",
    "             ax=axes[1], alpha=0.5,\n",
    "             hue='subscription_type')\n",
    "\n",
    "# Устанавливаем названия для осей Y\n",
    "axes[0].set_ylabel('Частота наблюдений', fontsize=12)\n",
    "axes[1].set_ylabel('Частота наблюдений', fontsize=12)\n",
    "\n",
    "# Устанавливаем названия для осей Х\n",
    "axes[0].set_xlabel('Дистанция поездки (в метрах)', fontsize=12)\n",
    "axes[1].set_xlabel('Длительность поездки (в минутах)', fontsize=12)\n",
    "\n",
    "# Устанавливаем заголовок для фигуры\n",
    "axes[0].set_title('Распределение поездок по расстоянию', fontsize=14, fontweight='bold', pad=30)\n",
    "axes[1].set_title('Распределение поездок по их продолжительности', fontsize=14, fontweight='bold', pad=30)\n",
    "\n",
    "# Установим легенды\n",
    "ultra_patch = mpatches.Patch(color=COLORS['subscription']['ultra'], label='с подпиской (ultra)')\n",
    "free_patch = mpatches.Patch(color=COLORS['subscription']['free'], label='без подписки (free)')\n",
    "for i in range(2):\n",
    "    axes[i-1].legend(title='Тип подписки', handles=[ultra_patch, free_patch])\n",
    "    \n",
    "# Отображаем графики\n",
    "plt.show()"
   ]
  },
  {
   "cell_type": "markdown",
   "id": "8473b454-8557-475a-b1fa-286bf6a4e935",
   "metadata": {},
   "source": [
    "<b> Таким образом, можно сделать следующие выводы: </b>\n",
    "- расстояние поездки пользователей без подписки имеет больший разброс, чем пользователей с подпиской; <br> \n",
    "- количество поездок до 1 км у пользователей без подписки значительно превышает этот же показатель у пользователей с подпиской; <br>\n",
    "- пользователи без подписки имеют около ста поездок длительностью около минуты, у пользователей с подпиской такие поездки отсутствуют, что вкупе с наличием коротких с точки зрения расстояния поездок может быть связано с какими-то техническими проблемами, учитывая что стоимость старта поездки и 1 минуты движения для пользователей без подписки составляет 50+8=58 рублей (сумма незначительна для фактически любой категории пользователей);<br>\n",
    "- распределения похожи на нормальное;<br>\n",
    "- количество поездок на самокатах в Москве в зимние месяцы идентично числу поездок на самокате в Москве в июле, что может свидетельствовать об ошибках в сборе данных и следует сделать запрос инжинеру данных, а также потенциально уточнить у заказчика нет ли какой-то специфики использования самокатов (техобслуживание в закрытом помещении или т.п.)."
   ]
  },
  {
   "cell_type": "markdown",
   "id": "9e517830-0563-4400-a53f-3877a35e74fd",
   "metadata": {},
   "source": [
    "<a id=\"revenue\"></a>\n",
    "# Подсчет выручки"
   ]
  },
  {
   "cell_type": "markdown",
   "id": "d6e29139-71d3-4993-a686-d692d6b1992e",
   "metadata": {},
   "source": [
    "Используем метод transform, чтобы добавить в объединенную таблицу столбец с необходимой нам информацией, а после \"вытянем\" интересующие нас столбцы в отдельный датафрейм."
   ]
  },
  {
   "cell_type": "code",
   "execution_count": 42,
   "id": "daac60d9-0f66-4816-b68f-043929dcebcb",
   "metadata": {},
   "outputs": [],
   "source": [
    "# рассчитаем суммарное расстояние поездок для каждого пользователя в разрезе месяцев \n",
    "dfmerged['distance_sum'] = dfmerged.groupby(['user_id', 'month'])['distance'].transform('sum')"
   ]
  },
  {
   "cell_type": "code",
   "execution_count": 43,
   "id": "d6571d1d-32d7-470e-884d-7eecf2244f68",
   "metadata": {},
   "outputs": [],
   "source": [
    "# рассчитаем количество поездок для каждого пользователя в разрезе месяцев \n",
    "dfmerged['rides_count'] = dfmerged.groupby(['user_id', 'month'])['user_id'].transform('count')"
   ]
  },
  {
   "cell_type": "code",
   "execution_count": 44,
   "id": "b8d943bf-e9f5-434a-aa91-e4a3b858e4e1",
   "metadata": {},
   "outputs": [],
   "source": [
    "# рассчитаем суммарную длительность поездок для каждого пользователя в разрезе месяцев \n",
    "dfmerged['duration_sum'] = dfmerged.groupby(['user_id', 'month'])['duration'].transform('sum')"
   ]
  },
  {
   "cell_type": "code",
   "execution_count": 45,
   "id": "faf4e257-9cdd-4b89-bf77-74a7a2115ec5",
   "metadata": {},
   "outputs": [],
   "source": [
    "# округлим продолжительность поездок в большую сторону с помощью метода 'ceil'\n",
    "dfmerged['duration_ceil'] = np.ceil(dfmerged['duration'])"
   ]
  },
  {
   "cell_type": "code",
   "execution_count": 46,
   "id": "f3d088fc-01af-49ae-9c57-2b1a84138fc2",
   "metadata": {},
   "outputs": [],
   "source": [
    "# рассчитаем выручку от каждой поездки без учета абонплаты\n",
    "dfmerged['revenue_wout_subfee'] = dfmerged['duration_ceil'] * dfmerged['minute_price'] + dfmerged['start_ride_price']"
   ]
  },
  {
   "cell_type": "code",
   "execution_count": 47,
   "id": "38f5a39f-326e-4e53-9381-650804ae8618",
   "metadata": {},
   "outputs": [],
   "source": [
    "# Расчет суммарного дохода для каждого пользователя в каждом месяце\n",
    "dfmerged['revenue_month'] = (dfmerged.groupby(['user_id', 'month'])['revenue_wout_subfee'].transform('sum') + dfmerged['subscription_fee'])"
   ]
  },
  {
   "cell_type": "code",
   "execution_count": 48,
   "id": "bfb5e492-991a-46a7-b0b3-b0b442bd4163",
   "metadata": {},
   "outputs": [],
   "source": [
    "# создадим требуемый от нас датафрейм с информацией для каждого пользователя в разрезе месяцев\n",
    "revenue_pivot_table = dfmerged[['user_id', 'month', 'distance_sum', 'duration_sum', 'rides_count', 'revenue_month', 'subscription_type']]\n",
    "\n",
    "#удалим дубликаты, которые образовались в результате добавления сгруппированных значений в таблицу с несгруппированными данными (изначальный dataframe)\n",
    "revenue_pivot_table = revenue_pivot_table.drop_duplicates()"
   ]
  },
  {
   "cell_type": "code",
   "execution_count": 49,
   "id": "113b7b7b-f85d-4377-b74f-f25af6c5663d",
   "metadata": {},
   "outputs": [
    {
     "data": {
      "text/html": [
       "<div>\n",
       "<style scoped>\n",
       "    .dataframe tbody tr th:only-of-type {\n",
       "        vertical-align: middle;\n",
       "    }\n",
       "\n",
       "    .dataframe tbody tr th {\n",
       "        vertical-align: top;\n",
       "    }\n",
       "\n",
       "    .dataframe thead th {\n",
       "        text-align: right;\n",
       "    }\n",
       "</style>\n",
       "<table border=\"1\" class=\"dataframe\">\n",
       "  <thead>\n",
       "    <tr style=\"text-align: right;\">\n",
       "      <th></th>\n",
       "      <th>user_id</th>\n",
       "      <th>month</th>\n",
       "      <th>distance_sum</th>\n",
       "      <th>duration_sum</th>\n",
       "      <th>rides_count</th>\n",
       "      <th>revenue_month</th>\n",
       "      <th>subscription_type</th>\n",
       "    </tr>\n",
       "  </thead>\n",
       "  <tbody>\n",
       "    <tr>\n",
       "      <th>3334</th>\n",
       "      <td>360</td>\n",
       "      <td>5</td>\n",
       "      <td>3316.926597</td>\n",
       "      <td>18.474505</td>\n",
       "      <td>1</td>\n",
       "      <td>313.0</td>\n",
       "      <td>ultra</td>\n",
       "    </tr>\n",
       "    <tr>\n",
       "      <th>9314</th>\n",
       "      <td>909</td>\n",
       "      <td>10</td>\n",
       "      <td>2251.188391</td>\n",
       "      <td>12.823975</td>\n",
       "      <td>1</td>\n",
       "      <td>154.0</td>\n",
       "      <td>free</td>\n",
       "    </tr>\n",
       "    <tr>\n",
       "      <th>12788</th>\n",
       "      <td>1159</td>\n",
       "      <td>12</td>\n",
       "      <td>7239.989298</td>\n",
       "      <td>40.054698</td>\n",
       "      <td>2</td>\n",
       "      <td>428.0</td>\n",
       "      <td>free</td>\n",
       "    </tr>\n",
       "    <tr>\n",
       "      <th>13207</th>\n",
       "      <td>1191</td>\n",
       "      <td>1</td>\n",
       "      <td>3973.123284</td>\n",
       "      <td>10.220255</td>\n",
       "      <td>1</td>\n",
       "      <td>138.0</td>\n",
       "      <td>free</td>\n",
       "    </tr>\n",
       "    <tr>\n",
       "      <th>8184</th>\n",
       "      <td>825</td>\n",
       "      <td>5</td>\n",
       "      <td>8408.725356</td>\n",
       "      <td>69.642697</td>\n",
       "      <td>4</td>\n",
       "      <td>768.0</td>\n",
       "      <td>free</td>\n",
       "    </tr>\n",
       "    <tr>\n",
       "      <th>9836</th>\n",
       "      <td>947</td>\n",
       "      <td>6</td>\n",
       "      <td>4392.101091</td>\n",
       "      <td>19.784202</td>\n",
       "      <td>1</td>\n",
       "      <td>210.0</td>\n",
       "      <td>free</td>\n",
       "    </tr>\n",
       "    <tr>\n",
       "      <th>15181</th>\n",
       "      <td>1329</td>\n",
       "      <td>4</td>\n",
       "      <td>12699.938142</td>\n",
       "      <td>84.984517</td>\n",
       "      <td>5</td>\n",
       "      <td>946.0</td>\n",
       "      <td>free</td>\n",
       "    </tr>\n",
       "    <tr>\n",
       "      <th>2262</th>\n",
       "      <td>242</td>\n",
       "      <td>5</td>\n",
       "      <td>3869.697168</td>\n",
       "      <td>18.287273</td>\n",
       "      <td>1</td>\n",
       "      <td>313.0</td>\n",
       "      <td>ultra</td>\n",
       "    </tr>\n",
       "    <tr>\n",
       "      <th>3049</th>\n",
       "      <td>327</td>\n",
       "      <td>2</td>\n",
       "      <td>3184.118071</td>\n",
       "      <td>27.104708</td>\n",
       "      <td>1</td>\n",
       "      <td>367.0</td>\n",
       "      <td>ultra</td>\n",
       "    </tr>\n",
       "    <tr>\n",
       "      <th>3171</th>\n",
       "      <td>343</td>\n",
       "      <td>2</td>\n",
       "      <td>6534.916303</td>\n",
       "      <td>39.638595</td>\n",
       "      <td>2</td>\n",
       "      <td>445.0</td>\n",
       "      <td>ultra</td>\n",
       "    </tr>\n",
       "  </tbody>\n",
       "</table>\n",
       "</div>"
      ],
      "text/plain": [
       "       user_id  month  distance_sum  duration_sum  rides_count  revenue_month  \\\n",
       "3334       360      5   3316.926597     18.474505            1          313.0   \n",
       "9314       909     10   2251.188391     12.823975            1          154.0   \n",
       "12788     1159     12   7239.989298     40.054698            2          428.0   \n",
       "13207     1191      1   3973.123284     10.220255            1          138.0   \n",
       "8184       825      5   8408.725356     69.642697            4          768.0   \n",
       "9836       947      6   4392.101091     19.784202            1          210.0   \n",
       "15181     1329      4  12699.938142     84.984517            5          946.0   \n",
       "2262       242      5   3869.697168     18.287273            1          313.0   \n",
       "3049       327      2   3184.118071     27.104708            1          367.0   \n",
       "3171       343      2   6534.916303     39.638595            2          445.0   \n",
       "\n",
       "      subscription_type  \n",
       "3334              ultra  \n",
       "9314               free  \n",
       "12788              free  \n",
       "13207              free  \n",
       "8184               free  \n",
       "9836               free  \n",
       "15181              free  \n",
       "2262              ultra  \n",
       "3049              ultra  \n",
       "3171              ultra  "
      ]
     },
     "metadata": {},
     "output_type": "display_data"
    }
   ],
   "source": [
    "display(revenue_pivot_table.sample(10))"
   ]
  },
  {
   "cell_type": "markdown",
   "id": "0e869d3f-8161-4e86-9827-e9ce1062a081",
   "metadata": {},
   "source": [
    "<a id=\"hypotheses\"></a>\n",
    "# Проверка гипотез"
   ]
  },
  {
   "cell_type": "markdown",
   "id": "eac96a77-03a9-4114-946c-9c04ed6ad4da",
   "metadata": {},
   "source": [
    "<b> Проверка гипотезы о том, что пользователи с подпиской тратят больше времени на поездки, чем пользователи без подписки"
   ]
  },
  {
   "cell_type": "markdown",
   "id": "2e394bfe-f603-450d-9b82-dca80aadc0c1",
   "metadata": {},
   "source": [
    "<b> Нулевой гипотезой </b> в данном случае будет гипотеза о равенстве математического ожидания времени поездки для пользователей с подпиской и без. <br>\n",
    "<b> Альтернативной </b> - математическое ожидание времени поездки пользователей с подпиской превышает время поездки для пользователей без подписки."
   ]
  },
  {
   "cell_type": "markdown",
   "id": "7cc93f74-359e-4dc9-9b11-abc3e61ba6ec",
   "metadata": {},
   "source": [
    "Выборки независимы, в связи с этим используем метод для проверки гипотезы о равенстве среднего двух генеральных совокупностей (ttest_ind()). <br>\n",
    "Альтернативная гипотеза звучит как превышение одного среднего над вторым, соответственно, речь идет об односторонней гипотезе.<br>\n",
    "Параметр equal_var = False, так как дисперсии распределений различаются, исходя из графика распределений построенного нами выше."
   ]
  },
  {
   "cell_type": "code",
   "execution_count": 50,
   "id": "de9dcf30-a93b-4c1d-8b20-e763312e96d9",
   "metadata": {},
   "outputs": [
    {
     "name": "stdout",
     "output_type": "stream",
     "text": [
      "Среднее первой выборки: 17.39 мин.\n",
      "Среднее второй выборки: 18.54 мин.\n",
      "p-значение: 5.6757813771289775e-37\n",
      "Отвергаем нулевую гипотезу\n"
     ]
    }
   ],
   "source": [
    "print(f'Среднее первой выборки: {dfm_wout_sub.duration.mean():.2f} мин.')\n",
    "print(f'Среднее второй выборки: {dfm_with_sub.duration.mean():.2f} мин.')\n",
    "\n",
    "# определим уровень стат. значимости = 5%\n",
    "alpha = .05\n",
    "\n",
    "results = st.ttest_ind(dfm_with_sub.duration, dfm_wout_sub.duration, alternative='greater', equal_var=False)\n",
    "\n",
    "# выведем на экран получившееся p-значение\n",
    "print(f'p-значение: {results.pvalue}' )\n",
    "\n",
    "# вывод \n",
    "if results.pvalue < alpha:\n",
    "    print('Отвергаем нулевую гипотезу')\n",
    "else:\n",
    "    print('Нет оснований отвергнуть нулевую гипотезу')"
   ]
  },
  {
   "cell_type": "markdown",
   "id": "74afa34b-6fd1-46bd-a2bc-bf6d2ff9b181",
   "metadata": {},
   "source": [
    "Поскольку p-value очень мало и не превышает alpha (в том числе и в случае если бы alpha было бы равно 1%), мы отвергаем нулевую гипотезу о равенстве средних в пользу альтернативной, которая утверждает, что пользователи с подпиской тратят больше времени на поездки пользователей без подписки."
   ]
  },
  {
   "cell_type": "markdown",
   "id": "44d8a3f6-fbfa-4093-8709-5abf28af71b7",
   "metadata": {},
   "source": [
    "<b> Проверка гипотезы о соотношении среднего расстояния одной поездки в сравнении с заявленным заказчиком оптимальным значением"
   ]
  },
  {
   "cell_type": "markdown",
   "id": "326c9367-a013-4484-8d43-67248d558474",
   "metadata": {},
   "source": [
    "Расстояние одной поездки в 3130 метров — оптимальное с точки зрения износа самоката. Можно ли сказать, что среднее расстояние, которое проезжают пользователи с подпиской за одну поездку, не превышает 3130 метров? "
   ]
  },
  {
   "cell_type": "markdown",
   "id": "e8c5009d-6fcc-4d9d-8d0c-047dd03f9fee",
   "metadata": {},
   "source": [
    "<b> Нулевая гипотеза: </b> математическое ожидание расстояния поездки равно 3130 метрам. <br>\n",
    "<b> Альтернативная: </b> математическое ожидание расстояния поездки меньше 3130 метров.<br>\n",
    "Использовать для проверки будем t-test для проверки односторонней гипотезы (ttest_1samp)."
   ]
  },
  {
   "cell_type": "code",
   "execution_count": 51,
   "id": "28039795-c923-4a07-b3e7-54bdd86fb6a1",
   "metadata": {},
   "outputs": [
    {
     "name": "stdout",
     "output_type": "stream",
     "text": [
      "Среднее выборки: 3115.45 метров\n",
      "p-значение: 0.08046311521502146\n",
      "Нет оснований отвергнуть нулевую гипотезу\n"
     ]
    }
   ],
   "source": [
    "print(f'Среднее выборки: {dfm_with_sub.distance.mean():.2f} метров')\n",
    "\n",
    "# значение оптимального расстояния\n",
    "value = 3130\n",
    "\n",
    "# зададим уровень стат.значимости = 5%\n",
    "alpha = .05\n",
    "\n",
    "results = st.ttest_1samp(dfm_with_sub.distance, value, alternative='less')\n",
    "\n",
    "# выведем на экран получившееся p-значение\n",
    "print(f'p-значение: {results.pvalue}')\n",
    "\n",
    "# вывод \n",
    "if results.pvalue < alpha:\n",
    "    print('Отвергаем нулевую гипотезу')\n",
    "else:\n",
    "    print('Нет оснований отвергнуть нулевую гипотезу')"
   ]
  },
  {
   "cell_type": "markdown",
   "id": "82b45765-368f-4d9c-99d2-91889b67b42e",
   "metadata": {},
   "source": [
    "Значение p-value больше уровня статистической значимости, в связи с этим у нас нет достаточных оснований отвергнуть нулевую гипотезу."
   ]
  },
  {
   "cell_type": "markdown",
   "id": "8def38c9-964d-4007-baa2-0b70286bada1",
   "metadata": {},
   "source": [
    "<b> Проверка гипотезы о том, что помесячная выручка от пользователей с подпиской превышает выручку за аналогичный период пользователей без подписки"
   ]
  },
  {
   "cell_type": "markdown",
   "id": "4f71c93b-bf87-4e9a-a602-c86746d67930",
   "metadata": {},
   "source": [
    "<b> Нулевая гипотеза: </b> математическое ожидание выручки пользователей с подпиской равно математическому ожиданию выручки пользователей без подписки.<br>\n",
    "<b> Альтернативная: </b> математическое ожидание выручки пользователей с подпиской превышает (больше) математическое ожидание выручки пользователей без подписки.<br>\n",
    "\n",
    "Как и в первом случае (по аналогичным причинам) использовать будем метод для проверки гипотезы о равенстве среднего двух генеральных совокупностей (ttest_ind()): выборки независимы. <br> Equal_var=False: дисперсия времени поездок различается у пользователей с и без подписки, кроме того, пользователи с подпиской платят допольнительно за подписку, как следствие, есть основания полагать, что дисперсии распределений выручки различаются."
   ]
  },
  {
   "cell_type": "code",
   "execution_count": 52,
   "id": "bc60a224-dd67-4eee-8975-1b1d4d295259",
   "metadata": {},
   "outputs": [
    {
     "name": "stdout",
     "output_type": "stream",
     "text": [
      "Среднее первой выборки: 362.79 руб.\n",
      "Среднее второй выборки: 328.64 руб.\n",
      "p-значение - 8.874140893976874e-40\n",
      "Отвергаем нулевую гипотезу\n"
     ]
    }
   ],
   "source": [
    "revenue_ultra = revenue_pivot_table[revenue_pivot_table.subscription_type == 'ultra'].revenue_month\n",
    "revenue_free = revenue_pivot_table[revenue_pivot_table.subscription_type == 'free'].revenue_month\n",
    "\n",
    "print(f'Среднее первой выборки: {revenue_ultra.mean():.2f} руб.')\n",
    "print(f'Среднее второй выборки: {revenue_free.mean():.2f} руб.')\n",
    "\n",
    "# зададим уровень стат.значимости = 5%\n",
    "alpha = 0.05\n",
    "\n",
    "results = st.ttest_ind(revenue_ultra, revenue_free, alternative='greater', equal_var=False)\n",
    "\n",
    "# выведем на экран получившееся p-значение\n",
    "print(f'p-значение - {results.pvalue}' )\n",
    "\n",
    "# вывод \n",
    "if results.pvalue < alpha:\n",
    "    print('Отвергаем нулевую гипотезу')\n",
    "else:\n",
    "    print('Нет оснований отвергнуть нулевую гипотезу')"
   ]
  },
  {
   "cell_type": "markdown",
   "id": "499bec82-1dbd-41f2-a087-6aa8c6405b25",
   "metadata": {},
   "source": [
    "Поскольку p-value очень мало и не превышает alpha (в том числе и в случае если бы alpha было бы равно 1%), мы отвергаем нулевую гипотезу о равенстве средних в пользу альтернативной, которая утверждает, что средняя выручка пользователей с подпиской выше, чем у пользователей без подписки."
   ]
  },
  {
   "cell_type": "markdown",
   "id": "d516a8aa-bb5a-48df-9c00-38f9c1940194",
   "metadata": {},
   "source": [
    "<a id=\"conclusions\"></a>\n",
    "# Общие выводы по результатам исследования"
   ]
  },
  {
   "cell_type": "markdown",
   "id": "d3f4f9ce-7f9a-4476-80f5-cccd08ff35f8",
   "metadata": {},
   "source": [
    "- в таблице users присутствовали полные дубликаты, которые были удалены (% таких значений от общего размера таблицы users составлял 1.98%);\n",
    "- в таблице rides тип данных в столбце с датой был приведен к datetime;\n",
    "- в нашей выборке не отмечается существенное снижение количества поездок в зимние месяцы года, а количество поездок на самокатах в Москве в зимние месяцы идентично числу поездок на самокате в Москве в июле, что может свидетельствовать об ошибках в сборе данных и следует сделать запрос инжинеру данных, а также потенциально уточнить у заказчика нет ли какой-то специфики использования самокатов (техобслуживание в закрытом помещении или т.п.);\n",
    "- соотношение числа пользователей с подпиской (ultra) и без (free) представленно в выборке следующим образом: 45% / 55% соответственно;\n",
    "- минимальный возраст пользователей - 12 лет, максимальный - 43 года, медианный - 25 лет. 50% пользователей это лица от 22 до 28 лет;\n",
    "- распределение расстояния поездок похоже на нормальное, медианное значение поездки немного превышает 3 км и близко к заявленному заказчиком оптимальному расстоянию в 3130 метров. При этом у нас присутствуют поездки до 1000 метров, что может указывать на ошибки в использовании сервиса (как технические, так и в части удобства использования самокатов) или на группу пользователей, предпочитающих короткие поездки;\n",
    "- медианная длительность поездки - 17,5 минут, распределение похоже на нормальное, но присутствует всплекс поездок длительностью в 1 минуту, что может свидетельствовать об ошибке использования приложения или же о специфических условиях использования сервиса;\n",
    "- в результате проверки гипотез можно сформировать следующие выводы:<br>\n",
    "-- поездки пользователей с подпиской в среднем продолжительнее поездок пользователей без подписки;<br>\n",
    "-- оснований для опровержения гипотезы о том, что среднее расстояние поездок пользователей с подпиской превышает 3130 метров, у нас недостаточно;<br>\n",
    "-- выручка пользователей с подпиской в разрезе месяцев выше выручки пользователей без подписки.<br>"
   ]
  }
 ],
 "metadata": {
  "ExecuteTimeLog": [
   {
    "duration": 1206,
    "start_time": "2024-06-16T16:09:03.955Z"
   },
   {
    "duration": 4,
    "start_time": "2024-06-16T16:09:05.164Z"
   },
   {
    "duration": 204,
    "start_time": "2024-06-16T16:09:05.169Z"
   },
   {
    "duration": 0,
    "start_time": "2024-06-16T16:09:05.376Z"
   },
   {
    "duration": 0,
    "start_time": "2024-06-16T16:09:05.377Z"
   },
   {
    "duration": 0,
    "start_time": "2024-06-16T16:09:05.378Z"
   },
   {
    "duration": 0,
    "start_time": "2024-06-16T16:09:05.379Z"
   },
   {
    "duration": 0,
    "start_time": "2024-06-16T16:09:05.380Z"
   },
   {
    "duration": 0,
    "start_time": "2024-06-16T16:09:05.381Z"
   },
   {
    "duration": 0,
    "start_time": "2024-06-16T16:09:05.382Z"
   },
   {
    "duration": 0,
    "start_time": "2024-06-16T16:09:05.382Z"
   },
   {
    "duration": 0,
    "start_time": "2024-06-16T16:09:05.384Z"
   },
   {
    "duration": 0,
    "start_time": "2024-06-16T16:09:05.385Z"
   },
   {
    "duration": 0,
    "start_time": "2024-06-16T16:09:05.386Z"
   },
   {
    "duration": 0,
    "start_time": "2024-06-16T16:09:05.386Z"
   },
   {
    "duration": 0,
    "start_time": "2024-06-16T16:09:05.387Z"
   },
   {
    "duration": 0,
    "start_time": "2024-06-16T16:09:05.389Z"
   },
   {
    "duration": 0,
    "start_time": "2024-06-16T16:09:05.390Z"
   },
   {
    "duration": 0,
    "start_time": "2024-06-16T16:09:05.391Z"
   },
   {
    "duration": 0,
    "start_time": "2024-06-16T16:09:05.392Z"
   },
   {
    "duration": 0,
    "start_time": "2024-06-16T16:09:05.393Z"
   },
   {
    "duration": 0,
    "start_time": "2024-06-16T16:09:05.394Z"
   },
   {
    "duration": 0,
    "start_time": "2024-06-16T16:09:05.395Z"
   },
   {
    "duration": 0,
    "start_time": "2024-06-16T16:09:05.396Z"
   },
   {
    "duration": 0,
    "start_time": "2024-06-16T16:09:05.397Z"
   },
   {
    "duration": 0,
    "start_time": "2024-06-16T16:09:05.398Z"
   },
   {
    "duration": 0,
    "start_time": "2024-06-16T16:09:05.399Z"
   },
   {
    "duration": 0,
    "start_time": "2024-06-16T16:09:05.400Z"
   },
   {
    "duration": 0,
    "start_time": "2024-06-16T16:09:05.401Z"
   },
   {
    "duration": 0,
    "start_time": "2024-06-16T16:09:05.402Z"
   },
   {
    "duration": 0,
    "start_time": "2024-06-16T16:09:05.446Z"
   },
   {
    "duration": 0,
    "start_time": "2024-06-16T16:09:05.447Z"
   },
   {
    "duration": 0,
    "start_time": "2024-06-16T16:09:05.448Z"
   },
   {
    "duration": 0,
    "start_time": "2024-06-16T16:09:05.449Z"
   },
   {
    "duration": 0,
    "start_time": "2024-06-16T16:09:05.450Z"
   },
   {
    "duration": 0,
    "start_time": "2024-06-16T16:09:05.451Z"
   },
   {
    "duration": 0,
    "start_time": "2024-06-16T16:09:05.451Z"
   },
   {
    "duration": 0,
    "start_time": "2024-06-16T16:09:05.453Z"
   },
   {
    "duration": 0,
    "start_time": "2024-06-16T16:09:05.454Z"
   },
   {
    "duration": 0,
    "start_time": "2024-06-16T16:09:05.455Z"
   },
   {
    "duration": 0,
    "start_time": "2024-06-16T16:09:05.456Z"
   },
   {
    "duration": 0,
    "start_time": "2024-06-16T16:09:05.457Z"
   },
   {
    "duration": 0,
    "start_time": "2024-06-16T16:09:05.458Z"
   },
   {
    "duration": 0,
    "start_time": "2024-06-16T16:09:05.460Z"
   },
   {
    "duration": 0,
    "start_time": "2024-06-16T16:09:05.461Z"
   },
   {
    "duration": 0,
    "start_time": "2024-06-16T16:09:05.462Z"
   },
   {
    "duration": 0,
    "start_time": "2024-06-16T16:09:05.463Z"
   },
   {
    "duration": 0,
    "start_time": "2024-06-16T16:09:05.464Z"
   },
   {
    "duration": 1676,
    "start_time": "2024-06-16T16:09:20.473Z"
   },
   {
    "duration": 1241,
    "start_time": "2024-06-16T16:09:22.151Z"
   },
   {
    "duration": 3,
    "start_time": "2024-06-16T16:09:23.394Z"
   },
   {
    "duration": 155,
    "start_time": "2024-06-16T16:09:23.399Z"
   },
   {
    "duration": 0,
    "start_time": "2024-06-16T16:09:23.557Z"
   },
   {
    "duration": 0,
    "start_time": "2024-06-16T16:09:23.558Z"
   },
   {
    "duration": 0,
    "start_time": "2024-06-16T16:09:23.559Z"
   },
   {
    "duration": 0,
    "start_time": "2024-06-16T16:09:23.560Z"
   },
   {
    "duration": 0,
    "start_time": "2024-06-16T16:09:23.561Z"
   },
   {
    "duration": 0,
    "start_time": "2024-06-16T16:09:23.562Z"
   },
   {
    "duration": 0,
    "start_time": "2024-06-16T16:09:23.564Z"
   },
   {
    "duration": 0,
    "start_time": "2024-06-16T16:09:23.565Z"
   },
   {
    "duration": 0,
    "start_time": "2024-06-16T16:09:23.566Z"
   },
   {
    "duration": 0,
    "start_time": "2024-06-16T16:09:23.566Z"
   },
   {
    "duration": 0,
    "start_time": "2024-06-16T16:09:23.567Z"
   },
   {
    "duration": 0,
    "start_time": "2024-06-16T16:09:23.568Z"
   },
   {
    "duration": 0,
    "start_time": "2024-06-16T16:09:23.569Z"
   },
   {
    "duration": 0,
    "start_time": "2024-06-16T16:09:23.570Z"
   },
   {
    "duration": 0,
    "start_time": "2024-06-16T16:09:23.571Z"
   },
   {
    "duration": 0,
    "start_time": "2024-06-16T16:09:23.572Z"
   },
   {
    "duration": 0,
    "start_time": "2024-06-16T16:09:23.573Z"
   },
   {
    "duration": 0,
    "start_time": "2024-06-16T16:09:23.574Z"
   },
   {
    "duration": 0,
    "start_time": "2024-06-16T16:09:23.575Z"
   },
   {
    "duration": 0,
    "start_time": "2024-06-16T16:09:23.576Z"
   },
   {
    "duration": 0,
    "start_time": "2024-06-16T16:09:23.577Z"
   },
   {
    "duration": 0,
    "start_time": "2024-06-16T16:09:23.578Z"
   },
   {
    "duration": 0,
    "start_time": "2024-06-16T16:09:23.579Z"
   },
   {
    "duration": 0,
    "start_time": "2024-06-16T16:09:23.580Z"
   },
   {
    "duration": 0,
    "start_time": "2024-06-16T16:09:23.581Z"
   },
   {
    "duration": 0,
    "start_time": "2024-06-16T16:09:23.582Z"
   },
   {
    "duration": 0,
    "start_time": "2024-06-16T16:09:23.583Z"
   },
   {
    "duration": 0,
    "start_time": "2024-06-16T16:09:23.584Z"
   },
   {
    "duration": 0,
    "start_time": "2024-06-16T16:09:23.586Z"
   },
   {
    "duration": 0,
    "start_time": "2024-06-16T16:09:23.587Z"
   },
   {
    "duration": 0,
    "start_time": "2024-06-16T16:09:23.588Z"
   },
   {
    "duration": 0,
    "start_time": "2024-06-16T16:09:23.589Z"
   },
   {
    "duration": 0,
    "start_time": "2024-06-16T16:09:23.590Z"
   },
   {
    "duration": 0,
    "start_time": "2024-06-16T16:09:23.646Z"
   },
   {
    "duration": 0,
    "start_time": "2024-06-16T16:09:23.647Z"
   },
   {
    "duration": 0,
    "start_time": "2024-06-16T16:09:23.648Z"
   },
   {
    "duration": 0,
    "start_time": "2024-06-16T16:09:23.649Z"
   },
   {
    "duration": 0,
    "start_time": "2024-06-16T16:09:23.651Z"
   },
   {
    "duration": 0,
    "start_time": "2024-06-16T16:09:23.653Z"
   },
   {
    "duration": 0,
    "start_time": "2024-06-16T16:09:23.654Z"
   },
   {
    "duration": 0,
    "start_time": "2024-06-16T16:09:23.655Z"
   },
   {
    "duration": 0,
    "start_time": "2024-06-16T16:09:23.657Z"
   },
   {
    "duration": 0,
    "start_time": "2024-06-16T16:09:23.659Z"
   },
   {
    "duration": 0,
    "start_time": "2024-06-16T16:09:23.660Z"
   },
   {
    "duration": 0,
    "start_time": "2024-06-16T16:09:23.667Z"
   },
   {
    "duration": 1336,
    "start_time": "2024-06-17T08:23:53.826Z"
   },
   {
    "duration": 942,
    "start_time": "2024-06-17T08:23:55.164Z"
   },
   {
    "duration": 3,
    "start_time": "2024-06-17T08:23:56.107Z"
   },
   {
    "duration": 137,
    "start_time": "2024-06-17T08:23:56.111Z"
   },
   {
    "duration": 6,
    "start_time": "2024-06-17T08:23:56.249Z"
   },
   {
    "duration": 13,
    "start_time": "2024-06-17T08:23:56.256Z"
   },
   {
    "duration": 162,
    "start_time": "2024-06-17T08:23:56.270Z"
   },
   {
    "duration": 6,
    "start_time": "2024-06-17T08:23:56.433Z"
   },
   {
    "duration": 18,
    "start_time": "2024-06-17T08:23:56.440Z"
   },
   {
    "duration": 107,
    "start_time": "2024-06-17T08:23:56.460Z"
   },
   {
    "duration": 7,
    "start_time": "2024-06-17T08:23:56.568Z"
   },
   {
    "duration": 9,
    "start_time": "2024-06-17T08:23:56.576Z"
   },
   {
    "duration": 13,
    "start_time": "2024-06-17T08:23:56.586Z"
   },
   {
    "duration": 6,
    "start_time": "2024-06-17T08:23:56.600Z"
   },
   {
    "duration": 19,
    "start_time": "2024-06-17T08:23:56.607Z"
   },
   {
    "duration": 45,
    "start_time": "2024-06-17T08:23:56.628Z"
   },
   {
    "duration": 6,
    "start_time": "2024-06-17T08:23:56.674Z"
   },
   {
    "duration": 4,
    "start_time": "2024-06-17T08:23:56.681Z"
   },
   {
    "duration": 56,
    "start_time": "2024-06-17T08:23:56.686Z"
   },
   {
    "duration": 51,
    "start_time": "2024-06-17T08:23:56.743Z"
   },
   {
    "duration": 25,
    "start_time": "2024-06-17T08:23:56.795Z"
   },
   {
    "duration": 375,
    "start_time": "2024-06-17T08:23:56.821Z"
   },
   {
    "duration": 183,
    "start_time": "2024-06-17T08:23:57.197Z"
   },
   {
    "duration": 77,
    "start_time": "2024-06-17T08:23:57.381Z"
   },
   {
    "duration": 278,
    "start_time": "2024-06-17T08:23:57.459Z"
   },
   {
    "duration": 105,
    "start_time": "2024-06-17T08:23:57.739Z"
   },
   {
    "duration": 250,
    "start_time": "2024-06-17T08:23:57.845Z"
   },
   {
    "duration": 157,
    "start_time": "2024-06-17T08:23:58.098Z"
   },
   {
    "duration": 269,
    "start_time": "2024-06-17T08:23:58.256Z"
   },
   {
    "duration": 123,
    "start_time": "2024-06-17T08:23:58.527Z"
   },
   {
    "duration": 19,
    "start_time": "2024-06-17T08:23:58.651Z"
   },
   {
    "duration": 19,
    "start_time": "2024-06-17T08:23:58.671Z"
   },
   {
    "duration": 11,
    "start_time": "2024-06-17T08:23:58.691Z"
   },
   {
    "duration": 10,
    "start_time": "2024-06-17T08:23:58.703Z"
   },
   {
    "duration": 216,
    "start_time": "2024-06-17T08:23:58.714Z"
   },
   {
    "duration": 2,
    "start_time": "2024-06-17T08:23:58.932Z"
   },
   {
    "duration": 701,
    "start_time": "2024-06-17T08:23:58.935Z"
   },
   {
    "duration": 2,
    "start_time": "2024-06-17T08:23:59.637Z"
   },
   {
    "duration": 25,
    "start_time": "2024-06-17T08:23:59.640Z"
   },
   {
    "duration": 5,
    "start_time": "2024-06-17T08:23:59.666Z"
   },
   {
    "duration": 10,
    "start_time": "2024-06-17T08:23:59.672Z"
   },
   {
    "duration": 2,
    "start_time": "2024-06-17T08:23:59.683Z"
   },
   {
    "duration": 17,
    "start_time": "2024-06-17T08:23:59.686Z"
   },
   {
    "duration": 21,
    "start_time": "2024-06-17T08:23:59.704Z"
   },
   {
    "duration": 12,
    "start_time": "2024-06-17T08:23:59.727Z"
   },
   {
    "duration": 10,
    "start_time": "2024-06-17T08:23:59.740Z"
   },
   {
    "duration": 14,
    "start_time": "2024-06-17T08:23:59.751Z"
   },
   {
    "duration": 33,
    "start_time": "2024-06-17T08:23:59.766Z"
   },
   {
    "duration": 14,
    "start_time": "2024-06-17T08:23:59.800Z"
   },
   {
    "duration": 14,
    "start_time": "2024-06-17T08:31:30.476Z"
   },
   {
    "duration": 6,
    "start_time": "2024-06-17T08:31:49.138Z"
   },
   {
    "duration": 1475,
    "start_time": "2024-06-17T09:05:33.643Z"
   },
   {
    "duration": 1246,
    "start_time": "2024-06-17T09:05:35.120Z"
   },
   {
    "duration": 3,
    "start_time": "2024-06-17T09:05:36.368Z"
   },
   {
    "duration": 123,
    "start_time": "2024-06-17T09:05:36.373Z"
   },
   {
    "duration": 8,
    "start_time": "2024-06-17T09:05:36.497Z"
   },
   {
    "duration": 16,
    "start_time": "2024-06-17T09:05:36.507Z"
   },
   {
    "duration": 336,
    "start_time": "2024-06-17T09:05:36.525Z"
   },
   {
    "duration": 8,
    "start_time": "2024-06-17T09:05:36.863Z"
   },
   {
    "duration": 15,
    "start_time": "2024-06-17T09:05:36.873Z"
   },
   {
    "duration": 92,
    "start_time": "2024-06-17T09:05:36.891Z"
   },
   {
    "duration": 9,
    "start_time": "2024-06-17T09:05:36.985Z"
   },
   {
    "duration": 19,
    "start_time": "2024-06-17T09:05:36.996Z"
   },
   {
    "duration": 8,
    "start_time": "2024-06-17T09:05:37.017Z"
   },
   {
    "duration": 19,
    "start_time": "2024-06-17T09:05:37.026Z"
   },
   {
    "duration": 10,
    "start_time": "2024-06-17T09:05:37.047Z"
   },
   {
    "duration": 7,
    "start_time": "2024-06-17T09:05:37.058Z"
   },
   {
    "duration": 19,
    "start_time": "2024-06-17T09:05:37.067Z"
   },
   {
    "duration": 7,
    "start_time": "2024-06-17T09:05:37.088Z"
   },
   {
    "duration": 15,
    "start_time": "2024-06-17T09:05:37.096Z"
   },
   {
    "duration": 9,
    "start_time": "2024-06-17T09:05:37.113Z"
   },
   {
    "duration": 14,
    "start_time": "2024-06-17T09:05:37.123Z"
   },
   {
    "duration": 15,
    "start_time": "2024-06-17T09:05:37.139Z"
   },
   {
    "duration": 18,
    "start_time": "2024-06-17T09:05:37.156Z"
   },
   {
    "duration": 441,
    "start_time": "2024-06-17T09:05:37.175Z"
   },
   {
    "duration": 61,
    "start_time": "2024-06-17T09:05:37.618Z"
   },
   {
    "duration": 0,
    "start_time": "2024-06-17T09:05:37.681Z"
   },
   {
    "duration": 0,
    "start_time": "2024-06-17T09:05:37.682Z"
   },
   {
    "duration": 0,
    "start_time": "2024-06-17T09:05:37.683Z"
   },
   {
    "duration": 0,
    "start_time": "2024-06-17T09:05:37.684Z"
   },
   {
    "duration": 0,
    "start_time": "2024-06-17T09:05:37.685Z"
   },
   {
    "duration": 0,
    "start_time": "2024-06-17T09:05:37.686Z"
   },
   {
    "duration": 0,
    "start_time": "2024-06-17T09:05:37.687Z"
   },
   {
    "duration": 0,
    "start_time": "2024-06-17T09:05:37.688Z"
   },
   {
    "duration": 0,
    "start_time": "2024-06-17T09:05:37.689Z"
   },
   {
    "duration": 0,
    "start_time": "2024-06-17T09:05:37.690Z"
   },
   {
    "duration": 0,
    "start_time": "2024-06-17T09:05:37.691Z"
   },
   {
    "duration": 0,
    "start_time": "2024-06-17T09:05:37.692Z"
   },
   {
    "duration": 0,
    "start_time": "2024-06-17T09:05:37.694Z"
   },
   {
    "duration": 0,
    "start_time": "2024-06-17T09:05:37.694Z"
   },
   {
    "duration": 0,
    "start_time": "2024-06-17T09:05:37.696Z"
   },
   {
    "duration": 0,
    "start_time": "2024-06-17T09:05:37.697Z"
   },
   {
    "duration": 0,
    "start_time": "2024-06-17T09:05:37.697Z"
   },
   {
    "duration": 0,
    "start_time": "2024-06-17T09:05:37.698Z"
   },
   {
    "duration": 0,
    "start_time": "2024-06-17T09:05:37.699Z"
   },
   {
    "duration": 0,
    "start_time": "2024-06-17T09:05:37.700Z"
   },
   {
    "duration": 0,
    "start_time": "2024-06-17T09:05:37.701Z"
   },
   {
    "duration": 0,
    "start_time": "2024-06-17T09:05:37.702Z"
   },
   {
    "duration": 0,
    "start_time": "2024-06-17T09:05:37.703Z"
   },
   {
    "duration": 0,
    "start_time": "2024-06-17T09:05:37.704Z"
   },
   {
    "duration": 0,
    "start_time": "2024-06-17T09:05:37.705Z"
   },
   {
    "duration": 0,
    "start_time": "2024-06-17T09:05:37.706Z"
   },
   {
    "duration": 64,
    "start_time": "2024-06-17T09:13:47.749Z"
   },
   {
    "duration": 4,
    "start_time": "2024-06-17T09:14:08.672Z"
   },
   {
    "duration": 4,
    "start_time": "2024-06-17T09:19:39.306Z"
   },
   {
    "duration": 237,
    "start_time": "2024-06-17T09:25:36.604Z"
   },
   {
    "duration": 1191,
    "start_time": "2024-06-17T09:26:06.957Z"
   },
   {
    "duration": 1103,
    "start_time": "2024-06-17T09:26:08.149Z"
   },
   {
    "duration": 3,
    "start_time": "2024-06-17T09:26:09.254Z"
   },
   {
    "duration": 94,
    "start_time": "2024-06-17T09:26:09.259Z"
   },
   {
    "duration": 8,
    "start_time": "2024-06-17T09:26:09.354Z"
   },
   {
    "duration": 11,
    "start_time": "2024-06-17T09:26:09.363Z"
   },
   {
    "duration": 75,
    "start_time": "2024-06-17T09:26:09.375Z"
   },
   {
    "duration": 8,
    "start_time": "2024-06-17T09:26:09.452Z"
   },
   {
    "duration": 14,
    "start_time": "2024-06-17T09:26:09.461Z"
   },
   {
    "duration": 61,
    "start_time": "2024-06-17T09:26:09.477Z"
   },
   {
    "duration": 51,
    "start_time": "2024-06-17T09:26:09.539Z"
   },
   {
    "duration": 7,
    "start_time": "2024-06-17T09:26:09.591Z"
   },
   {
    "duration": 7,
    "start_time": "2024-06-17T09:26:09.600Z"
   },
   {
    "duration": 16,
    "start_time": "2024-06-17T09:26:09.609Z"
   },
   {
    "duration": 8,
    "start_time": "2024-06-17T09:26:09.627Z"
   },
   {
    "duration": 4,
    "start_time": "2024-06-17T09:26:09.636Z"
   },
   {
    "duration": 7,
    "start_time": "2024-06-17T09:26:09.642Z"
   },
   {
    "duration": 3,
    "start_time": "2024-06-17T09:26:09.651Z"
   },
   {
    "duration": 10,
    "start_time": "2024-06-17T09:26:09.656Z"
   },
   {
    "duration": 13,
    "start_time": "2024-06-17T09:26:09.668Z"
   },
   {
    "duration": 13,
    "start_time": "2024-06-17T09:26:09.683Z"
   },
   {
    "duration": 26,
    "start_time": "2024-06-17T09:26:09.697Z"
   },
   {
    "duration": 499,
    "start_time": "2024-06-17T09:26:09.725Z"
   },
   {
    "duration": 217,
    "start_time": "2024-06-17T09:26:10.225Z"
   },
   {
    "duration": 92,
    "start_time": "2024-06-17T09:26:10.443Z"
   },
   {
    "duration": 346,
    "start_time": "2024-06-17T09:26:10.537Z"
   },
   {
    "duration": 138,
    "start_time": "2024-06-17T09:26:10.884Z"
   },
   {
    "duration": 321,
    "start_time": "2024-06-17T09:26:11.025Z"
   },
   {
    "duration": 218,
    "start_time": "2024-06-17T09:26:11.348Z"
   },
   {
    "duration": 326,
    "start_time": "2024-06-17T09:26:11.568Z"
   },
   {
    "duration": 162,
    "start_time": "2024-06-17T09:26:11.897Z"
   },
   {
    "duration": 25,
    "start_time": "2024-06-17T09:26:12.060Z"
   },
   {
    "duration": 8,
    "start_time": "2024-06-17T09:26:12.086Z"
   },
   {
    "duration": 11,
    "start_time": "2024-06-17T09:26:12.095Z"
   },
   {
    "duration": 14,
    "start_time": "2024-06-17T09:26:12.108Z"
   },
   {
    "duration": 297,
    "start_time": "2024-06-17T09:26:12.123Z"
   },
   {
    "duration": 2,
    "start_time": "2024-06-17T09:26:12.422Z"
   },
   {
    "duration": 881,
    "start_time": "2024-06-17T09:26:12.426Z"
   },
   {
    "duration": 3,
    "start_time": "2024-06-17T09:26:13.309Z"
   },
   {
    "duration": 18,
    "start_time": "2024-06-17T09:26:13.313Z"
   },
   {
    "duration": 6,
    "start_time": "2024-06-17T09:26:13.333Z"
   },
   {
    "duration": 10,
    "start_time": "2024-06-17T09:26:13.340Z"
   },
   {
    "duration": 14,
    "start_time": "2024-06-17T09:26:13.352Z"
   },
   {
    "duration": 5,
    "start_time": "2024-06-17T09:26:13.367Z"
   },
   {
    "duration": 8,
    "start_time": "2024-06-17T09:26:13.373Z"
   },
   {
    "duration": 11,
    "start_time": "2024-06-17T09:26:13.382Z"
   },
   {
    "duration": 10,
    "start_time": "2024-06-17T09:26:13.394Z"
   },
   {
    "duration": 6,
    "start_time": "2024-06-17T09:26:13.406Z"
   },
   {
    "duration": 7,
    "start_time": "2024-06-17T09:26:13.413Z"
   },
   {
    "duration": 44,
    "start_time": "2024-06-17T09:26:13.421Z"
   },
   {
    "duration": 77,
    "start_time": "2024-06-17T09:27:24.980Z"
   },
   {
    "duration": 349,
    "start_time": "2024-06-17T09:28:16.429Z"
   },
   {
    "duration": 349,
    "start_time": "2024-06-17T09:29:11.354Z"
   },
   {
    "duration": 4,
    "start_time": "2024-06-17T09:34:10.675Z"
   },
   {
    "duration": 4,
    "start_time": "2024-06-17T09:37:28.005Z"
   },
   {
    "duration": 4,
    "start_time": "2024-06-17T09:37:36.426Z"
   },
   {
    "duration": 7,
    "start_time": "2024-06-17T09:38:09.660Z"
   },
   {
    "duration": 6,
    "start_time": "2024-06-17T09:39:05.796Z"
   },
   {
    "duration": 3,
    "start_time": "2024-06-17T09:42:09.355Z"
   },
   {
    "duration": 1219,
    "start_time": "2024-06-17T09:44:40.616Z"
   },
   {
    "duration": 1131,
    "start_time": "2024-06-17T09:44:41.838Z"
   },
   {
    "duration": 3,
    "start_time": "2024-06-17T09:44:42.971Z"
   },
   {
    "duration": 65,
    "start_time": "2024-06-17T09:44:42.976Z"
   },
   {
    "duration": 8,
    "start_time": "2024-06-17T09:44:43.042Z"
   },
   {
    "duration": 11,
    "start_time": "2024-06-17T09:44:43.051Z"
   },
   {
    "duration": 64,
    "start_time": "2024-06-17T09:44:43.063Z"
   },
   {
    "duration": 9,
    "start_time": "2024-06-17T09:44:43.128Z"
   },
   {
    "duration": 17,
    "start_time": "2024-06-17T09:44:43.138Z"
   },
   {
    "duration": 43,
    "start_time": "2024-06-17T09:44:43.158Z"
   },
   {
    "duration": 10,
    "start_time": "2024-06-17T09:44:43.202Z"
   },
   {
    "duration": 7,
    "start_time": "2024-06-17T09:44:43.213Z"
   },
   {
    "duration": 4,
    "start_time": "2024-06-17T09:44:43.222Z"
   },
   {
    "duration": 7,
    "start_time": "2024-06-17T09:44:43.228Z"
   },
   {
    "duration": 14,
    "start_time": "2024-06-17T09:44:43.236Z"
   },
   {
    "duration": 8,
    "start_time": "2024-06-17T09:44:43.252Z"
   },
   {
    "duration": 20,
    "start_time": "2024-06-17T09:44:43.261Z"
   },
   {
    "duration": 5,
    "start_time": "2024-06-17T09:44:43.283Z"
   },
   {
    "duration": 7,
    "start_time": "2024-06-17T09:44:43.290Z"
   },
   {
    "duration": 16,
    "start_time": "2024-06-17T09:44:43.299Z"
   },
   {
    "duration": 7,
    "start_time": "2024-06-17T09:44:43.316Z"
   },
   {
    "duration": 13,
    "start_time": "2024-06-17T09:44:43.324Z"
   },
   {
    "duration": 486,
    "start_time": "2024-06-17T09:44:43.338Z"
   },
   {
    "duration": 213,
    "start_time": "2024-06-17T09:44:43.826Z"
   },
   {
    "duration": 93,
    "start_time": "2024-06-17T09:44:44.041Z"
   },
   {
    "duration": 329,
    "start_time": "2024-06-17T09:44:44.136Z"
   },
   {
    "duration": 128,
    "start_time": "2024-06-17T09:44:44.466Z"
   },
   {
    "duration": 315,
    "start_time": "2024-06-17T09:44:44.597Z"
   },
   {
    "duration": 218,
    "start_time": "2024-06-17T09:44:44.914Z"
   },
   {
    "duration": 318,
    "start_time": "2024-06-17T09:44:45.133Z"
   },
   {
    "duration": 152,
    "start_time": "2024-06-17T09:44:45.453Z"
   },
   {
    "duration": 24,
    "start_time": "2024-06-17T09:44:45.606Z"
   },
   {
    "duration": 38,
    "start_time": "2024-06-17T09:44:45.632Z"
   },
   {
    "duration": 14,
    "start_time": "2024-06-17T09:44:45.672Z"
   },
   {
    "duration": 10,
    "start_time": "2024-06-17T09:44:45.688Z"
   },
   {
    "duration": 21,
    "start_time": "2024-06-17T09:44:45.699Z"
   },
   {
    "duration": 13,
    "start_time": "2024-06-17T09:44:45.721Z"
   },
   {
    "duration": 309,
    "start_time": "2024-06-17T09:44:45.736Z"
   },
   {
    "duration": 3,
    "start_time": "2024-06-17T09:44:46.046Z"
   },
   {
    "duration": 979,
    "start_time": "2024-06-17T09:44:46.050Z"
   },
   {
    "duration": 3,
    "start_time": "2024-06-17T09:44:47.030Z"
   },
   {
    "duration": 13,
    "start_time": "2024-06-17T09:44:47.034Z"
   },
   {
    "duration": 20,
    "start_time": "2024-06-17T09:44:47.049Z"
   },
   {
    "duration": 14,
    "start_time": "2024-06-17T09:44:47.071Z"
   },
   {
    "duration": 6,
    "start_time": "2024-06-17T09:44:47.086Z"
   },
   {
    "duration": 9,
    "start_time": "2024-06-17T09:44:47.093Z"
   },
   {
    "duration": 8,
    "start_time": "2024-06-17T09:44:47.104Z"
   },
   {
    "duration": 11,
    "start_time": "2024-06-17T09:44:47.113Z"
   },
   {
    "duration": 13,
    "start_time": "2024-06-17T09:44:47.125Z"
   },
   {
    "duration": 7,
    "start_time": "2024-06-17T09:44:47.140Z"
   },
   {
    "duration": 20,
    "start_time": "2024-06-17T09:44:47.148Z"
   },
   {
    "duration": 18,
    "start_time": "2024-06-17T09:44:47.169Z"
   },
   {
    "duration": 1499,
    "start_time": "2024-06-17T19:09:23.777Z"
   },
   {
    "duration": 1708,
    "start_time": "2024-06-17T19:09:25.278Z"
   },
   {
    "duration": 3,
    "start_time": "2024-06-17T19:09:26.988Z"
   },
   {
    "duration": 83,
    "start_time": "2024-06-17T19:09:26.993Z"
   },
   {
    "duration": 8,
    "start_time": "2024-06-17T19:09:27.077Z"
   },
   {
    "duration": 18,
    "start_time": "2024-06-17T19:09:27.087Z"
   },
   {
    "duration": 74,
    "start_time": "2024-06-17T19:09:27.107Z"
   },
   {
    "duration": 9,
    "start_time": "2024-06-17T19:09:27.182Z"
   },
   {
    "duration": 16,
    "start_time": "2024-06-17T19:09:27.193Z"
   },
   {
    "duration": 52,
    "start_time": "2024-06-17T19:09:27.212Z"
   },
   {
    "duration": 12,
    "start_time": "2024-06-17T19:09:27.266Z"
   },
   {
    "duration": 12,
    "start_time": "2024-06-17T19:09:27.280Z"
   },
   {
    "duration": 10,
    "start_time": "2024-06-17T19:09:27.294Z"
   },
   {
    "duration": 20,
    "start_time": "2024-06-17T19:09:27.306Z"
   },
   {
    "duration": 20,
    "start_time": "2024-06-17T19:09:27.328Z"
   },
   {
    "duration": 7,
    "start_time": "2024-06-17T19:09:27.349Z"
   },
   {
    "duration": 12,
    "start_time": "2024-06-17T19:09:27.358Z"
   },
   {
    "duration": 9,
    "start_time": "2024-06-17T19:09:27.372Z"
   },
   {
    "duration": 7,
    "start_time": "2024-06-17T19:09:27.383Z"
   },
   {
    "duration": 10,
    "start_time": "2024-06-17T19:09:27.391Z"
   },
   {
    "duration": 6,
    "start_time": "2024-06-17T19:09:27.403Z"
   },
   {
    "duration": 25,
    "start_time": "2024-06-17T19:09:27.411Z"
   },
   {
    "duration": 452,
    "start_time": "2024-06-17T19:09:27.437Z"
   },
   {
    "duration": 234,
    "start_time": "2024-06-17T19:09:27.891Z"
   },
   {
    "duration": 98,
    "start_time": "2024-06-17T19:09:28.127Z"
   },
   {
    "duration": 388,
    "start_time": "2024-06-17T19:09:28.226Z"
   },
   {
    "duration": 150,
    "start_time": "2024-06-17T19:09:28.615Z"
   },
   {
    "duration": 334,
    "start_time": "2024-06-17T19:09:28.768Z"
   },
   {
    "duration": 213,
    "start_time": "2024-06-17T19:09:29.104Z"
   },
   {
    "duration": 291,
    "start_time": "2024-06-17T19:09:29.319Z"
   },
   {
    "duration": 158,
    "start_time": "2024-06-17T19:09:29.611Z"
   },
   {
    "duration": 32,
    "start_time": "2024-06-17T19:09:29.771Z"
   },
   {
    "duration": 7,
    "start_time": "2024-06-17T19:09:29.805Z"
   },
   {
    "duration": 5,
    "start_time": "2024-06-17T19:09:29.814Z"
   },
   {
    "duration": 45,
    "start_time": "2024-06-17T19:09:29.821Z"
   },
   {
    "duration": 12,
    "start_time": "2024-06-17T19:09:29.868Z"
   },
   {
    "duration": 15,
    "start_time": "2024-06-17T19:09:29.882Z"
   },
   {
    "duration": 294,
    "start_time": "2024-06-17T19:09:29.899Z"
   },
   {
    "duration": 3,
    "start_time": "2024-06-17T19:09:30.195Z"
   },
   {
    "duration": 933,
    "start_time": "2024-06-17T19:09:30.199Z"
   },
   {
    "duration": 2,
    "start_time": "2024-06-17T19:09:31.134Z"
   },
   {
    "duration": 72,
    "start_time": "2024-06-17T19:09:31.138Z"
   },
   {
    "duration": 14,
    "start_time": "2024-06-17T19:09:31.212Z"
   },
   {
    "duration": 40,
    "start_time": "2024-06-17T19:09:31.228Z"
   },
   {
    "duration": 19,
    "start_time": "2024-06-17T19:09:31.270Z"
   },
   {
    "duration": 35,
    "start_time": "2024-06-17T19:09:31.290Z"
   },
   {
    "duration": 23,
    "start_time": "2024-06-17T19:09:31.327Z"
   },
   {
    "duration": 39,
    "start_time": "2024-06-17T19:09:31.351Z"
   },
   {
    "duration": 55,
    "start_time": "2024-06-17T19:09:31.392Z"
   },
   {
    "duration": 38,
    "start_time": "2024-06-17T19:09:31.449Z"
   },
   {
    "duration": 34,
    "start_time": "2024-06-17T19:09:31.489Z"
   },
   {
    "duration": 49,
    "start_time": "2024-06-17T19:09:31.524Z"
   },
   {
    "duration": 94,
    "start_time": "2025-01-03T16:04:53.372Z"
   }
  ],
  "kernelspec": {
   "display_name": "Python 3 (ipykernel)",
   "language": "python",
   "name": "python3"
  },
  "language_info": {
   "codemirror_mode": {
    "name": "ipython",
    "version": 3
   },
   "file_extension": ".py",
   "mimetype": "text/x-python",
   "name": "python",
   "nbconvert_exporter": "python",
   "pygments_lexer": "ipython3",
   "version": "3.11.7"
  },
  "toc": {
   "base_numbering": 1,
   "nav_menu": {},
   "number_sections": true,
   "sideBar": true,
   "skip_h1_title": true,
   "title_cell": "Table of Contents",
   "title_sidebar": "Contents",
   "toc_cell": false,
   "toc_position": {},
   "toc_section_display": true,
   "toc_window_display": true
  }
 },
 "nbformat": 4,
 "nbformat_minor": 5
}
