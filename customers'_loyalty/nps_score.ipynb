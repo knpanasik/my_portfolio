{
 "cells": [
  {
   "cell_type": "markdown",
   "id": "0d183f3d",
   "metadata": {},
   "source": [
    "# Определение текущего уровня потребительской лояльности"
   ]
  },
  {
   "cell_type": "markdown",
   "id": "26132088",
   "metadata": {},
   "source": [
    "# Описание проекта"
   ]
  },
  {
   "cell_type": "markdown",
   "id": "7f3ff482",
   "metadata": {},
   "source": [
    "Необходимо определить текущий уровень потребительской лояльности, или NPS (от англ. Net Promoter Score), среди клиентов из России. \n",
    "\n",
    "Чтобы определить уровень лояльности, клиентам задавали классический вопрос: «Оцените по шкале от 1 до 10 вероятность того, что вы порекомендуете компанию друзьям и знакомым».\n",
    "\n",
    "Для оценки результатов опроса проставленные пользователями баллы разделены на три категории:\n",
    "- 9-10 баллов — «cторонники» (англ. promoters);\n",
    "- 7-8 баллов — «нейтралы» (англ. passives);\n",
    "- 0-6 баллов — «критики» (англ. detractors).\n",
    "\n",
    "Итоговое значение NPS рассчитывается по формуле: % «сторонников» - % «критиков».\n",
    "Значение этого показателя варьируется от -100% (когда все клиенты «критики») до 100% (когда все клиенты лояльны к сервису). "
   ]
  },
  {
   "cell_type": "markdown",
   "id": "4385757b",
   "metadata": {},
   "source": [
    "# Описание данных\n",
    "Для проведения исследования данные выгрузили в SQLite — СУБД, в которой база данных представлена файлом. \n",
    "\n",
    "База данных содержит несколько таблиц.\n",
    "\n",
    "<b> Таблица `user`содержит следующую информацию</b>:\n",
    "* `user_id` — идентификатор клиента, первичный ключ таблицы;\n",
    "* `lt_day` — количество дней «жизни» клиента;\n",
    "* `age` — возраст клиента в годах;\n",
    "* `gender_segment` — пол клиента (1 – женщина, 0 – мужчина);\n",
    "* `os_name` — тип операционной системы;\n",
    "* `cpe_type_name` — тип устройства;\n",
    "* `location_id` — идентификатор домашнего региона клиента, внешний ключ, отсылающий к таблице location;\n",
    "* `age_gr_id` — идентификатор возрастного сегмента клиента, внешний ключ, отсылающий к таблице age_segment;\n",
    "* `tr_gr_id` — идентификатор сегмента клиента по объёму потребляемого трафика в месяц, внешний ключ, отсылающий к таблице traffic_segment;\n",
    "* `lt_gr_id` — идентификатор сегмента клиента по количеству месяцев «жизни», внешний ключ, отсылающий к таблице lifetime_segment;\n",
    "* `nps_score` — оценка клиента в NPS-опросе (от 1 до 10).\n",
    "\n",
    "<b> Таблица `location`содержит следующую информацию</b>:\n",
    "* `location_id` — идентификатор записи, первичный ключ;\n",
    "* `country` — страна;\n",
    "* `city` — город.\n",
    "\n",
    "<b> Таблица `age_segment`содержит следующую информацию</b>:\n",
    "* `age_gr_id` — идентификатор сегмента, первичный ключ;\n",
    "* `bucket_min` — минимальная граница сегмента;\n",
    "* `bucket_max` — максимальная граница сегмента;\n",
    "* `title` — название сегмента.\n",
    "\n",
    "<b> Таблица `traffic_segment`содержит следующую информацию</b>:\n",
    "* `tr_gr_id` — идентификатор сегмента, первичный ключ;\n",
    "* `bucket_min` — минимальная граница сегмента;\n",
    "* `bucket_max` — максимальная граница сегмента;\n",
    "* `title` — название сегмента.\n",
    "\n",
    "<b> Таблица `lifetime_segment`содержит следующую информацию</b>:\n",
    "* `lt_gr_id` — идентификатор сегмента, первичный ключ;\n",
    "* `bucket_min` — минимальная граница сегмента;\n",
    "* `bucket_max` — максимальная граница сегмента;\n",
    "* `title` — название сегмента."
   ]
  },
  {
   "cell_type": "markdown",
   "id": "1febfa76",
   "metadata": {},
   "source": [
    "<a id=\"start\"></a>\n",
    "# Подключение к базе и выгрузка данных"
   ]
  },
  {
   "cell_type": "markdown",
   "id": "68d3e659",
   "metadata": {},
   "source": [
    "С помощью кода ниже мы подключимся к базе данных, а также подготовим необходимую нам витрину через SQL-запрос и сохраним ее в csv-файл для дальнейшей работы в Tableau."
   ]
  },
  {
   "cell_type": "code",
   "execution_count": 1,
   "id": "fc7efa54",
   "metadata": {},
   "outputs": [],
   "source": [
    "import os\n",
    "import pandas as pd\n",
    "import numpy as np\n",
    "\n",
    "from sqlalchemy import create_engine"
   ]
  },
  {
   "cell_type": "code",
   "execution_count": 2,
   "id": "0017f8e7",
   "metadata": {},
   "outputs": [],
   "source": [
    "path_to_db_local = 'telecomm_csi.db'\n",
    "path_to_db_platform = '/datasets/telecomm_csi.db'\n",
    "path_to_db = None\n",
    "\n",
    "if os.path.exists(path_to_db_local):\n",
    "    path_to_db = path_to_db_local\n",
    "elif os.path.exists(path_to_db_platform):\n",
    "    path_to_db = path_to_db_platform\n",
    "else:\n",
    "    raise Exception('Файл с базой данных SQLite не найден!')\n",
    "\n",
    "if path_to_db:\n",
    "    engine = create_engine(f'sqlite:///{path_to_db}', echo=False)"
   ]
  },
  {
   "cell_type": "markdown",
   "id": "0974e4f5",
   "metadata": {},
   "source": [
    "В рамках SQL-запроса мы:\n",
    "- используем LEFT JOIN, т.к. ключевая таблица и данные которые должны быть сохранены находятся в таблице `user`;\n",
    "- с помощью CASE мы задаем условные конструкции, чтобы выделить требуемый для анализа категории;\n",
    "- с помощью SUBSTRING мы обрезаем первые три символа в названиях сегментов age, traffic, lifetime, т.к. названия имеют следующую структуру: \"двузначный порядковый номер символ пробела название категории\";\n",
    "- кроме того, мы сразу удаляем пропуски из поля пол, их объем не превышает 1% и существенно не повлияет на результаты исследования."
   ]
  },
  {
   "cell_type": "code",
   "execution_count": 3,
   "id": "84ebad43",
   "metadata": {},
   "outputs": [],
   "source": [
    "query = \"\"\"\n",
    "SELECT user_id,\n",
    "       lt_day,\n",
    "       CASE \n",
    "            WHEN user.lt_day <= 365 THEN 'новый'\n",
    "            WHEN user.lt_day > 365 THEN 'действующий'\n",
    "       END AS is_new,\n",
    "       age,\n",
    "       CASE \n",
    "            WHEN user.gender_segment = 0 THEN 'мужчина'\n",
    "            WHEN user.gender_segment = 1 THEN 'женщина'\n",
    "       END AS gender_segment,\n",
    "       os_name,\n",
    "       cpe_type_name,\n",
    "       l.country AS country,\n",
    "       l.city AS city,\n",
    "       SUBSTRING(a.title, 3) AS age_segment,\n",
    "       SUBSTRING(tr.title, 3) AS traffic_segment,\n",
    "       SUBSTRING(lt.title, 3) AS lifetime_segment,\n",
    "       nps_score,\n",
    "       CASE \n",
    "            WHEN user.nps_score <=6 THEN 'критики'\n",
    "            WHEN user.nps_score BETWEEN 7 AND 8 THEN 'нейтралы'\n",
    "            WHEN user.nps_score BETWEEN 9 AND 10 THEN 'сторонники'\n",
    "       END AS nps_group\n",
    "       \n",
    "FROM user LEFT JOIN age_segment AS a ON user.age_gr_id = a.age_gr_id\n",
    "LEFT JOIN location AS l ON user.location_id = l.location_id\n",
    "LEFT JOIN traffic_segment AS tr ON user.tr_gr_id = tr.tr_gr_id\n",
    "LEFT JOIN lifetime_segment AS lt ON user.lt_gr_id = lt.lt_gr_id\n",
    "WHERE user.gender_segment IS NOT NULL\n",
    "        \n",
    "\"\"\""
   ]
  },
  {
   "cell_type": "code",
   "execution_count": 4,
   "id": "3965faf2",
   "metadata": {},
   "outputs": [
    {
     "data": {
      "text/html": [
       "<div>\n",
       "<style scoped>\n",
       "    .dataframe tbody tr th:only-of-type {\n",
       "        vertical-align: middle;\n",
       "    }\n",
       "\n",
       "    .dataframe tbody tr th {\n",
       "        vertical-align: top;\n",
       "    }\n",
       "\n",
       "    .dataframe thead th {\n",
       "        text-align: right;\n",
       "    }\n",
       "</style>\n",
       "<table border=\"1\" class=\"dataframe\">\n",
       "  <thead>\n",
       "    <tr style=\"text-align: right;\">\n",
       "      <th></th>\n",
       "      <th>user_id</th>\n",
       "      <th>lt_day</th>\n",
       "      <th>is_new</th>\n",
       "      <th>age</th>\n",
       "      <th>gender_segment</th>\n",
       "      <th>os_name</th>\n",
       "      <th>cpe_type_name</th>\n",
       "      <th>country</th>\n",
       "      <th>city</th>\n",
       "      <th>age_segment</th>\n",
       "      <th>traffic_segment</th>\n",
       "      <th>lifetime_segment</th>\n",
       "      <th>nps_score</th>\n",
       "      <th>nps_group</th>\n",
       "    </tr>\n",
       "  </thead>\n",
       "  <tbody>\n",
       "    <tr>\n",
       "      <th>0</th>\n",
       "      <td>A001A2</td>\n",
       "      <td>2320</td>\n",
       "      <td>действующий</td>\n",
       "      <td>45.0</td>\n",
       "      <td>женщина</td>\n",
       "      <td>ANDROID</td>\n",
       "      <td>SMARTPHONE</td>\n",
       "      <td>Россия</td>\n",
       "      <td>Уфа</td>\n",
       "      <td>45-54</td>\n",
       "      <td>1-5</td>\n",
       "      <td>36+</td>\n",
       "      <td>10</td>\n",
       "      <td>сторонники</td>\n",
       "    </tr>\n",
       "    <tr>\n",
       "      <th>1</th>\n",
       "      <td>A001WF</td>\n",
       "      <td>2344</td>\n",
       "      <td>действующий</td>\n",
       "      <td>53.0</td>\n",
       "      <td>мужчина</td>\n",
       "      <td>ANDROID</td>\n",
       "      <td>SMARTPHONE</td>\n",
       "      <td>Россия</td>\n",
       "      <td>Киров</td>\n",
       "      <td>45-54</td>\n",
       "      <td>1-5</td>\n",
       "      <td>36+</td>\n",
       "      <td>10</td>\n",
       "      <td>сторонники</td>\n",
       "    </tr>\n",
       "    <tr>\n",
       "      <th>2</th>\n",
       "      <td>A003Q7</td>\n",
       "      <td>467</td>\n",
       "      <td>действующий</td>\n",
       "      <td>57.0</td>\n",
       "      <td>мужчина</td>\n",
       "      <td>ANDROID</td>\n",
       "      <td>SMARTPHONE</td>\n",
       "      <td>Россия</td>\n",
       "      <td>Москва</td>\n",
       "      <td>55-64</td>\n",
       "      <td>20-25</td>\n",
       "      <td>13-24</td>\n",
       "      <td>10</td>\n",
       "      <td>сторонники</td>\n",
       "    </tr>\n",
       "  </tbody>\n",
       "</table>\n",
       "</div>"
      ],
      "text/plain": [
       "  user_id  lt_day       is_new   age gender_segment  os_name cpe_type_name  \\\n",
       "0  A001A2    2320  действующий  45.0        женщина  ANDROID    SMARTPHONE   \n",
       "1  A001WF    2344  действующий  53.0        мужчина  ANDROID    SMARTPHONE   \n",
       "2  A003Q7     467  действующий  57.0        мужчина  ANDROID    SMARTPHONE   \n",
       "\n",
       "  country    city age_segment traffic_segment lifetime_segment  nps_score  \\\n",
       "0  Россия     Уфа       45-54             1-5              36+         10   \n",
       "1  Россия   Киров       45-54             1-5              36+         10   \n",
       "2  Россия  Москва       55-64           20-25            13-24         10   \n",
       "\n",
       "    nps_group  \n",
       "0  сторонники  \n",
       "1  сторонники  \n",
       "2  сторонники  "
      ]
     },
     "execution_count": 4,
     "metadata": {},
     "output_type": "execute_result"
    }
   ],
   "source": [
    "df = pd.read_sql(query, engine)\n",
    "df.head(3)"
   ]
  },
  {
   "cell_type": "code",
   "execution_count": 5,
   "id": "9db04858",
   "metadata": {},
   "outputs": [],
   "source": [
    "df.to_csv('telecomm_csi_tableau.csv', index=False)"
   ]
  },
  {
   "cell_type": "markdown",
   "id": "af1e61b6-ca02-422a-90c0-9a5d7963629c",
   "metadata": {},
   "source": [
    "# Dashboard в Tableau public"
   ]
  },
  {
   "cell_type": "markdown",
   "id": "bdec2830",
   "metadata": {},
   "source": [
    "<a href='https://public.tableau.com/app/profile/kiryl.panasik/viz/NPS_DB/sheet10'> Ссылка на дашборд «Общая информация о пользователях»</a>"
   ]
  },
  {
   "cell_type": "markdown",
   "id": "ed5e5c45",
   "metadata": {},
   "source": [
    "<a href='https://public.tableau.com/app/profile/kiryl.panasik/viz/NPS_DB2/NPS_6'> Ссылка на дашборд «Анализ NPS и черты сторонников»</a>"
   ]
  },
  {
   "cell_type": "markdown",
   "id": "7e78c1e9",
   "metadata": {},
   "source": [
    "<a id=\"conclusion\"></a>\n",
    "# Общие выводы"
   ]
  },
  {
   "cell_type": "markdown",
   "id": "0b4d4d31",
   "metadata": {},
   "source": [
    "В результате анализа данных можно сделать следующие основные выводы:\n",
    "- общее число участников опроса составило порядка 502 тыс. пользователей;\n",
    "- основная масса пользователей - это лица возраста 25-54 лет, т.е. граждане платежеспособного возраста (на их долю приходится фактически 83% от общего числа опрошенных пользователей);\n",
    "- доля действующих (со сроком жизни свыше 365 дн.) пользователей существенно выше новых пользователей (83% против 17%). \n",
    "При этом следует отметить, что наибольшее число новых пользователей приходится на категорию от 25 до 34 лет. В целом доля новых пользователей существенно выше в возрастных группах 25-44 года (31,6%-38,63%) и существенно превышает, как общую долю новых пользователей (17,03%), так и долю новых пользователей в остальных возрастных группах (там доля новых пользователей не превышает 14%).\n",
    "- пользователи в целом являются лояльными по отношению к сервисам компании с уч. индекса NPS равного 21,97%;\n",
    "- наибольшее число опрошенных проживают в крупных городах, таких как Москва, Санкт-Петербург, Новосибирск, Екатеринбург.\n",
    "- а основная масса пользователей использует смартфон на андроид (порядка 85% пользователей) или смартфон на iOS (12% пользователей).\n",
    "\n",
    "Что же касается динамики NPS следует отметить следующие ключевые моменты:\n",
    "- женщины более лояльны к уровню сервиса нежели мужчины на протяжении всей жизни самого пользователя (т.е. в рамках всех возрастных групп);\n",
    "- уровень лояльности растет с возрастом пользователей (это относится, как к мужчинам, так и женщинам);\n",
    "- при этом с увеличение срока использования сервисов компании лояльность к сервису уменьшается;\n",
    "- пользователи андроид существенно лояльнее пользователей iOS;\n",
    "- а наиболее лояльные клиенты проживают в Москве и в целом западной части России (за искл. Воронежа с наихудшим уровнем лояльности в рамках выделенных категорий городов), наименее лояльные - в районе Урала и Сибири.\n",
    "\n",
    "Оптимальным с т.зр. компании пользователем (сторонником сервиса) является пользователь со следующими характеристиками:\n",
    "- женщина;\n",
    "- срок использования сервисов до 1 года;\n",
    "- место жительства - Москва;\n",
    "- использует планшет или смартфон на андроиде;\n",
    "- возраст - старший возрастной сегмент, в т.ч. пожилой (старше 50 лет).\n",
    "\n",
    "Наименее лояльный пользователь в среднем:\n",
    "- мужчина / парень;\n",
    "- возраст до 25;\n",
    "- пользуется iphone;\n",
    "- срок использования сервисов - свыше 3 лет;\n",
    "- проживает в Воронеже или в районе Урала и Сибири.\n",
    "\n",
    "В целом, для повышения уровня лояльности мы можем рекомендовать компании уделить отдельное внимание работе с пользователями, которые давно являются клиентами сервиса, а также подростающему поколению, отдельно проанализировать причины столь низких показателей лояльности пользователей на iOS и уделить внимание сервису в ряде регионов РФ с низким уровнем лояльности."
   ]
  }
 ],
 "metadata": {
  "ExecuteTimeLog": [
   {
    "duration": 571,
    "start_time": "2024-02-20T16:39:58.158Z"
   },
   {
    "duration": 91,
    "start_time": "2024-02-20T16:39:59.297Z"
   },
   {
    "duration": 3,
    "start_time": "2024-02-20T16:40:01.612Z"
   },
   {
    "duration": 512,
    "start_time": "2024-02-20T16:40:03.359Z"
   },
   {
    "duration": 7,
    "start_time": "2024-02-20T16:40:09.335Z"
   },
   {
    "duration": 3,
    "start_time": "2024-02-20T16:47:39.407Z"
   },
   {
    "duration": 3810,
    "start_time": "2024-02-20T16:47:39.970Z"
   },
   {
    "duration": 2776,
    "start_time": "2024-02-20T16:47:43.782Z"
   },
   {
    "duration": 2,
    "start_time": "2024-02-20T16:48:30.420Z"
   },
   {
    "duration": 544,
    "start_time": "2024-02-20T16:48:33.182Z"
   },
   {
    "duration": 2,
    "start_time": "2024-02-20T16:48:41.015Z"
   },
   {
    "duration": 538,
    "start_time": "2024-02-20T16:48:42.053Z"
   },
   {
    "duration": 2878,
    "start_time": "2024-02-20T16:48:42.761Z"
   },
   {
    "duration": 2,
    "start_time": "2024-02-20T16:48:51.974Z"
   },
   {
    "duration": 3584,
    "start_time": "2024-02-20T16:48:53.319Z"
   },
   {
    "duration": 3,
    "start_time": "2024-02-20T16:56:59.498Z"
   },
   {
    "duration": 3,
    "start_time": "2024-02-20T17:20:36.014Z"
   },
   {
    "duration": 2160,
    "start_time": "2024-02-20T17:20:37.056Z"
   },
   {
    "duration": 941,
    "start_time": "2024-02-20T17:20:39.217Z"
   },
   {
    "duration": 3,
    "start_time": "2024-02-20T17:20:45.097Z"
   },
   {
    "duration": 3,
    "start_time": "2024-02-20T17:21:42.712Z"
   },
   {
    "duration": 568,
    "start_time": "2024-02-20T17:21:45.036Z"
   },
   {
    "duration": 3,
    "start_time": "2024-02-20T17:22:07.632Z"
   },
   {
    "duration": 2426,
    "start_time": "2024-02-20T17:22:08.517Z"
   },
   {
    "duration": 3,
    "start_time": "2024-02-20T17:26:44.089Z"
   },
   {
    "duration": 2668,
    "start_time": "2024-02-20T17:26:45.740Z"
   },
   {
    "duration": 2546,
    "start_time": "2024-02-20T17:26:48.410Z"
   },
   {
    "duration": 3,
    "start_time": "2024-02-20T17:31:46.846Z"
   },
   {
    "duration": 3,
    "start_time": "2024-02-20T17:31:53.796Z"
   },
   {
    "duration": 2580,
    "start_time": "2024-02-20T17:31:55.185Z"
   },
   {
    "duration": 3106,
    "start_time": "2024-02-20T17:31:57.766Z"
   },
   {
    "duration": 2,
    "start_time": "2024-02-20T17:32:22.567Z"
   },
   {
    "duration": 2361,
    "start_time": "2024-02-20T17:32:24.954Z"
   },
   {
    "duration": 3,
    "start_time": "2024-02-20T17:34:48.864Z"
   },
   {
    "duration": 445,
    "start_time": "2024-02-20T17:34:50.898Z"
   },
   {
    "duration": 3,
    "start_time": "2024-02-20T17:34:55.616Z"
   },
   {
    "duration": 3234,
    "start_time": "2024-02-20T17:34:57.080Z"
   },
   {
    "duration": 3,
    "start_time": "2024-02-20T18:19:48.655Z"
   },
   {
    "duration": 608,
    "start_time": "2024-02-20T18:20:16.262Z"
   },
   {
    "duration": 90,
    "start_time": "2024-02-20T18:20:16.872Z"
   },
   {
    "duration": 4,
    "start_time": "2024-02-20T18:20:16.963Z"
   },
   {
    "duration": 0,
    "start_time": "2024-02-20T18:20:45.593Z"
   },
   {
    "duration": 0,
    "start_time": "2024-02-20T18:20:45.594Z"
   },
   {
    "duration": 0,
    "start_time": "2024-02-20T18:20:45.595Z"
   },
   {
    "duration": 3,
    "start_time": "2024-02-20T18:20:47.604Z"
   },
   {
    "duration": 71,
    "start_time": "2024-02-20T18:20:47.932Z"
   },
   {
    "duration": 3,
    "start_time": "2024-02-20T18:20:48.204Z"
   },
   {
    "duration": 53,
    "start_time": "2024-02-20T18:21:15.291Z"
   },
   {
    "duration": 6,
    "start_time": "2024-02-20T18:21:20.961Z"
   },
   {
    "duration": 577,
    "start_time": "2024-02-20T18:21:22.868Z"
   },
   {
    "duration": 82,
    "start_time": "2024-02-20T18:21:23.447Z"
   },
   {
    "duration": 5,
    "start_time": "2024-02-20T18:21:25.053Z"
   },
   {
    "duration": 23935,
    "start_time": "2024-02-20T18:21:26.661Z"
   },
   {
    "duration": 22832,
    "start_time": "2024-02-20T18:21:50.599Z"
   },
   {
    "duration": 2,
    "start_time": "2024-02-20T18:22:25.523Z"
   },
   {
    "duration": 560,
    "start_time": "2024-02-20T18:22:27.606Z"
   },
   {
    "duration": 4,
    "start_time": "2024-02-20T18:29:50.113Z"
   },
   {
    "duration": 757,
    "start_time": "2024-02-20T18:29:51.508Z"
   },
   {
    "duration": 3,
    "start_time": "2024-02-20T18:31:19.784Z"
   },
   {
    "duration": 667,
    "start_time": "2024-02-20T18:31:20.668Z"
   },
   {
    "duration": 3,
    "start_time": "2024-02-20T18:35:57.632Z"
   },
   {
    "duration": 50,
    "start_time": "2024-02-20T18:36:09.682Z"
   },
   {
    "duration": 581,
    "start_time": "2024-02-20T18:36:13.971Z"
   },
   {
    "duration": 81,
    "start_time": "2024-02-20T18:36:14.554Z"
   },
   {
    "duration": 3,
    "start_time": "2024-02-20T18:36:15.243Z"
   },
   {
    "duration": 25308,
    "start_time": "2024-02-20T18:36:16.374Z"
   },
   {
    "duration": 28615,
    "start_time": "2024-02-20T18:37:06.714Z"
   },
   {
    "duration": 92,
    "start_time": "2024-02-20T18:41:16.631Z"
   },
   {
    "duration": 24586,
    "start_time": "2024-02-20T18:41:23.837Z"
   },
   {
    "duration": 3,
    "start_time": "2024-02-20T18:46:52.148Z"
   },
   {
    "duration": 87,
    "start_time": "2024-02-20T18:46:52.666Z"
   },
   {
    "duration": 3,
    "start_time": "2024-02-20T18:46:53.248Z"
   },
   {
    "duration": 54,
    "start_time": "2024-02-20T18:54:20.758Z"
   },
   {
    "duration": 612,
    "start_time": "2024-02-20T18:54:26.259Z"
   },
   {
    "duration": 80,
    "start_time": "2024-02-20T18:54:26.873Z"
   },
   {
    "duration": 3,
    "start_time": "2024-02-20T18:54:26.955Z"
   },
   {
    "duration": 25399,
    "start_time": "2024-02-20T18:54:26.959Z"
   },
   {
    "duration": 25230,
    "start_time": "2024-02-20T18:54:52.360Z"
   },
   {
    "duration": 50,
    "start_time": "2024-02-20T18:56:36.930Z"
   },
   {
    "duration": 610,
    "start_time": "2024-02-20T18:56:42.266Z"
   },
   {
    "duration": 91,
    "start_time": "2024-02-20T18:56:42.878Z"
   },
   {
    "duration": 4,
    "start_time": "2024-02-20T18:56:42.970Z"
   },
   {
    "duration": 26963,
    "start_time": "2024-02-20T18:56:42.976Z"
   },
   {
    "duration": 43654,
    "start_time": "2024-02-20T18:57:09.941Z"
   },
   {
    "duration": 12,
    "start_time": "2024-02-20T19:06:23.688Z"
   },
   {
    "duration": 46,
    "start_time": "2024-02-20T19:06:28.955Z"
   },
   {
    "duration": 591,
    "start_time": "2024-02-20T19:06:32.506Z"
   },
   {
    "duration": 94,
    "start_time": "2024-02-20T19:06:33.099Z"
   },
   {
    "duration": 2,
    "start_time": "2024-02-20T19:06:33.465Z"
   },
   {
    "duration": 587,
    "start_time": "2024-02-20T19:06:34.159Z"
   },
   {
    "duration": 83,
    "start_time": "2024-02-20T19:06:34.748Z"
   },
   {
    "duration": 595,
    "start_time": "2024-02-20T19:06:59.382Z"
   },
   {
    "duration": 559,
    "start_time": "2024-02-20T19:07:10.250Z"
   },
   {
    "duration": 558,
    "start_time": "2024-02-21T15:50:56.487Z"
   },
   {
    "duration": 79,
    "start_time": "2024-02-21T15:50:57.048Z"
   },
   {
    "duration": 7,
    "start_time": "2024-02-21T15:50:57.580Z"
   },
   {
    "duration": 25103,
    "start_time": "2024-02-21T15:50:58.608Z"
   },
   {
    "duration": 26633,
    "start_time": "2024-02-21T15:51:23.713Z"
   },
   {
    "duration": 2,
    "start_time": "2024-02-21T15:52:11.316Z"
   },
   {
    "duration": 471,
    "start_time": "2024-02-21T15:52:17.710Z"
   },
   {
    "duration": 478,
    "start_time": "2024-02-21T15:52:25.580Z"
   },
   {
    "duration": 6,
    "start_time": "2024-02-21T15:52:52.080Z"
   },
   {
    "duration": 479,
    "start_time": "2024-02-21T15:52:54.253Z"
   },
   {
    "duration": 2,
    "start_time": "2024-02-21T15:58:08.226Z"
   },
   {
    "duration": 9,
    "start_time": "2024-02-21T15:58:55.841Z"
   },
   {
    "duration": 49,
    "start_time": "2024-02-21T15:59:00.182Z"
   },
   {
    "duration": 571,
    "start_time": "2024-02-21T15:59:02.894Z"
   },
   {
    "duration": 72,
    "start_time": "2024-02-21T15:59:03.467Z"
   },
   {
    "duration": 2,
    "start_time": "2024-02-21T15:59:03.639Z"
   },
   {
    "duration": 535,
    "start_time": "2024-02-21T15:59:04.542Z"
   },
   {
    "duration": 70,
    "start_time": "2024-02-21T15:59:05.078Z"
   },
   {
    "duration": 2,
    "start_time": "2024-02-21T16:01:20.342Z"
   },
   {
    "duration": 490,
    "start_time": "2024-02-21T16:01:22.262Z"
   },
   {
    "duration": 2,
    "start_time": "2024-02-21T16:01:29.953Z"
   },
   {
    "duration": 496,
    "start_time": "2024-02-21T16:01:31.369Z"
   },
   {
    "duration": 3,
    "start_time": "2024-02-21T16:15:26.092Z"
   },
   {
    "duration": 1675,
    "start_time": "2024-02-21T16:15:30.576Z"
   },
   {
    "duration": 3,
    "start_time": "2024-02-21T16:16:30.818Z"
   },
   {
    "duration": 534,
    "start_time": "2024-02-21T16:16:31.979Z"
   },
   {
    "duration": 3,
    "start_time": "2024-02-21T16:24:09.211Z"
   },
   {
    "duration": 5981,
    "start_time": "2024-02-21T16:24:14.915Z"
   },
   {
    "duration": 5744,
    "start_time": "2024-02-21T16:24:20.900Z"
   },
   {
    "duration": 5915,
    "start_time": "2024-02-21T16:24:41.503Z"
   },
   {
    "duration": 2,
    "start_time": "2024-02-21T16:26:20.072Z"
   },
   {
    "duration": 5913,
    "start_time": "2024-02-21T16:26:21.539Z"
   },
   {
    "duration": 5942,
    "start_time": "2024-02-21T16:26:27.454Z"
   },
   {
    "duration": 5520,
    "start_time": "2024-02-21T16:28:08.450Z"
   },
   {
    "duration": 5565,
    "start_time": "2024-02-21T16:28:13.972Z"
   },
   {
    "duration": 544,
    "start_time": "2024-02-21T16:38:48.485Z"
   },
   {
    "duration": 70,
    "start_time": "2024-02-21T16:38:49.031Z"
   },
   {
    "duration": 3,
    "start_time": "2024-02-21T16:38:49.103Z"
   },
   {
    "duration": 5829,
    "start_time": "2024-02-21T16:38:49.107Z"
   },
   {
    "duration": 5268,
    "start_time": "2024-02-21T16:38:54.938Z"
   },
   {
    "duration": 3,
    "start_time": "2024-02-21T17:08:16.381Z"
   },
   {
    "duration": 5756,
    "start_time": "2024-02-21T17:08:17.285Z"
   },
   {
    "duration": 5046,
    "start_time": "2024-02-21T17:08:27.261Z"
   },
   {
    "duration": 8,
    "start_time": "2024-02-22T16:12:27.228Z"
   },
   {
    "duration": 52,
    "start_time": "2024-02-22T16:12:28.706Z"
   },
   {
    "duration": 8,
    "start_time": "2024-02-22T16:12:30.893Z"
   },
   {
    "duration": 2,
    "start_time": "2024-02-22T16:12:39.716Z"
   },
   {
    "duration": 6,
    "start_time": "2024-02-22T16:12:40.736Z"
   },
   {
    "duration": 6,
    "start_time": "2024-02-22T16:12:41.673Z"
   },
   {
    "duration": 494,
    "start_time": "2024-02-22T16:12:48.303Z"
   },
   {
    "duration": 91,
    "start_time": "2024-02-22T16:12:48.799Z"
   },
   {
    "duration": 3,
    "start_time": "2024-02-22T16:12:48.892Z"
   },
   {
    "duration": 736,
    "start_time": "2024-02-22T16:12:48.896Z"
   },
   {
    "duration": 0,
    "start_time": "2024-02-22T16:12:49.634Z"
   },
   {
    "duration": 460,
    "start_time": "2024-02-22T16:13:23.054Z"
   },
   {
    "duration": 77,
    "start_time": "2024-02-22T16:13:23.516Z"
   },
   {
    "duration": 3,
    "start_time": "2024-02-22T16:13:23.595Z"
   },
   {
    "duration": 700,
    "start_time": "2024-02-22T16:13:23.600Z"
   },
   {
    "duration": 0,
    "start_time": "2024-02-22T16:13:24.302Z"
   },
   {
    "duration": 2,
    "start_time": "2024-02-22T16:14:07.436Z"
   },
   {
    "duration": 3,
    "start_time": "2024-02-22T16:15:14.805Z"
   },
   {
    "duration": 5589,
    "start_time": "2024-02-22T16:15:15.727Z"
   },
   {
    "duration": 5024,
    "start_time": "2024-02-22T16:15:21.318Z"
   },
   {
    "duration": 4,
    "start_time": "2024-02-22T16:36:21.248Z"
   },
   {
    "duration": 5404,
    "start_time": "2024-02-22T16:36:22.175Z"
   },
   {
    "duration": 4722,
    "start_time": "2024-02-22T16:36:27.581Z"
   },
   {
    "duration": 560,
    "start_time": "2024-02-22T16:36:38.361Z"
   },
   {
    "duration": 77,
    "start_time": "2024-02-22T16:36:38.923Z"
   },
   {
    "duration": 3,
    "start_time": "2024-02-22T16:36:39.001Z"
   },
   {
    "duration": 5377,
    "start_time": "2024-02-22T16:36:39.006Z"
   },
   {
    "duration": 4737,
    "start_time": "2024-02-22T16:36:44.385Z"
   },
   {
    "duration": 4,
    "start_time": "2024-02-22T16:41:21.891Z"
   },
   {
    "duration": 535,
    "start_time": "2024-02-22T16:41:29.793Z"
   },
   {
    "duration": 79,
    "start_time": "2024-02-22T16:41:30.330Z"
   },
   {
    "duration": 3,
    "start_time": "2024-02-22T16:41:30.410Z"
   },
   {
    "duration": 5592,
    "start_time": "2024-02-22T16:41:30.415Z"
   },
   {
    "duration": 5059,
    "start_time": "2024-02-22T16:41:36.008Z"
   },
   {
    "duration": 550,
    "start_time": "2024-02-24T10:05:01.468Z"
   },
   {
    "duration": 11,
    "start_time": "2024-02-24T10:05:02.020Z"
   },
   {
    "duration": 55,
    "start_time": "2024-02-24T10:05:02.033Z"
   },
   {
    "duration": 6958,
    "start_time": "2024-02-24T10:05:02.090Z"
   },
   {
    "duration": 5112,
    "start_time": "2024-02-24T10:05:09.050Z"
   },
   {
    "duration": 757,
    "start_time": "2024-02-24T10:20:57.905Z"
   },
   {
    "duration": 545,
    "start_time": "2024-02-24T11:00:55.917Z"
   },
   {
    "duration": 11,
    "start_time": "2024-02-24T11:00:56.464Z"
   },
   {
    "duration": 6,
    "start_time": "2024-02-24T11:00:56.477Z"
   },
   {
    "duration": 6716,
    "start_time": "2024-02-24T11:00:56.484Z"
   },
   {
    "duration": 5568,
    "start_time": "2024-02-24T11:01:03.203Z"
   },
   {
    "duration": 723,
    "start_time": "2024-02-24T14:29:02.327Z"
   },
   {
    "duration": 11,
    "start_time": "2024-02-24T14:29:03.052Z"
   },
   {
    "duration": 3,
    "start_time": "2024-02-24T14:29:03.065Z"
   },
   {
    "duration": 6807,
    "start_time": "2024-02-24T14:29:03.070Z"
   },
   {
    "duration": 5858,
    "start_time": "2024-02-24T14:29:09.879Z"
   },
   {
    "duration": 643,
    "start_time": "2024-02-24T14:37:07.322Z"
   },
   {
    "duration": 10,
    "start_time": "2024-02-24T14:37:07.967Z"
   },
   {
    "duration": 22,
    "start_time": "2024-02-24T14:37:07.979Z"
   },
   {
    "duration": 6678,
    "start_time": "2024-02-24T14:37:08.004Z"
   },
   {
    "duration": 5131,
    "start_time": "2024-02-24T14:37:14.683Z"
   }
  ],
  "celltoolbar": "Create Assignment",
  "kernelspec": {
   "display_name": "Python 3 (ipykernel)",
   "language": "python",
   "name": "python3"
  },
  "language_info": {
   "codemirror_mode": {
    "name": "ipython",
    "version": 3
   },
   "file_extension": ".py",
   "mimetype": "text/x-python",
   "name": "python",
   "nbconvert_exporter": "python",
   "pygments_lexer": "ipython3",
   "version": "3.11.7"
  },
  "toc": {
   "base_numbering": 1,
   "nav_menu": {},
   "number_sections": true,
   "sideBar": true,
   "skip_h1_title": true,
   "title_cell": "Table of Contents",
   "title_sidebar": "Contents",
   "toc_cell": false,
   "toc_position": {},
   "toc_section_display": true,
   "toc_window_display": false
  }
 },
 "nbformat": 4,
 "nbformat_minor": 5
}
